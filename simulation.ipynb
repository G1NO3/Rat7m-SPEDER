{
 "cells": [
  {
   "cell_type": "code",
   "execution_count": null,
   "metadata": {},
   "outputs": [],
   "source": [
    "import numpy as np\n",
    "import torch\n",
    "import math\n",
    "from torch import nn\n",
    "import torch.nn.functional as F\n",
    "from torch import distributions as pyd\n",
    "\n",
    "from utils import util, buffer\n",
    "import pandas as pd\n",
    "import matplotlib as mpl\n",
    "from matplotlib import pyplot as plt\n",
    "from sklearn.decomposition import NMF\n",
    "from utils import util, buffer\n",
    "import pickle\n",
    "import h5py\n",
    "from visualize import plot_gif"
   ]
  },
  {
   "cell_type": "code",
   "execution_count": 53,
   "metadata": {},
   "outputs": [
    {
     "name": "stdout",
     "output_type": "stream",
     "text": [
      "Replay buffer loaded from ./kms/replay_buffer_mildnormalized200_discreteaction.pth\n",
      "idx: 1434\n",
      "(array([0., 1., 2., 3., 4.]), array([ 118466,  980433, 4744336, 1029533,  127200]))\n",
      "[[2.]\n",
      " [2.]\n",
      " [2.]\n",
      " [2.]\n",
      " [2.]\n",
      " [2.]\n",
      " [2.]\n",
      " [2.]\n",
      " [2.]\n",
      " [2.]\n",
      " [2.]\n",
      " [2.]\n",
      " [2.]]\n"
     ]
    }
   ],
   "source": [
    "state_dim = 16\n",
    "action_dim = 16\n",
    "n_task = 10\n",
    "replay_buffer = buffer.ReplayBuffer(state_dim, action_dim, 1000000, 'cpu')\n",
    "replay_buffer_path = f'./kms/replay_buffer_mildnormalized200_discreteaction.pth'\n",
    "replay_buffer.load_state_dict(torch.load(replay_buffer_path))\n",
    "print(f'Replay buffer loaded from {replay_buffer_path}')\n",
    "idx = np.where(replay_buffer.task == 2)[0][48]\n",
    "print('idx:', idx)\n",
    "action = replay_buffer.action\n",
    "print(np.unique(action, return_counts=True))\n",
    "task = replay_buffer.task\n",
    "print(task[idx:idx+13])"
   ]
  },
  {
   "cell_type": "code",
   "execution_count": 52,
   "metadata": {},
   "outputs": [
    {
     "name": "stdout",
     "output_type": "stream",
     "text": [
      "actionseq: [[2. 2. 2. 1. 2. 1. 1. 2. 1. 2. 2. 1. 1. 1. 2. 1.]\n",
      " [3. 2. 3. 1. 2. 2. 2. 1. 2. 1. 2. 1. 2. 2. 2. 1.]\n",
      " [3. 2. 2. 1. 2. 0. 2. 0. 1. 1. 1. 1. 1. 0. 1. 1.]\n",
      " [3. 1. 2. 2. 2. 2. 1. 2. 1. 1. 2. 1. 2. 2. 2. 1.]\n",
      " [3. 1. 2. 1. 1. 2. 2. 2. 2. 2. 1. 2. 1. 1. 1. 2.]\n",
      " [2. 2. 2. 2. 2. 2. 1. 2. 2. 2. 2. 2. 1. 2. 2. 2.]\n",
      " [2. 2. 2. 2. 2. 2. 2. 2. 1. 2. 2. 2. 2. 2. 2. 2.]\n",
      " [2. 2. 2. 2. 1. 2. 2. 2. 2. 2. 1. 1. 1. 2. 2. 2.]\n",
      " [2. 2. 2. 2. 2. 2. 2. 2. 2. 2. 3. 2. 3. 2. 2. 2.]\n",
      " [2. 2. 2. 2. 2. 2. 2. 2. 3. 2. 2. 3. 2. 2. 2. 2.]\n",
      " [2. 3. 2. 3. 3. 2. 2. 3. 2. 2. 2. 2. 2. 3. 3. 3.]\n",
      " [2. 2. 2. 3. 2. 3. 3. 2. 2. 3. 2. 2. 2. 2. 2. 2.]\n",
      " [2. 2. 2. 2. 2. 3. 2. 2. 2. 3. 1. 3. 3. 3. 1. 2.]]\n",
      "./figure/kms/mildnormalized200_discreteaction.gif\n"
     ]
    },
    {
     "data": {
      "image/png": "[encoded data removed]",
      "text/plain": [
       "<Figure size 500x600 with 1 Axes>"
      ]
     },
     "metadata": {},
     "output_type": "display_data"
    }
   ],
   "source": [
    "stateseq = replay_buffer.state[1434:1447]\n",
    "actionseq = replay_buffer.action[1434:1447]\n",
    "print('actionseq:', actionseq)\n",
    "plot_gif(stateseq, f'./figure/kms/mildnormalized200_discreteaction.gif')"
   ]
  },
  {
   "cell_type": "code",
   "execution_count": 3,
   "metadata": {},
   "outputs": [
    {
     "name": "stdout",
     "output_type": "stream",
     "text": [
      "tensor([[ 0.2379, -0.0859, -2.0457,  1.4932],\n",
      "        [-0.2551, -0.4723,  0.1096, -1.2483],\n",
      "        [ 0.0663, -1.3599, -0.2168, -1.3491]])\n"
     ]
    }
   ],
   "source": [
    "accept = torch.randn(1,1)<0.5\n",
    "A = torch.randn(3,4)\n",
    "B = torch.ones(3,4)\n",
    "C = torch.where(accept, A, B)\n",
    "print(C)"
   ]
  },
  {
   "cell_type": "code",
   "execution_count": 4,
   "metadata": {},
   "outputs": [
    {
     "data": {
      "text/plain": [
       "tensor([1, 2, 4])"
      ]
     },
     "execution_count": 4,
     "metadata": {},
     "output_type": "execute_result"
    }
   ],
   "source": [
    "a = torch.tensor([1.2, 2.5, 3.7])\n",
    "torch.round(a).long()"
   ]
  },
  {
   "cell_type": "code",
   "execution_count": 2,
   "metadata": {},
   "outputs": [],
   "source": [
    "def check_multiple_step_rollout(lr, syllable, replay_buffer):\n",
    "    syllable_idx = np.where(replay_buffer.task == syllable)[0]\n",
    "    transition = np.where(np.diff(syllable_idx) != 1)[0]+1\n",
    "    print(len(transition))\n",
    "    state_seqs = [None] * (len(transition)-1)\n",
    "    for i in range(len(transition)-1):\n",
    "        # print(transition[i], transition[i+1])\n",
    "        # print(syllable_idx[transition[i]:transition[i+1]-1])\n",
    "        state_seqs[i] = replay_buffer.state[syllable_idx[transition[i]:transition[i+1]-1]]\n",
    "        assert state_seqs[i].shape[-1] == 16\n",
    "    all_error = np.zeros(len(transition)-1)\n",
    "    for i in range(len(state_seqs)):\n",
    "        imitation_state_seq = np.zeros_like(state_seqs[i])\n",
    "        # print(state_seqs[i], transition[i], syllable_idx[transition[i]:transition[i+1]-1])\n",
    "        imitation_state_seq[0] = state_seqs[i][0]\n",
    "        for j in range(1, state_seqs[i].shape[0]):\n",
    "            imitation_state_seq[j] = lr.predict(imitation_state_seq[j-1].reshape(1, -1)).reshape(-1)\n",
    "        error = np.mean(np.abs(imitation_state_seq - state_seqs[i]))\n",
    "        # print(i, error)\n",
    "        all_error[i] = error\n",
    "    # print('all:', all_error.mean())\n",
    "    return all_error.mean()"
   ]
  },
  {
   "cell_type": "code",
   "execution_count": null,
   "metadata": {},
   "outputs": [
    {
     "name": "stdout",
     "output_type": "stream",
     "text": [
      "(349998, 16) (349998, 16)\n",
      "(87500, 16)\n",
      "[0.3644246  0.36313503 0.37074135 0.36491215 0.38038559 0.37109492\n",
      " 0.40129115 0.3936511  0.4571258  0.45046861 0.56214556 0.56401328\n",
      " 0.46329955 0.45762357 0.46072547 0.4529573 ] 0.4298746899117995\n"
     ]
    }
   ],
   "source": [
    "from sklearn.linear_model import LinearRegression\n",
    "from visualize import plot_gif\n",
    "lr = LinearRegression()\n",
    "replay_buffer_path = './kms/train_data.pth'\n",
    "replay_buffer_state_dict = torch.load(replay_buffer_path)\n",
    "state_dim, action_dim = 16, 16\n",
    "replay_buffer = buffer.ReplayBuffer(state_dim, action_dim, max_size=10000)\n",
    "replay_buffer.load_state_dict(replay_buffer_state_dict)\n",
    "state = replay_buffer_state_dict['state']\n",
    "action = replay_buffer_state_dict['action']\n",
    "print(state.shape, action.shape)    \n",
    "action_onehot = torch.eye(action_dim)[action.long()]\n",
    "next_state = replay_buffer_state_dict['next_state']\n",
    "print(state.shape, next_state.shape)\n",
    "# sa_input = np.concatenate([state, action], axis=1)\n",
    "# split train and test buffer\n",
    "# train_buffer_size = int(0.8 * len(znormalized_state))\n",
    "# print(train_buffer_size)\n",
    "lr.fit(state, action_onehot)\n",
    "test_buffer_path = './kms/test_data.pth'\n",
    "test_buffer_state_dict = torch.load(test_buffer_path)\n",
    "test_state = test_buffer_state_dict['state']\n",
    "test_action = test_buffer_state_dict['action']\n",
    "test_action_onehot = torch.eye(action_dim)[test_action.long()]\n",
    "test_next_state = test_buffer_state_dict['next_state']\n",
    "test_action_pred = lr.predict(test_state)\n",
    "error = np.abs(test_action_pred - test_action)\n",
    "print(error.shape)\n",
    "error_mean = np.mean(error, axis=0)\n",
    "print(error_mean, error_mean.mean())\n",
    "torch.save(lr, './kms/linear_model_discrete.pth')\n"
   ]
  },
  {
   "cell_type": "code",
   "execution_count": 7,
   "metadata": {},
   "outputs": [
    {
     "name": "stdout",
     "output_type": "stream",
     "text": [
      "(127103, 16) (127103, 80)\n",
      "action: [[2 2 2 2 2 2 2 2 2 2 2 2 2 2 2 2]]\n",
      "action: [[2 2 2 2 2 2 2 2 2 2 2 2 2 2 2 2]]\n",
      "action: [[2 2 2 2 2 2 2 2 2 2 2 2 2 2 2 2]]\n",
      "action: [[2 2 2 2 2 2 2 2 2 2 2 2 2 2 2 2]]\n",
      "action: [[2 2 2 2 2 2 2 2 2 2 2 2 2 2 2 2]]\n",
      "action: [[2 2 2 2 2 2 2 2 2 2 2 2 2 2 2 2]]\n",
      "action: [[2 2 2 2 2 2 2 2 2 2 2 2 2 2 2 2]]\n",
      "action: [[2 2 2 2 2 2 2 2 2 2 2 2 2 2 2 2]]\n",
      "action: [[2 2 2 2 2 2 2 2 2 2 2 2 2 2 2 2]]\n",
      "action: [[2 2 2 2 2 2 2 2 2 2 2 2 2 2 2 2]]\n",
      "action: [[2 2 2 2 2 2 2 2 2 2 2 2 2 2 2 2]]\n",
      "action: [[2 2 2 2 2 2 2 2 2 2 2 2 2 2 2 2]]\n",
      "action: [[2 2 2 2 2 2 2 2 2 2 2 2 2 2 2 2]]\n",
      "action: [[2 2 2 2 2 2 2 2 2 2 2 2 2 2 2 2]]\n",
      "action: [[2 2 2 2 2 2 2 2 2 2 2 2 2 2 2 2]]\n",
      "action: [[2 2 2 2 2 2 2 2 2 2 2 2 2 2 2 2]]\n",
      "action: [[2 2 2 2 2 2 2 2 2 2 2 2 2 2 2 2]]\n",
      "action: [[2 2 2 2 2 2 2 2 2 2 2 2 2 2 2 2]]\n",
      "action: [[2 2 2 2 2 2 2 2 2 2 2 2 2 2 2 2]]\n",
      "action: [[2 2 2 2 2 2 2 2 2 2 2 2 2 2 2 2]]\n",
      "action: [[2 2 2 2 2 2 2 2 2 2 2 2 2 2 2 2]]\n",
      "action: [[2 2 2 2 2 2 2 2 2 2 2 2 2 2 2 2]]\n",
      "action: [[2 2 2 2 2 2 2 2 2 2 2 2 2 2 2 2]]\n",
      "action: [[2 2 2 2 2 2 2 2 2 2 2 2 2 2 2 2]]\n",
      "action: [[2 2 2 2 2 2 2 2 2 2 2 2 2 2 2 2]]\n",
      "action: [[2 2 2 2 2 2 2 2 2 2 2 2 2 2 2 2]]\n",
      "action: [[2 2 2 2 2 2 2 2 2 2 2 2 2 2 2 2]]\n",
      "action: [[2 2 2 2 2 2 2 2 2 2 2 2 2 2 2 2]]\n",
      "action: [[2 2 2 2 2 2 2 2 2 2 2 2 2 2 2 2]]\n",
      "./figure/kms/linear_state_discrete/0task.gif\n",
      "(16,)\n",
      "(51406, 16) (51406, 80)\n",
      "action: [[2 2 2 2 2 2 2 2 2 2 2 2 2 2 2 2]]\n",
      "action: [[2 2 2 2 2 2 2 2 2 2 2 2 2 2 2 2]]\n",
      "action: [[2 2 2 2 2 2 2 2 2 2 2 2 2 2 2 2]]\n",
      "action: [[2 2 2 2 2 2 2 2 2 2 2 2 2 2 2 2]]\n",
      "action: [[2 2 2 2 2 2 2 2 2 2 2 2 2 2 2 2]]\n",
      "action: [[2 2 2 2 2 2 2 2 2 2 2 2 2 2 2 2]]\n",
      "action: [[2 2 2 2 2 2 2 2 2 2 2 2 2 2 2 2]]\n",
      "action: [[2 2 2 2 2 2 2 2 2 2 2 2 2 2 2 2]]\n",
      "action: [[2 2 2 2 2 2 2 2 2 2 2 2 2 2 2 2]]\n",
      "action: [[2 2 2 2 2 2 2 2 2 2 2 2 2 2 2 2]]\n",
      "action: [[2 2 2 2 2 2 2 2 2 2 2 2 2 2 2 2]]\n",
      "action: [[2 2 2 2 2 2 2 2 2 2 2 2 2 2 2 2]]\n",
      "action: [[2 2 2 2 2 2 2 2 2 2 2 2 2 2 2 2]]\n",
      "action: [[2 2 2 2 2 2 2 2 2 2 2 2 2 2 2 2]]\n",
      "action: [[2 2 2 2 2 2 2 2 2 2 2 2 2 2 2 2]]\n",
      "action: [[2 2 2 2 2 2 2 2 2 2 2 2 2 2 2 2]]\n",
      "action: [[2 2 2 2 2 2 2 2 2 2 2 2 2 2 2 2]]\n",
      "action: [[2 2 2 2 2 2 2 2 2 2 2 2 2 2 2 2]]\n",
      "action: [[2 2 2 2 2 2 2 2 2 2 2 2 2 2 2 2]]\n",
      "action: [[2 2 2 2 2 2 2 2 2 2 2 2 2 2 2 2]]\n",
      "action: [[2 2 2 2 2 2 2 2 2 2 2 2 2 2 2 2]]\n",
      "action: [[2 2 2 2 2 2 2 2 2 2 2 2 2 2 2 2]]\n",
      "action: [[2 2 2 2 2 2 2 2 2 2 2 2 2 2 2 2]]\n",
      "action: [[2 2 2 2 2 2 2 2 2 2 2 2 2 2 2 2]]\n",
      "action: [[2 2 2 2 2 2 2 2 2 2 2 2 2 2 2 2]]\n",
      "action: [[2 2 2 2 2 2 2 2 2 2 2 2 2 2 2 2]]\n",
      "action: [[2 2 2 2 2 2 2 2 2 2 2 2 2 2 2 2]]\n",
      "action: [[2 2 2 2 2 2 2 2 2 2 2 2 2 2 2 2]]\n",
      "action: [[2 2 2 2 2 2 2 2 2 2 2 2 2 2 2 2]]\n"
     ]
    },
    {
     "ename": "KeyboardInterrupt",
     "evalue": "",
     "output_type": "error",
     "traceback": [
      "\u001b[0;31m---------------------------------------------------------------------------\u001b[0m",
      "\u001b[0;31mKeyboardInterrupt\u001b[0m                         Traceback (most recent call last)",
      "Cell \u001b[0;32mIn[7], line 42\u001b[0m\n\u001b[1;32m     40\u001b[0m         state_seqs[i] \u001b[38;5;241m=\u001b[39m next_state\n\u001b[1;32m     41\u001b[0m         state \u001b[38;5;241m=\u001b[39m next_state\n\u001b[0;32m---> 42\u001b[0m     \u001b[43mplot_gif\u001b[49m\u001b[43m(\u001b[49m\u001b[43mstate_seqs\u001b[49m\u001b[43m,\u001b[49m\u001b[43m \u001b[49m\u001b[38;5;124;43mf\u001b[39;49m\u001b[38;5;124;43m'\u001b[39;49m\u001b[38;5;124;43m./figure/kms/linear_state_discrete/\u001b[39;49m\u001b[38;5;132;43;01m{\u001b[39;49;00m\u001b[43msyllable\u001b[49m\u001b[38;5;132;43;01m}\u001b[39;49;00m\u001b[38;5;124;43mtask.gif\u001b[39;49m\u001b[38;5;124;43m'\u001b[39;49m\u001b[43m)\u001b[49m\n\u001b[1;32m     43\u001b[0m     \u001b[38;5;28mprint\u001b[39m(state_seqs[\u001b[38;5;241m0\u001b[39m]\u001b[38;5;241m.\u001b[39mshape)\n\u001b[1;32m     44\u001b[0m     \u001b[38;5;66;03m# np.save(f'./kms/s_mean.npy', state_seqs[0].reshape(-1,2))\u001b[39;00m\n\u001b[1;32m     45\u001b[0m \u001b[38;5;66;03m# print('all:', all_error.mean())\u001b[39;00m\n",
      "File \u001b[0;32m~/original_rl-rep/spectral-rl2/visualize.py:217\u001b[0m, in \u001b[0;36mplot_gif\u001b[0;34m(stateseq, save_path)\u001b[0m\n\u001b[1;32m    215\u001b[0m \u001b[38;5;28;01mif\u001b[39;00m \u001b[38;5;129;01mnot\u001b[39;00m os\u001b[38;5;241m.\u001b[39mpath\u001b[38;5;241m.\u001b[39mexists(os\u001b[38;5;241m.\u001b[39mpath\u001b[38;5;241m.\u001b[39mdirname(save_path)):\n\u001b[1;32m    216\u001b[0m   os\u001b[38;5;241m.\u001b[39mmakedirs(os\u001b[38;5;241m.\u001b[39mpath\u001b[38;5;241m.\u001b[39mdirname(save_path))\n\u001b[0;32m--> 217\u001b[0m \u001b[43mpil_images\u001b[49m\u001b[43m[\u001b[49m\u001b[38;5;241;43m0\u001b[39;49m\u001b[43m]\u001b[49m\u001b[38;5;241;43m.\u001b[39;49m\u001b[43msave\u001b[49m\u001b[43m(\u001b[49m\n\u001b[1;32m    218\u001b[0m \u001b[43m    \u001b[49m\u001b[43msave_path\u001b[49m\u001b[43m,\u001b[49m\n\u001b[1;32m    219\u001b[0m \u001b[43m    \u001b[49m\u001b[43msave_all\u001b[49m\u001b[38;5;241;43m=\u001b[39;49m\u001b[38;5;28;43;01mTrue\u001b[39;49;00m\u001b[43m,\u001b[49m\n\u001b[1;32m    220\u001b[0m \u001b[43m    \u001b[49m\u001b[43mappend_images\u001b[49m\u001b[38;5;241;43m=\u001b[39;49m\u001b[43mpil_images\u001b[49m\u001b[43m[\u001b[49m\u001b[38;5;241;43m1\u001b[39;49m\u001b[43m:\u001b[49m\u001b[43m]\u001b[49m\u001b[43m,\u001b[49m\n\u001b[1;32m    221\u001b[0m \u001b[43m    \u001b[49m\u001b[43mduration\u001b[49m\u001b[38;5;241;43m=\u001b[39;49m\u001b[38;5;241;43m100\u001b[39;49m\u001b[43m,\u001b[49m\n\u001b[1;32m    222\u001b[0m \u001b[43m    \u001b[49m\u001b[43mloop\u001b[49m\u001b[38;5;241;43m=\u001b[39;49m\u001b[38;5;241;43m0\u001b[39;49m\u001b[43m,\u001b[49m\n\u001b[1;32m    223\u001b[0m \u001b[43m\u001b[49m\u001b[43m)\u001b[49m\n\u001b[1;32m    224\u001b[0m \u001b[38;5;28mprint\u001b[39m(save_path)\n",
      "File \u001b[0;32m~/anaconda3/envs/mixer/lib/python3.8/site-packages/PIL/Image.py:2568\u001b[0m, in \u001b[0;36mImage.save\u001b[0;34m(self, fp, format, **params)\u001b[0m\n\u001b[1;32m   2565\u001b[0m     fp \u001b[38;5;241m=\u001b[39m cast(IO[\u001b[38;5;28mbytes\u001b[39m], fp)\n\u001b[1;32m   2567\u001b[0m \u001b[38;5;28;01mtry\u001b[39;00m:\n\u001b[0;32m-> 2568\u001b[0m     \u001b[43msave_handler\u001b[49m\u001b[43m(\u001b[49m\u001b[38;5;28;43mself\u001b[39;49m\u001b[43m,\u001b[49m\u001b[43m \u001b[49m\u001b[43mfp\u001b[49m\u001b[43m,\u001b[49m\u001b[43m \u001b[49m\u001b[43mfilename\u001b[49m\u001b[43m)\u001b[49m\n\u001b[1;32m   2569\u001b[0m \u001b[38;5;28;01mexcept\u001b[39;00m \u001b[38;5;167;01mException\u001b[39;00m:\n\u001b[1;32m   2570\u001b[0m     \u001b[38;5;28;01mif\u001b[39;00m open_fp:\n",
      "File \u001b[0;32m~/anaconda3/envs/mixer/lib/python3.8/site-packages/PIL/GifImagePlugin.py:737\u001b[0m, in \u001b[0;36m_save_all\u001b[0;34m(im, fp, filename)\u001b[0m\n\u001b[1;32m    736\u001b[0m \u001b[38;5;28;01mdef\u001b[39;00m \u001b[38;5;21m_save_all\u001b[39m(im: Image\u001b[38;5;241m.\u001b[39mImage, fp: IO[\u001b[38;5;28mbytes\u001b[39m], filename: \u001b[38;5;28mstr\u001b[39m \u001b[38;5;241m|\u001b[39m \u001b[38;5;28mbytes\u001b[39m) \u001b[38;5;241m-\u001b[39m\u001b[38;5;241m>\u001b[39m \u001b[38;5;28;01mNone\u001b[39;00m:\n\u001b[0;32m--> 737\u001b[0m     \u001b[43m_save\u001b[49m\u001b[43m(\u001b[49m\u001b[43mim\u001b[49m\u001b[43m,\u001b[49m\u001b[43m \u001b[49m\u001b[43mfp\u001b[49m\u001b[43m,\u001b[49m\u001b[43m \u001b[49m\u001b[43mfilename\u001b[49m\u001b[43m,\u001b[49m\u001b[43m \u001b[49m\u001b[43msave_all\u001b[49m\u001b[38;5;241;43m=\u001b[39;49m\u001b[38;5;28;43;01mTrue\u001b[39;49;00m\u001b[43m)\u001b[49m\n",
      "File \u001b[0;32m~/anaconda3/envs/mixer/lib/python3.8/site-packages/PIL/GifImagePlugin.py:750\u001b[0m, in \u001b[0;36m_save\u001b[0;34m(im, fp, filename, save_all)\u001b[0m\n\u001b[1;32m    747\u001b[0m     palette \u001b[38;5;241m=\u001b[39m \u001b[38;5;28;01mNone\u001b[39;00m\n\u001b[1;32m    748\u001b[0m     im\u001b[38;5;241m.\u001b[39mencoderinfo\u001b[38;5;241m.\u001b[39msetdefault(\u001b[38;5;124m\"\u001b[39m\u001b[38;5;124moptimize\u001b[39m\u001b[38;5;124m\"\u001b[39m, \u001b[38;5;28;01mTrue\u001b[39;00m)\n\u001b[0;32m--> 750\u001b[0m \u001b[38;5;28;01mif\u001b[39;00m \u001b[38;5;129;01mnot\u001b[39;00m save_all \u001b[38;5;129;01mor\u001b[39;00m \u001b[38;5;129;01mnot\u001b[39;00m \u001b[43m_write_multiple_frames\u001b[49m\u001b[43m(\u001b[49m\u001b[43mim\u001b[49m\u001b[43m,\u001b[49m\u001b[43m \u001b[49m\u001b[43mfp\u001b[49m\u001b[43m,\u001b[49m\u001b[43m \u001b[49m\u001b[43mpalette\u001b[49m\u001b[43m)\u001b[49m:\n\u001b[1;32m    751\u001b[0m     _write_single_frame(im, fp, palette)\n\u001b[1;32m    753\u001b[0m fp\u001b[38;5;241m.\u001b[39mwrite(\u001b[38;5;124mb\u001b[39m\u001b[38;5;124m\"\u001b[39m\u001b[38;5;124m;\u001b[39m\u001b[38;5;124m\"\u001b[39m)  \u001b[38;5;66;03m# end of file\u001b[39;00m\n",
      "File \u001b[0;32m~/anaconda3/envs/mixer/lib/python3.8/site-packages/PIL/GifImagePlugin.py:629\u001b[0m, in \u001b[0;36m_write_multiple_frames\u001b[0;34m(im, fp, palette)\u001b[0m\n\u001b[1;32m    626\u001b[0m \u001b[38;5;28;01mfor\u001b[39;00m imSequence \u001b[38;5;129;01min\u001b[39;00m itertools\u001b[38;5;241m.\u001b[39mchain([im], im\u001b[38;5;241m.\u001b[39mencoderinfo\u001b[38;5;241m.\u001b[39mget(\u001b[38;5;124m\"\u001b[39m\u001b[38;5;124mappend_images\u001b[39m\u001b[38;5;124m\"\u001b[39m, [])):\n\u001b[1;32m    627\u001b[0m     \u001b[38;5;28;01mfor\u001b[39;00m im_frame \u001b[38;5;129;01min\u001b[39;00m ImageSequence\u001b[38;5;241m.\u001b[39mIterator(imSequence):\n\u001b[1;32m    628\u001b[0m         \u001b[38;5;66;03m# a copy is required here since seek can still mutate the image\u001b[39;00m\n\u001b[0;32m--> 629\u001b[0m         im_frame \u001b[38;5;241m=\u001b[39m \u001b[43m_normalize_mode\u001b[49m\u001b[43m(\u001b[49m\u001b[43mim_frame\u001b[49m\u001b[38;5;241;43m.\u001b[39;49m\u001b[43mcopy\u001b[49m\u001b[43m(\u001b[49m\u001b[43m)\u001b[49m\u001b[43m)\u001b[49m\n\u001b[1;32m    630\u001b[0m         \u001b[38;5;28;01mif\u001b[39;00m frame_count \u001b[38;5;241m==\u001b[39m \u001b[38;5;241m0\u001b[39m:\n\u001b[1;32m    631\u001b[0m             \u001b[38;5;28;01mfor\u001b[39;00m k, v \u001b[38;5;129;01min\u001b[39;00m im_frame\u001b[38;5;241m.\u001b[39minfo\u001b[38;5;241m.\u001b[39mitems():\n",
      "File \u001b[0;32m~/anaconda3/envs/mixer/lib/python3.8/site-packages/PIL/GifImagePlugin.py:498\u001b[0m, in \u001b[0;36m_normalize_mode\u001b[0;34m(im)\u001b[0m\n\u001b[1;32m    496\u001b[0m     \u001b[38;5;28;01mreturn\u001b[39;00m im\n\u001b[1;32m    497\u001b[0m \u001b[38;5;28;01mif\u001b[39;00m Image\u001b[38;5;241m.\u001b[39mgetmodebase(im\u001b[38;5;241m.\u001b[39mmode) \u001b[38;5;241m==\u001b[39m \u001b[38;5;124m\"\u001b[39m\u001b[38;5;124mRGB\u001b[39m\u001b[38;5;124m\"\u001b[39m:\n\u001b[0;32m--> 498\u001b[0m     im \u001b[38;5;241m=\u001b[39m \u001b[43mim\u001b[49m\u001b[38;5;241;43m.\u001b[39;49m\u001b[43mconvert\u001b[49m\u001b[43m(\u001b[49m\u001b[38;5;124;43m\"\u001b[39;49m\u001b[38;5;124;43mP\u001b[39;49m\u001b[38;5;124;43m\"\u001b[39;49m\u001b[43m,\u001b[49m\u001b[43m \u001b[49m\u001b[43mpalette\u001b[49m\u001b[38;5;241;43m=\u001b[39;49m\u001b[43mImage\u001b[49m\u001b[38;5;241;43m.\u001b[39;49m\u001b[43mPalette\u001b[49m\u001b[38;5;241;43m.\u001b[39;49m\u001b[43mADAPTIVE\u001b[49m\u001b[43m)\u001b[49m\n\u001b[1;32m    499\u001b[0m     \u001b[38;5;28;01mif\u001b[39;00m im\u001b[38;5;241m.\u001b[39mpalette\u001b[38;5;241m.\u001b[39mmode \u001b[38;5;241m==\u001b[39m \u001b[38;5;124m\"\u001b[39m\u001b[38;5;124mRGBA\u001b[39m\u001b[38;5;124m\"\u001b[39m:\n\u001b[1;32m    500\u001b[0m         \u001b[38;5;28;01mfor\u001b[39;00m rgba \u001b[38;5;129;01min\u001b[39;00m im\u001b[38;5;241m.\u001b[39mpalette\u001b[38;5;241m.\u001b[39mcolors:\n",
      "File \u001b[0;32m~/anaconda3/envs/mixer/lib/python3.8/site-packages/PIL/Image.py:1104\u001b[0m, in \u001b[0;36mImage.convert\u001b[0;34m(self, mode, matrix, dither, palette, colors)\u001b[0m\n\u001b[1;32m   1101\u001b[0m             \u001b[38;5;28;01mraise\u001b[39;00m \u001b[38;5;167;01mValueError\u001b[39;00m(msg)\n\u001b[1;32m   1103\u001b[0m \u001b[38;5;28;01mif\u001b[39;00m mode \u001b[38;5;241m==\u001b[39m \u001b[38;5;124m\"\u001b[39m\u001b[38;5;124mP\u001b[39m\u001b[38;5;124m\"\u001b[39m \u001b[38;5;129;01mand\u001b[39;00m palette \u001b[38;5;241m==\u001b[39m Palette\u001b[38;5;241m.\u001b[39mADAPTIVE:\n\u001b[0;32m-> 1104\u001b[0m     im \u001b[38;5;241m=\u001b[39m \u001b[38;5;28;43mself\u001b[39;49m\u001b[38;5;241;43m.\u001b[39;49m\u001b[43mim\u001b[49m\u001b[38;5;241;43m.\u001b[39;49m\u001b[43mquantize\u001b[49m\u001b[43m(\u001b[49m\u001b[43mcolors\u001b[49m\u001b[43m)\u001b[49m\n\u001b[1;32m   1105\u001b[0m     new_im \u001b[38;5;241m=\u001b[39m \u001b[38;5;28mself\u001b[39m\u001b[38;5;241m.\u001b[39m_new(im)\n\u001b[1;32m   1106\u001b[0m     \u001b[38;5;28;01mfrom\u001b[39;00m \u001b[38;5;21;01m.\u001b[39;00m \u001b[38;5;28;01mimport\u001b[39;00m ImagePalette\n",
      "\u001b[0;31mKeyboardInterrupt\u001b[0m: "
     ]
    },
    {
     "data": {
      "image/png": "[encoded data removed]",
      "text/plain": [
       "<Figure size 500x600 with 1 Axes>"
      ]
     },
     "metadata": {},
     "output_type": "display_data"
    },
    {
     "data": {
      "image/png": "[encoded data removed]",
      "text/plain": [
       "<Figure size 500x600 with 1 Axes>"
      ]
     },
     "metadata": {},
     "output_type": "display_data"
    }
   ],
   "source": [
    "from sklearn.linear_model import LinearRegression\n",
    "from visualize import plot_gif\n",
    "\n",
    "replay_buffer_path = './kms/replay_buffer_mildnormalized200_discreteaction.pth'\n",
    "replay_buffer_state_dict = torch.load(replay_buffer_path)\n",
    "state_dim, action_dim = 16, 80\n",
    "replay_buffer = buffer.ReplayBuffer(state_dim, action_dim, max_size=10000)\n",
    "replay_buffer.load_state_dict(replay_buffer_state_dict)\n",
    "timestep = 30\n",
    "n_action = 5\n",
    "n_action_dim = 16\n",
    "state_seqs = np.zeros((timestep, state_dim))\n",
    "# all_error = np.zeros((10,))\n",
    "for syllable in range(10):\n",
    "    lr = LinearRegression()\n",
    "    all_idx = np.where(replay_buffer.task == syllable)[0]\n",
    "    state = replay_buffer.state[all_idx]\n",
    "    action = replay_buffer.action[all_idx]\n",
    "    action_onehot = np.eye(n_action)[np.int64(action)].reshape(-1, n_action_dim*n_action)\n",
    "    next_state = replay_buffer.next_state[all_idx]\n",
    "    print(state.shape, action_onehot.shape)\n",
    "    lr.fit(state, action_onehot)\n",
    "    new_action_onehot_pred = lr.predict(state)\n",
    "\n",
    "    # error = np.abs(new_next_state_pred - next_state)\n",
    "    # print(error.shape)\n",
    "    # error_mean = np.mean(error, axis=0)\n",
    "    # print(error_mean, error_mean.mean())\n",
    "    # all_error[syllable] = check_multiple_step_rollout(lr, syllable, replay_buffer)\n",
    "    # print(syllable, all_error[syllable])\n",
    "    sample_idx = all_idx[np.random.randint(len(all_idx))]\n",
    "    state = replay_buffer.state[sample_idx]\n",
    "    state_seqs[0] = state\n",
    "    for i in range(1, timestep):\n",
    "        action_onehot = lr.predict(state.reshape(1, -1))\n",
    "        action = np.argmax(action_onehot.reshape(1, n_action_dim, n_action), axis=-1)\n",
    "        print('action:', action)\n",
    "        # print('action:', action.shape)\n",
    "        next_state = (action-2)/100 + state\n",
    "        state_seqs[i] = next_state\n",
    "        state = next_state\n",
    "    plot_gif(state_seqs, f'./figure/kms/linear_state_discrete/{syllable}task.gif')\n",
    "    print(state_seqs[0].shape)\n",
    "    # np.save(f'./kms/s_mean.npy', state_seqs[0].reshape(-1,2))\n",
    "# print('all:', all_error.mean())"
   ]
  },
  {
   "cell_type": "markdown",
   "metadata": {},
   "source": [
    "Load replay buffer"
   ]
  },
  {
   "cell_type": "code",
   "execution_count": 15,
   "metadata": {},
   "outputs": [],
   "source": [
    "state_dim = 16\n",
    "action_dim = 16\n",
    "n_task = 10\n",
    "replay_buffer_path = './kms/replay_buffer_continuous_allaction.pth'\n",
    "replay_buffer = buffer.ReplayBuffer(state_dim, action_dim, 10000)\n",
    "replay_buffer.load_state_dict(torch.load(replay_buffer_path))"
   ]
  },
  {
   "cell_type": "code",
   "execution_count": 17,
   "metadata": {},
   "outputs": [
    {
     "name": "stdout",
     "output_type": "stream",
     "text": [
      "486124\n",
      "305.6994938040755\n"
     ]
    }
   ],
   "source": [
    "scale_factor = 200\n",
    "action_all = replay_buffer.action\n",
    "print(action_all.shape[0])\n",
    "# syllable_indicator = (replay_buffer.task == 3).squeeze()\n",
    "# print(len(np.where(all_idx)[0]))\n",
    "filtered_replay_buffer = buffer.ReplayBuffer(state_dim, action_dim, 10000)\n",
    "size = replay_buffer.size\n",
    "# filtered_replay_buffer.state = replay_buffer.state\n",
    "# filtered_replay_buffer.next_state = replay_buffer.next_state\n",
    "assert np.isclose(replay_buffer.state + replay_buffer.action, replay_buffer.next_state).all()\n",
    "new_state = replay_buffer.state\n",
    "new_next_state = replay_buffer.next_state\n",
    "\n",
    "state_mean = np.mean(np.concatenate([new_state, new_next_state[-2:]], axis=0))\n",
    "print(state_mean)\n",
    "mildnormalized_state = (new_state - state_mean) / scale_factor\n",
    "filtered_replay_buffer.state = mildnormalized_state\n",
    "\n",
    "mildnormalized_next_state = (new_next_state - state_mean) / scale_factor + np.random.normal(0, 1/scale_factor, new_next_state.shape)\n",
    "filtered_replay_buffer.next_state = mildnormalized_next_state\n",
    "\n",
    "new_action = replay_buffer.action\n",
    "# filtered_replay_buffer.action = new_action/2+2\n",
    "mildnormalized_action = new_action / scale_factor\n",
    "filtered_replay_buffer.action = mildnormalized_action\n",
    "\n",
    "filtered_replay_buffer.reward = replay_buffer.reward\n",
    "filtered_replay_buffer.done = replay_buffer.done\n",
    "filtered_replay_buffer.task = replay_buffer.task\n",
    "filtered_replay_buffer.next_task = replay_buffer.next_task\n",
    "filtered_replay_buffer.size = replay_buffer.size\n",
    "filtered_replay_buffer.ptr = 0\n",
    "\n",
    "# assert np.isclose(filtered_replay_buffer.state + filtered_replay_buffer.action, filtered_replay_buffer.next_state).all()\n",
    "torch.save(filtered_replay_buffer.state_dict(), './kms/replay_buffer_mildnormalized200_continuous_allaction.pth')"
   ]
  },
  {
   "cell_type": "code",
   "execution_count": 18,
   "metadata": {},
   "outputs": [
    {
     "name": "stdout",
     "output_type": "stream",
     "text": [
      "[-1.01 -0.99 -0.98 -0.97 -0.96 -0.93 -0.9  -0.85 -0.84 -0.83 -0.8  -0.78\n",
      " -0.75 -0.7  -0.66 -0.63 -0.62 -0.6  -0.59 -0.58 -0.57 -0.56 -0.55 -0.54\n",
      " -0.53 -0.52 -0.5  -0.49 -0.48 -0.46 -0.45 -0.44 -0.43 -0.42 -0.4  -0.38\n",
      " -0.37 -0.36 -0.35 -0.34 -0.33 -0.32 -0.31 -0.3  -0.29 -0.28 -0.27 -0.26\n",
      " -0.25 -0.24 -0.23 -0.22 -0.21 -0.2  -0.19 -0.18 -0.17 -0.16 -0.15 -0.14\n",
      " -0.13 -0.12 -0.11 -0.1  -0.09 -0.08 -0.07 -0.06 -0.05 -0.04 -0.03 -0.02\n",
      " -0.01  0.    0.01  0.02  0.03  0.04  0.05  0.06  0.07  0.08  0.09  0.1\n",
      "  0.11  0.12  0.13  0.14  0.15  0.16  0.17  0.18  0.19  0.2   0.21  0.22\n",
      "  0.23  0.24  0.25  0.26  0.27  0.28  0.29  0.3   0.31  0.32  0.33  0.34\n",
      "  0.35  0.36  0.37  0.38  0.39  0.4   0.41  0.43  0.44  0.48  0.49  0.51\n",
      "  0.52  0.53  0.54  0.55  0.56  0.59  0.6   0.62  0.63  0.65  0.67  0.68\n",
      "  0.72  0.78  0.8   0.82  0.83  0.84  0.85  0.86  0.92  0.93  0.99  1.01\n",
      "  1.02]\n"
     ]
    }
   ],
   "source": [
    "state_dim = 16\n",
    "action_dim = 16\n",
    "n_task = 10\n",
    "replay_buffer = buffer.ReplayBuffer(state_dim, action_dim, 10000)\n",
    "replay_buffer.load_state_dict(torch.load('./kms/replay_buffer_mildnormalized200_continuous_allaction.pth'))\n",
    "print(np.unique(replay_buffer.action))\n",
    "# action_onehot = np.eye(5)[replay_buffer.action.astype(int)]\n",
    "# print(action_onehot.shape)\n",
    "# replay_buffer.action = action_onehot.reshape(action_onehot.shape[0], -1)\n",
    "# replay_buffer.action = replay_buffer.action.astype(int)"
   ]
  },
  {
   "cell_type": "code",
   "execution_count": 10,
   "metadata": {},
   "outputs": [
    {
     "name": "stdout",
     "output_type": "stream",
     "text": [
      "349998 87500\n",
      "(array([0., 1., 2., 3., 4.]), array([  94918,  783917, 3794072,  825154,  101907]))\n",
      "(array([0., 1., 2., 3., 4.]), array([ 23548, 196516, 950264, 204379,  25293]))\n",
      "(array([0., 1.]), array([331161,  18837]))\n",
      "(array([0., 1.]), array([82793,  4707]))\n"
     ]
    }
   ],
   "source": [
    "idx = np.arange(replay_buffer.size)\n",
    "np.random.shuffle(idx)\n",
    "train_idx = idx[:int(replay_buffer.size * 0.8)]\n",
    "test_idx = idx[int(replay_buffer.size * 0.8):]\n",
    "train_data = {}\n",
    "test_data = {}\n",
    "key = ['state', 'action', 'next_state', 'reward', 'done', 'task', 'next_task']\n",
    "for k in key:\n",
    "    train_data[k] = replay_buffer.__getattribute__(k)[train_idx]\n",
    "    test_data[k] = replay_buffer.__getattribute__(k)[test_idx]\n",
    "train_data['size'] = len(train_idx)\n",
    "test_data['size'] = len(test_idx)\n",
    "train_data['ptr'] = 0\n",
    "test_data['ptr'] = 0\n",
    "# np.savez('./kms/train_data_sequential_discrete_action04.npz', **train_data)\n",
    "# np.savez('./kms/test_data_sequential_discrete_action04.npz', **test_data)\n",
    "torch.save(train_data, './kms/train_data.pth')\n",
    "torch.save(test_data, './kms/test_data.pth')\n",
    "print(len(train_idx), len(test_idx))\n",
    "print(np.unique(train_data['action'], return_counts=True))\n",
    "print(np.unique(test_data['action'], return_counts=True))\n",
    "print(np.unique(train_data['done'], return_counts=True))\n",
    "print(np.unique(test_data['done'], return_counts=True))"
   ]
  },
  {
   "cell_type": "code",
   "execution_count": 5,
   "metadata": {},
   "outputs": [
    {
     "data": {
      "text/plain": [
       "0.6778113732078469"
      ]
     },
     "execution_count": 5,
     "metadata": {},
     "output_type": "execute_result"
    }
   ],
   "source": [
    "3795722/(94596+784483+3795722+823329+101838)"
   ]
  },
  {
   "cell_type": "code",
   "execution_count": 8,
   "metadata": {},
   "outputs": [
    {
     "name": "stdout",
     "output_type": "stream",
     "text": [
      "dict_keys(['coordinates', 'bodyparts'])\n",
      "dict_keys(['22_04_26_cage4_0.top.irDLC_resnet50_moseq_exampleAug21shuffle1_500000', '21_12_2_def6b_2.top.irDLC_resnet50_moseq_exampleAug21shuffle1_500000', '21_12_10_def6a_3.top.irDLC_resnet50_moseq_exampleAug21shuffle1_500000', '21_12_10_def6a_1_1.top.irDLC_resnet50_moseq_exampleAug21shuffle1_500000', '22_04_26_cage4_1_1.top.irDLC_resnet50_moseq_exampleAug21shuffle1_500000', '21_12_2_def6a_1.top.irDLC_resnet50_moseq_exampleAug21shuffle1_500000', '21_12_10_def6b_3.top.irDLC_resnet50_moseq_exampleAug21shuffle1_500000', '22_04_26_cage4_0_2.top.irDLC_resnet50_moseq_exampleAug21shuffle1_500000', '21_11_8_one_mouse.top.irDLC_resnet50_moseq_exampleAug21shuffle1_500000', '22_27_04_cage4_mouse2_0.top.irDLC_resnet50_moseq_exampleAug21shuffle1_500000'])\n",
      "(53623, 9, 2)\n"
     ]
    }
   ],
   "source": [
    "dlc_sample = pickle.load(open('./kms/dlc_sample.pkl', 'rb'))\n",
    "print(dlc_sample.keys())\n",
    "print(dlc_sample['coordinates'].keys())\n",
    "print(dlc_sample['coordinates']['22_04_26_cage4_0.top.irDLC_resnet50_moseq_exampleAug21shuffle1_500000'].shape)"
   ]
  },
  {
   "cell_type": "code",
   "execution_count": 9,
   "metadata": {},
   "outputs": [
    {
     "name": "stdout",
     "output_type": "stream",
     "text": [
      "[14 14 14 ...  3  3  3]\n"
     ]
    }
   ],
   "source": [
    "results = h5py.File('./kms/results.h5', 'r')\n",
    "print(np.array(results['22_04_26_cage4_0.top.irDLC_resnet50_moseq_exampleAug21shuffle1_500000']['syllable']))"
   ]
  },
  {
   "cell_type": "code",
   "execution_count": 10,
   "metadata": {},
   "outputs": [
    {
     "name": "stdout",
     "output_type": "stream",
     "text": [
      "{'21_11_8_one_mouse.top.irDLC_resnet50_moseq_exampleAug21shuffle1_500000': <HDF5 dataset \"syllable\": shape (71524,), type \"<i8\">, '21_12_10_def6a_1_1.top.irDLC_resnet50_moseq_exampleAug21shuffle1_500000': <HDF5 dataset \"syllable\": shape (53512,), type \"<i8\">, '21_12_10_def6a_3.top.irDLC_resnet50_moseq_exampleAug21shuffle1_500000': <HDF5 dataset \"syllable\": shape (35818,), type \"<i8\">, '21_12_10_def6b_3.top.irDLC_resnet50_moseq_exampleAug21shuffle1_500000': <HDF5 dataset \"syllable\": shape (53527,), type \"<i8\">, '21_12_2_def6a_1.top.irDLC_resnet50_moseq_exampleAug21shuffle1_500000': <HDF5 dataset \"syllable\": shape (107507,), type \"<i8\">, '21_12_2_def6b_2.top.irDLC_resnet50_moseq_exampleAug21shuffle1_500000': <HDF5 dataset \"syllable\": shape (107520,), type \"<i8\">, '22_04_26_cage4_0.top.irDLC_resnet50_moseq_exampleAug21shuffle1_500000': <HDF5 dataset \"syllable\": shape (53623,), type \"<i8\">, '22_04_26_cage4_0_2.top.irDLC_resnet50_moseq_exampleAug21shuffle1_500000': <HDF5 dataset \"syllable\": shape (53625,), type \"<i8\">, '22_04_26_cage4_1_1.top.irDLC_resnet50_moseq_exampleAug21shuffle1_500000': <HDF5 dataset \"syllable\": shape (53632,), type \"<i8\">, '22_27_04_cage4_mouse2_0.top.irDLC_resnet50_moseq_exampleAug21shuffle1_500000': <HDF5 dataset \"syllable\": shape (53623,), type \"<i8\">}\n"
     ]
    }
   ],
   "source": [
    "syllables = {k:v['syllable'] for k,v in results.items()}\n",
    "print(syllables)"
   ]
  },
  {
   "cell_type": "markdown",
   "metadata": {},
   "source": [
    "This proves that the states are sorted by instance frequency"
   ]
  },
  {
   "cell_type": "code",
   "execution_count": 11,
   "metadata": {},
   "outputs": [
    {
     "name": "stdout",
     "output_type": "stream",
     "text": [
      "[6135 3715 3226 3165 2824 2584 2295 2043 1845  853  681  500  458  420\n",
      "  329  328  294  212  204  181  134  122  117   82   72]\n",
      "True\n"
     ]
    }
   ],
   "source": [
    "# stateseqs = {\n",
    "#         'name1': np.array([1, 1, 2, 2, 2, 3]),\n",
    "#         'name2': np.array([0, 0, 0, 1])}\n",
    "stateseq_flat = np.hstack(list(syllables.values()))\n",
    "state_onsets = np.pad(np.diff(stateseq_flat).nonzero()[0] + 1, (1, 0))\n",
    "stateseq_flat = stateseq_flat[state_onsets]\n",
    "counts = np.bincount(stateseq_flat, minlength=77)\n",
    "print(counts[:25])\n",
    "print(np.all(np.diff(counts)<=0))\n"
   ]
  },
  {
   "cell_type": "code",
   "execution_count": 12,
   "metadata": {},
   "outputs": [],
   "source": [
    "def rotate(state, action, next_state, reward, done, task, next_task):\n",
    "    theta = np.random.uniform(0, 2*np.pi)\n",
    "    rotation_matrix = np.array([[np.cos(theta), -np.sin(theta)], [np.sin(theta), np.cos(theta)]])\n",
    "    assert state.shape == (16, )\n",
    "    assert action.shape == (16, )\n",
    "    assert next_state.shape == (16, )\n",
    "    assert np.isclose(state + action, next_state).all()\n",
    "    new_state = (state.reshape(-1,2) @ rotation_matrix).reshape(-1)\n",
    "    new_next_state = (next_state.reshape(-1,2) @ rotation_matrix).reshape(-1)\n",
    "    new_action = (action.reshape(-1,2) @ rotation_matrix).reshape(-1)\n",
    "    assert np.isclose(new_state + new_action, new_next_state).all()\n",
    "    return new_state, new_action, new_next_state, reward, done, task, next_task\n",
    "def shift(state, action, next_state, reward, done, task, next_task):\n",
    "    shift = np.random.randn(2)\n",
    "    # print('shift:', shift)\n",
    "    assert state.shape == (16, )\n",
    "    assert action.shape == (16, )\n",
    "    assert next_state.shape == (16, )\n",
    "    assert np.isclose(state + action, next_state).all()\n",
    "    new_state = (state.reshape(-1,2) + shift).reshape(-1)\n",
    "    new_next_state = (next_state.reshape(-1,2) + shift).reshape(-1)\n",
    "    new_action = action\n",
    "    # print('state:', state, new_state)\n",
    "    # print('action:', action, new_action)\n",
    "    # print('next_state:', next_state, new_next_state)\n",
    "    # print('compare:', new_state + new_action, new_next_state)\n",
    "    assert np.isclose(new_state + new_action, new_next_state).all()\n",
    "    return new_state, new_action, new_next_state, reward, done, task, next_task\n",
    "    "
   ]
  },
  {
   "cell_type": "code",
   "execution_count": 13,
   "metadata": {},
   "outputs": [
    {
     "name": "stdout",
     "output_type": "stream",
     "text": [
      "22_04_26_cage4_0.top.irDLC_resnet50_moseq_exampleAug21shuffle1_500000\n",
      "21_12_2_def6b_2.top.irDLC_resnet50_moseq_exampleAug21shuffle1_500000\n",
      "21_12_10_def6a_3.top.irDLC_resnet50_moseq_exampleAug21shuffle1_500000\n",
      "21_12_10_def6a_1_1.top.irDLC_resnet50_moseq_exampleAug21shuffle1_500000\n",
      "22_04_26_cage4_1_1.top.irDLC_resnet50_moseq_exampleAug21shuffle1_500000\n",
      "21_12_2_def6a_1.top.irDLC_resnet50_moseq_exampleAug21shuffle1_500000\n",
      "21_12_10_def6b_3.top.irDLC_resnet50_moseq_exampleAug21shuffle1_500000\n",
      "22_04_26_cage4_0_2.top.irDLC_resnet50_moseq_exampleAug21shuffle1_500000\n",
      "21_11_8_one_mouse.top.irDLC_resnet50_moseq_exampleAug21shuffle1_500000\n",
      "22_27_04_cage4_mouse2_0.top.irDLC_resnet50_moseq_exampleAug21shuffle1_500000\n",
      "486124\n"
     ]
    }
   ],
   "source": [
    "bodyparts=[\n",
    "    'tail', 'spine4', 'spine3', 'spine2', 'spine1',\n",
    "    'head', 'nose', 'right ear', 'left ear']\n",
    "use_bodyparts=[\n",
    "        'spine4', 'spine3', 'spine2', 'spine1',\n",
    "        'head', 'nose', 'right ear', 'left ear']\n",
    "use_bodyparts_idx = [bodyparts.index(bp) for bp in use_bodyparts]\n",
    "state_dim = len(use_bodyparts) * 2\n",
    "action_dim = len(use_bodyparts) * 2\n",
    "n_task = 10 # filter out some non-frsequent tasks\n",
    "extra_augmentation_step = 1\n",
    "original_replay_buffer = buffer.ReplayBuffer(state_dim, action_dim, 1000000, 'cpu')\n",
    "for name in dlc_sample['coordinates'].keys():\n",
    "    print(name)\n",
    "    for i in range(len(dlc_sample['coordinates'][name])-1):\n",
    "        state = np.array(dlc_sample['coordinates'][name][i][use_bodyparts_idx].flatten())\n",
    "        next_state = np.array(dlc_sample['coordinates'][name][i+1][use_bodyparts_idx].flatten())\n",
    "        action = next_state - state\n",
    "        task = np.array(results[name]['syllable'][i])\n",
    "        next_task = np.array(results[name]['syllable'][i+1])\n",
    "        done = np.where(next_task != task, 1, 0)\n",
    "        assert not np.all(np.isnan(state))\n",
    "        if task < n_task and next_task < n_task:\n",
    "            original_replay_buffer.add(state, action, next_state, 0, done, task, next_task)\n",
    "            # for j in range(extra_augmentation_step):\n",
    "            #     an_item = shift(*rotate(state, action, next_state, 0, 0, task, next_task))\n",
    "            #     assert np.isclose(an_item[0] + an_item[1], an_item[2]).all()\n",
    "            #     original_replay_buffer.add(*an_item)\n",
    "print(original_replay_buffer.size)\n",
    "\n"
   ]
  },
  {
   "cell_type": "code",
   "execution_count": 14,
   "metadata": {},
   "outputs": [
    {
     "name": "stdout",
     "output_type": "stream",
     "text": [
      "(array([-202., -198., -196., -194., -192., -186., -180., -170., -168.,\n",
      "       -166., -160., -156., -150., -140., -132., -126., -124., -120.,\n",
      "       -118., -116., -114., -112., -110., -108., -106., -104., -100.,\n",
      "        -98.,  -96.,  -92.,  -90.,  -88.,  -86.,  -84.,  -80.,  -76.,\n",
      "        -74.,  -72.,  -70.,  -68.,  -66.,  -64.,  -62.,  -60.,  -58.,\n",
      "        -56.,  -54.,  -52.,  -50.,  -48.,  -46.,  -44.,  -42.,  -40.,\n",
      "        -38.,  -36.,  -34.,  -32.,  -30.,  -28.,  -26.,  -24.,  -22.,\n",
      "        -20.,  -18.,  -16.,  -14.,  -12.,  -10.,   -8.,   -6.,   -4.,\n",
      "         -2.,    0.,    2.,    4.,    6.,    8.,   10.,   12.,   14.,\n",
      "         16.,   18.,   20.,   22.,   24.,   26.,   28.,   30.,   32.,\n",
      "         34.,   36.,   38.,   40.,   42.,   44.,   46.,   48.,   50.,\n",
      "         52.,   54.,   56.,   58.,   60.,   62.,   64.,   66.,   68.,\n",
      "         70.,   72.,   74.,   76.,   78.,   80.,   82.,   86.,   88.,\n",
      "         96.,   98.,  102.,  104.,  106.,  108.,  110.,  112.,  118.,\n",
      "        120.,  124.,  126.,  130.,  134.,  136.,  144.,  156.,  160.,\n",
      "        164.,  166.,  168.,  170.,  172.,  184.,  186.,  198.,  202.,\n",
      "        204.]), array([       2,        1,        1,        1,        1,        1,\n",
      "              1,        1,        3,        1,        1,        3,\n",
      "              1,        1,        1,        1,        3,        2,\n",
      "              1,        3,        1,        3,        1,        1,\n",
      "              1,        2,        1,        1,        1,        3,\n",
      "              2,        2,        2,        1,        1,        2,\n",
      "              3,        1,        6,        1,        3,        5,\n",
      "              1,        3,        3,        5,        6,        7,\n",
      "              8,        4,       17,       10,       15,       15,\n",
      "             26,       28,       25,       44,       63,       67,\n",
      "             82,      139,      209,      285,      330,      503,\n",
      "            753,     1113,     2204,     8592,    44610,   193723,\n",
      "        1110294, 13235177,  1155331,   196490,    37874,     6265,\n",
      "           1841,     1064,      749,      473,      368,      286,\n",
      "            223,      132,       72,       53,       52,       53,\n",
      "             27,       27,       27,       18,       11,        7,\n",
      "             10,        9,        5,        2,        7,        3,\n",
      "              4,        4,        2,        2,        4,        3,\n",
      "              5,        5,        2,        1,        1,        1,\n",
      "              1,        2,        4,        1,        3,        1,\n",
      "              2,        1,        1,        3,        3,        2,\n",
      "              2,        3,        1,        1,        1,        1,\n",
      "              2,        3,        1,        1,        3,        2,\n",
      "              1,        1,        1,        1,        1,        1,\n",
      "              1]))\n"
     ]
    }
   ],
   "source": [
    "print(np.unique(original_replay_buffer.action, return_counts=True))\n",
    "torch.save(original_replay_buffer.state_dict(), './kms/replay_buffer_continuous_allaction.pth')"
   ]
  },
  {
   "cell_type": "code",
   "execution_count": 7,
   "metadata": {},
   "outputs": [
    {
     "name": "stdout",
     "output_type": "stream",
     "text": [
      "[[420. 340. 420. ... 380. 378. 364.]\n",
      " [420. 340. 420. ... 380. 378. 364.]\n",
      " [420. 340. 420. ... 380. 378. 364.]\n",
      " ...\n",
      " [208. 216. 232. ... 190. 268. 210.]\n",
      " [264. 240. 312. ... 322. 338. 338.]\n",
      " [264. 242. 314. ... 322. 340. 338.]]\n"
     ]
    }
   ],
   "source": [
    "length = original_replay_buffer.size\n",
    "print(original_replay_buffer.state[:10000])"
   ]
  },
  {
   "cell_type": "markdown",
   "metadata": {},
   "source": [
    "This normalization scales every dimension with the same factor to make sure that the relative position is not discarded"
   ]
  },
  {
   "cell_type": "code",
   "execution_count": null,
   "metadata": {},
   "outputs": [
    {
     "name": "stdout",
     "output_type": "stream",
     "text": [
      "0.0 0.0 0.0 0.0 0.0 2.0 2.0 2.0 0.0 2.0 2.0 0.0 2.0 4.0 2.0 2.0 2.0 0.0 0.0 2.0 2.0 0.0 2.0 0.0 0.0 0.0 2.0 0.0 0.0 2.0 4.0 0.0 2.0 2.0 0.0 2.0 0.0 4.0 2.0 0.0 2.0 2.0 2.0 2.0 2.0 2.0 2.0 2.0 8.0 2.0 0.0 0.0 0.0 0.0 0.0 0.0 0.0 0.0 0.0 0.0 0.0 0.0 0.0 0.0 2.0 0.0 0.0 0.0 0.0 0.0 0.0 0.0 2.0 0.0 2.0 0.0 2.0 0.0 0.0 0.0 0.0 2.0 2.0 0.0 2.0 0.0 2.0 2.0 2.0 2.0 2.0 2.0 0.0 0.0 2.0 2.0 2.0 2.0 0.0 2.0 2.0 2.0 0.0 2.0 0.0 0.0 2.0 0.0 0.0 0.0 2.0 0.0 0.0 2.0 2.0 2.0 0.0 0.0 2.0 2.0 0.0 0.0 0.0 2.0 2.0 0.0 2.0 0.0 0.0 2.0 0.0 0.0 2.0 2.0 0.0 0.0 0.0 2.0 0.0 2.0 0.0 2.0 0.0 2.0 2.0 0.0 2.0 0.0 0.0 2.0 0.0 0.0 0.0 0.0 2.0 2.0 0.0 0.0 0.0 0.0 2.0 2.0 0.0 0.0 0.0 2.0 0.0 0.0 2.0 2.0 0.0 0.0 2.0 2.0 0.0 0.0 2.0 2.0 2.0 2.0 2.0 4.0 2.0 2.0 2.0 2.0 2.0 0.0 2.0 2.0 2.0 2.0 0.0 2.0 2.0 2.0 2.0 2.0 2.0 2.0 "
     ]
    }
   ],
   "source": [
    "# normalize\n",
    "all_state = original_replay_buffer.state[:length]\n",
    "all_next_state = original_replay_buffer.next_state[:length]\n",
    "state_min = np.concatenate([all_state, all_next_state[-1:]]).min()\n",
    "state_max = np.concatenate([all_state, all_next_state[-1:]]).max()\n",
    "state_range = state_max - state_min\n",
    "normalized_state = (all_state - state_min) / state_range * 2 - 1\n",
    "normalized_next_state = (all_next_state - state_min) / state_range * 2 - 1\n",
    "# print(normalized_next_state.min(0), normalized_next_state.max(0))\n",
    "all_action = original_replay_buffer.action[:length]\n",
    "action_min = all_action.min()\n",
    "action_max = all_action.max()\n",
    "action_range = action_max - action_min\n",
    "normalized_action = (all_action - action_min) / action_range * 2 - 1\n",
    "# for i in range(state_dim):\n",
    "#     print(all_action[:100,i])\n",
    "#     plt.hist(all_action[:, i], bins=100)\n",
    "#     plt.show()\n",
    "for i in range(200):\n",
    "    print(all_action[i].max(), end=' ')\n",
    "####ACTION"
   ]
  },
  {
   "cell_type": "code",
   "execution_count": 13,
   "metadata": {},
   "outputs": [],
   "source": [
    "shuffle_idx = np.arange(length)\n",
    "np.random.shuffle(shuffle_idx)\n",
    "train_idx = shuffle_idx[:int(length*0.8)]\n",
    "test_idx = shuffle_idx[int(length*0.8):]\n",
    "train_state = torch.FloatTensor(normalized_state[train_idx])\n",
    "train_action = torch.FloatTensor(normalized_action[train_idx])\n",
    "train_next_state = torch.FloatTensor(normalized_next_state[train_idx])\n",
    "train_task = torch.Tensor(original_replay_buffer.task[train_idx])\n",
    "train_next_task = torch.Tensor(original_replay_buffer.next_task[train_idx])\n",
    "train_reward = torch.zeros((train_state.shape[0], 1))\n",
    "train_done = torch.zeros((train_state.shape[0], 1))\n",
    "train_buffer_state_dict = {'state': train_state, \n",
    "                           'action': train_action, \n",
    "                           'next_state': train_next_state, \n",
    "                           'reward': train_reward, \n",
    "                           'done': train_done, \n",
    "                           'task': train_task, \n",
    "                           'next_task': train_next_task,\n",
    "                           'size': len(train_idx),\n",
    "                           'ptr': 0}\n",
    "test_state = torch.FloatTensor(normalized_state[test_idx])\n",
    "test_action = torch.FloatTensor(normalized_action[test_idx])\n",
    "test_next_state = torch.FloatTensor(normalized_next_state[test_idx])\n",
    "test_task = torch.Tensor(original_replay_buffer.task[test_idx])\n",
    "test_next_task = torch.Tensor(original_replay_buffer.next_task[test_idx])\n",
    "test_reward = torch.zeros((test_state.shape[0], 1))\n",
    "test_done = torch.zeros((test_state.shape[0], 1))\n",
    "test_buffer_state_dict = {'state': test_state, \n",
    "                          'action': test_action, \n",
    "                          'next_state': test_next_state, \n",
    "                          'reward': test_reward, \n",
    "                          'done': test_done, \n",
    "                          'task': test_task, \n",
    "                          'next_task': test_next_task,\n",
    "                          'size': len(test_idx),\n",
    "                          'ptr': 0}\n",
    "\n"
   ]
  },
  {
   "cell_type": "code",
   "execution_count": 14,
   "metadata": {},
   "outputs": [
    {
     "name": "stdout",
     "output_type": "stream",
     "text": [
      "torch.Size([478058, 18]) torch.Size([119515, 18])\n"
     ]
    }
   ],
   "source": [
    "torch.save(train_buffer_state_dict, './kms/train_buffer_state_dict.pth')\n",
    "torch.save(test_buffer_state_dict, './kms/test_buffer_state_dict.pth')\n",
    "print(train_state.shape, test_state.shape)"
   ]
  },
  {
   "cell_type": "code",
   "execution_count": 12,
   "metadata": {},
   "outputs": [],
   "source": [
    "normalize_dict = {\n",
    "    'state_min': state_min,\n",
    "    'state_max': state_max,\n",
    "    'action_min': action_min,\n",
    "    'action_max': action_max\n",
    "}\n",
    "torch.save(normalize_dict, './kms/normalize_dict.pth')"
   ]
  },
  {
   "cell_type": "code",
   "execution_count": 26,
   "metadata": {},
   "outputs": [
    {
     "name": "stdout",
     "output_type": "stream",
     "text": [
      "77\n",
      "[67 70 64 74 69 68 75 76 61 52 66 72 65 60 41 73 63 53 58 54 40 62 39 35\n",
      " 55 57 43 56 48 47 51 59 38 45 49 34 33 71 50 29 42 44 20 37 27 46 36 31\n",
      " 30 17 22 28 25 18 26 32 21 23 16 11 19 12 24 14 13 10  9 15  7  8  4  2\n",
      "  3  5  6  1  0]\n"
     ]
    }
   ],
   "source": [
    "task_all = original_replay_buffer.task\n",
    "freq = np.zeros((int(task_all.max()), ))\n",
    "print(len(freq))\n",
    "for i in range(len(freq)):\n",
    "    freq[i] = len(task_all[task_all == i])\n",
    "print(np.argsort(freq))"
   ]
  },
  {
   "cell_type": "code",
   "execution_count": null,
   "metadata": {},
   "outputs": [
    {
     "name": "stdout",
     "output_type": "stream",
     "text": [
      "53640\n",
      "42912 10728\n",
      "state\n",
      "action\n",
      "next_state\n",
      "reward\n",
      "done\n",
      "task\n",
      "next_task\n",
      "42912 10728\n",
      "Save\n"
     ]
    }
   ],
   "source": [
    "state_dim = 54\n",
    "action_dim = 54\n",
    "n_task = 60\n",
    "original_replay_buffer = buffer.ReplayBuffer(state_dim, action_dim, 100000, 'cuda:0')\n",
    "replay_buffer_path = f'./data/replay_buffer_18body_normalized_new.pth'\n",
    "original_replay_buffer.load_state_dict(torch.load(replay_buffer_path))\n",
    "\n",
    "state_all, action_all, next_state_all, task_all, next_task_all, reward_all, done_all = \\\n",
    "    original_replay_buffer.state, original_replay_buffer.action, original_replay_buffer.next_state, original_replay_buffer.task,\\\n",
    "    original_replay_buffer.next_task, original_replay_buffer.reward, original_replay_buffer.done\n",
    "\n",
    "length = original_replay_buffer.size\n",
    "print(length)\n",
    "syllable_idx = np.arange(length)\n",
    "np.random.shuffle(syllable_idx)\n",
    "train_idx = torch.tensor(syllable_idx[:int(0.8*length)])\n",
    "test_idx = torch.tensor(syllable_idx[int(0.8*length):])\n",
    "print(len(train_idx), len(test_idx))\n",
    "train_buffer = buffer.ReplayBuffer(state_dim, action_dim, 100000, 'cuda:0')\n",
    "test_buffer = buffer.ReplayBuffer(state_dim, action_dim, 100000, 'cuda:0')\n",
    "for key in original_replay_buffer.state_dict().keys():\n",
    "    if key != 'ptr' and key != 'size':\n",
    "        print(key)\n",
    "        train_buffer.__setattr__(key, original_replay_buffer.__getattribute__(key)[train_idx])\n",
    "        test_buffer.__setattr__(key, original_replay_buffer.__getattribute__(key)[test_idx])\n",
    "train_buffer.size = len(train_idx)\n",
    "test_buffer.size = len(test_idx)\n",
    "print(train_buffer.size, test_buffer.size)\n",
    "train_buffer_path = './data/replay_buffer_18body_normalized_new_train.pth'\n",
    "test_buffer_path = './data/replay_buffer_18body_normalized_new_test.pth'\n",
    "torch.save(train_buffer.state_dict(), train_buffer_path)\n",
    "torch.save(test_buffer.state_dict(), test_buffer_path)\n",
    "print('Save')"
   ]
  },
  {
   "cell_type": "code",
   "execution_count": null,
   "metadata": {},
   "outputs": [],
   "source": []
  },
  {
   "cell_type": "code",
   "execution_count": 7,
   "metadata": {},
   "outputs": [
    {
     "name": "stdout",
     "output_type": "stream",
     "text": [
      "Replay buffer loaded from ../../rat7m/replay_buffer_3sigma_tanh.pth\n",
      "[[123.7345 200.4987  65.4375   1.6622   2.1916   2.9454   2.2586   1.2536]\n",
      " [122.0299 200.5316  65.018    2.2142   1.0883  -0.2754  -1.4034  -0.4355]\n",
      " [121.6406 204.4449  64.7374   2.1142   0.8841   0.8824  -0.7641  -0.3044]\n",
      " [119.6549 208.4292  63.5946   2.2176   0.7737   0.8069  -0.8365  -0.6493]\n",
      " [115.8762 211.75    62.8877   2.2768   0.7703   0.8167  -0.821   -0.8076]] [[-0.34454262  0.00763125 -0.12247826  0.31052968 -0.99996726 -1.\n",
      "  -1.         -0.99917449]\n",
      " [-0.08144281  0.69766468 -0.082172   -0.05811319 -0.76975863  0.99953365\n",
      "   0.96095639  0.29358702]\n",
      " [-0.39572373  0.70560781 -0.32321757  0.06007965 -0.50147558 -0.26604764\n",
      "  -0.21815791 -0.66150799]\n",
      " [-0.66236116  0.62439099 -0.20446598  0.03442451 -0.01689035  0.03546069\n",
      "   0.04748554 -0.34966728]\n",
      " [-0.58580544  0.60933533 -0.29857967  0.02343848  0.25035685  0.03509997\n",
      "   0.12919138 -0.44434385]]\n"
     ]
    }
   ],
   "source": [
    "def load_rat7m():\n",
    "    state_dim = 8\n",
    "    action_dim = 8\n",
    "    replay_buffer = buffer.ReplayBuffer(state_dim, action_dim, 1000000)\n",
    "    replay_buffer_path = f'../../rat7m/replay_buffer_3sigma_tanh.pth'\n",
    "    replay_buffer.load_state_dict(torch.load(replay_buffer_path))\n",
    "    print(f'Replay buffer loaded from {replay_buffer_path}')\n",
    "    return replay_buffer, state_dim, action_dim\n",
    "original_replay_buffer, state_dim, action_dim = load_rat7m()\n",
    "print(original_replay_buffer.state[:5], original_replay_buffer.action[:5])"
   ]
  },
  {
   "cell_type": "code",
   "execution_count": 2,
   "metadata": {},
   "outputs": [
    {
     "name": "stdout",
     "output_type": "stream",
     "text": [
      "0.8587985840314173\n"
     ]
    }
   ],
   "source": [
    "matrix_notxyz = np.load('./figure/rat7m/spedersac/dim64_sa_sp_buffer_20body_normalized_lasso_1e-2/0/ig_matrix_agg.npy')\n",
    "matrix_xyz = np.load('./figure/rat7m/spedersac/dim64_sa_sp_buffer_20body_normalzied_lasso1e-2_xyz_group/0/ig_matrix_agg.npy')\n",
    "corr = np.corrcoef(matrix_notxyz.flatten(), matrix_xyz.flatten())[0, 1]\n",
    "print(corr)"
   ]
  },
  {
   "cell_type": "code",
   "execution_count": 5,
   "metadata": {},
   "outputs": [
    {
     "name": "stdout",
     "output_type": "stream",
     "text": [
      "orig_lasso = 17.054546356201172\n",
      "new_lasso  = 17.054546356201172\n"
     ]
    }
   ],
   "source": [
    "import torch\n",
    "\n",
    "phi_hidden_dim = 10\n",
    "input_dim = 9  # suppose we have 2 groups, each with xyz => 2*3=6\n",
    "W = torch.randn(phi_hidden_dim, input_dim)\n",
    "\n",
    "# Original approach\n",
    "W_orig = W.reshape(phi_hidden_dim, input_dim//3, 3)\n",
    "orig_lasso = torch.sqrt(W_orig.pow(2).sum(dim=0).sum(dim=-1)).sum()\n",
    "\n",
    "# New approach\n",
    "W_t = W.T.reshape(-1, phi_hidden_dim*3)\n",
    "new_lasso = torch.norm(W_t, dim=1).sum()\n",
    "\n",
    "print(\"orig_lasso =\", orig_lasso.item())\n",
    "print(\"new_lasso  =\", new_lasso.item())"
   ]
  },
  {
   "cell_type": "code",
   "execution_count": 10,
   "metadata": {},
   "outputs": [
    {
     "name": "stdout",
     "output_type": "stream",
     "text": [
      "PCA()\n"
     ]
    }
   ],
   "source": [
    "state_name = ['HeadF','HeadB','HeadL','SpineF','SpineM',\n",
    "                'SpineL','HipL','HipR','ElbowL','ArmL',\n",
    "                'ShoulderL','ShoulderR','ElbowR','ArmR','KneeR',\n",
    "                'KneeL','ShinL','ShinR']\n",
    "# When I transfer the skeleton into edges, Please refer to the following skeleton.\n",
    "\n",
    "state_name = ['HeadF','HeadB','HeadL','SpineF','SpineM',\n",
    "              'SpineL','HipL','HipR','ElbowL','ArmL',\n",
    "              'ShoulderL','ShoulderR','ElbowR','ArmR','KneeR',\n",
    "              'KneeL','ShinL','ShinR']\n",
    "\n",
    "skeleton = [('HeadF', 'HeadB'), ('HeadF', 'HeadL'), ('HeadB', 'HeadL'),\n",
    "            ('HeadB', 'SpineF'), ('HeadL', 'SpineF'), ('SpineF', 'SpineM'),\n",
    "            ('SpineM', 'SpineL'), ('SpineF', 'ShoulderL'), ('ShoulderL', 'ElbowL'),\n",
    "            ('ElbowL', 'ArmL'), ('SpineF', 'ShoulderR'), ('ShoulderR', 'ElbowR'),\n",
    "            ('ElbowR', 'ArmR'), ('SpineM', 'HipL'), ('HipL', 'KneeL'),\n",
    "            ('KneeL', 'ShinL'), ('SpineM', 'HipR'), ('HipR', 'KneeR'),\n",
    "            ('KneeR', 'ShinR')]\n",
    "edges = []\n",
    "for i in skeleton:\n",
    "  edges.append((state_name.index(i[0]), state_name.index(i[1])))\n",
    "\n",
    "import joblib\n",
    "import numpy as np\n",
    "import matplotlib.pyplot as plt\n",
    "pca = joblib.load('./pca.p')\n",
    "print(pca)"
   ]
  },
  {
   "cell_type": "code",
   "execution_count": 47,
   "metadata": {},
   "outputs": [
    {
     "name": "stderr",
     "output_type": "stream",
     "text": [
      "/tmp/ipykernel_8790/2271248462.py:43: MatplotlibDeprecationWarning: The get_cmap function was deprecated in Matplotlib 3.7 and will be removed two minor releases later. Use ``matplotlib.colormaps[name]`` or ``matplotlib.colormaps.get_cmap(obj)`` instead.\n",
      "  cmap = plt.cm.get_cmap('viridis')\n"
     ]
    },
    {
     "data": {
      "image/png": "[encoded data removed]",
      "text/plain": [
       "<Figure size 400x400 with 1 Axes>"
      ]
     },
     "metadata": {},
     "output_type": "display_data"
    }
   ],
   "source": [
    "def center_embedding(n):\n",
    "    \"\"\"\n",
    "    Generates a matrix ``Gamma`` that maps from a (n-1)-dimensional\n",
    "    vector space  to the space of k-tuples with zero mean\n",
    "\n",
    "    Parameters\n",
    "    ----------\n",
    "    n : int\n",
    "        Number of keypoints.\n",
    "\n",
    "    Returns\n",
    "    -------\n",
    "    Gamma: jax array of shape (n, n - 1)\n",
    "        Matrix to map to centered embedded space.\n",
    "    \"\"\"\n",
    "    X = np.tril(np.ones((n, n)), k=-1)[1:]\n",
    "    X = np.eye(n)[1:] - X / X.sum(1)[:, None]\n",
    "    X = X / np.sqrt((X**2).sum(1))[:, None]\n",
    "    return X.T\n",
    "Gamma = np.array(center_embedding(len(state_name)))\n",
    "\n",
    "ymean = Gamma @ pca.mean_.reshape(len(state_name)-1, -1)\n",
    "ymean[state_name.index('HeadB'), 2] -= 10\n",
    "ymean[state_name.index('HeadF'), 0] += 10\n",
    "ymean[state_name.index('SpineL'), 2] += 20\n",
    "ymean[state_name.index('ShoulderL'), 0] += 20\n",
    "ymean[state_name.index('ElbowL'), 0] += 20\n",
    "ymean[state_name.index('ElbowL'), 2] += 10\n",
    "ymean[state_name.index('ArmL'), 0] += 30\n",
    "ymean[state_name.index('ArmL'), 2] += 10\n",
    "ymean[state_name.index('ArmR'), 0] += 10\n",
    "ymean[state_name.index('HipL'), 2] += 10\n",
    "ymean[state_name.index('HipL'), 0] += 30\n",
    "ymean[state_name.index('KneeL'), 2] += 10\n",
    "ymean[state_name.index('KneeL'), 0] += 30\n",
    "ymean[state_name.index('ShinL'), 2] += 10\n",
    "ymean[state_name.index('ShinL'), 0] += 30\n",
    "ymean[state_name.index('HipR'), 0] -= 10\n",
    "ymean[state_name.index('HipR'), 2] += 10\n",
    "fig, axes = plt.subplots(1, 1, figsize=(4, 4))\n",
    "dims = [0, 2]\n",
    "dims, name = [0,2], 'xz'\n",
    "cmap = plt.cm.get_cmap('viridis')\n",
    "keypoint_colors = cmap(np.linspace(0, 1, len(state_name)))\n",
    "# print(keypoint_colors)\n",
    "n_bodyparts = len(state_name)\n",
    "ig_matrix_agg_xyz = np.load('./figure/rat7m/spedersac/dim64_sa_sp_buffer_20body_normalzied_lasso1e-2_xyz_group/0/ig_matrix_agg.npy')\n",
    "for e in edges:\n",
    "    axes.plot(\n",
    "        *ymean[:, dims][e,:].T,\n",
    "        color=keypoint_colors[e[0]],\n",
    "        linewidth=5.0,\n",
    "        zorder=0)\n",
    "node_colors = ['blue' if ig_matrix_agg_xyz[0, j] < 0 else 'red' for j in range(2*n_bodyparts)]\n",
    "axes.scatter(\n",
    "        *ymean[:, dims].T,\n",
    "        c=node_colors[:n_bodyparts],\n",
    "        s=np.abs(ig_matrix_agg_xyz[0, :n_bodyparts])*120,\n",
    "        zorder=1)\n",
    "axes.axis('off')\n",
    "plt.show()"
   ]
  },
  {
   "cell_type": "code",
   "execution_count": 48,
   "metadata": {},
   "outputs": [],
   "source": [
    "np.save('ymean.npy', ymean)"
   ]
  },
  {
   "cell_type": "code",
   "execution_count": null,
   "metadata": {},
   "outputs": [],
   "source": []
  }
 ],
 "metadata": {
  "kernelspec": {
   "display_name": "mixer",
   "language": "python",
   "name": "python3"
  },
  "language_info": {
   "codemirror_mode": {
    "name": "ipython",
    "version": 3
   },
   "file_extension": ".py",
   "mimetype": "text/x-python",
   "name": "python",
   "nbconvert_exporter": "python",
   "pygments_lexer": "ipython3",
   "version": "3.8.19"
  }
 },
 "nbformat": 4,
 "nbformat_minor": 2
}
