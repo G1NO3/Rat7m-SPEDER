{
 "cells": [
  {
   "cell_type": "code",
   "execution_count": 1,
   "metadata": {},
   "outputs": [
    {
     "name": "stderr",
     "output_type": "stream",
     "text": [
      "/home/geert/anaconda3/envs/mixer/lib/python3.8/site-packages/tqdm/auto.py:21: TqdmWarning: IProgress not found. Please update jupyter and ipywidgets. See https://ipywidgets.readthedocs.io/en/stable/user_install.html\n",
      "  from .autonotebook import tqdm as notebook_tqdm\n",
      "/home/geert/anaconda3/envs/mixer/lib/python3.8/site-packages/gym/envs/registration.py:307: DeprecationWarning: The package name gym_minigrid has been deprecated in favor of minigrid. Please uninstall gym_minigrid and install minigrid with `pip install minigrid`. Future releases will be maintained under the new package name minigrid.\n",
      "  fn()\n"
     ]
    }
   ],
   "source": [
    "import numpy as np\n",
    "import torch\n",
    "import math\n",
    "from torch import nn\n",
    "import torch.nn.functional as F\n",
    "from torch import distributions as pyd\n",
    "\n",
    "from utils import util, buffer\n",
    "import pandas as pd\n",
    "import matplotlib as mpl\n",
    "from matplotlib import pyplot as plt\n",
    "from sklearn.decomposition import NMF\n",
    "from utils import util, buffer\n",
    "import pickle\n",
    "import h5py"
   ]
  },
  {
   "cell_type": "code",
   "execution_count": 17,
   "metadata": {},
   "outputs": [
    {
     "name": "stdout",
     "output_type": "stream",
     "text": [
      "[-2.81414124e+02 -2.67535706e+02 -2.30321373e-01 -2.72488285e+02\n",
      " -2.65578430e+02  1.13103800e+01 -2.76488190e+02 -2.66397186e+02\n",
      "  1.61228237e+01 -2.64006927e+02 -2.37520523e+02  5.36810074e+01\n",
      " -2.58135132e+02 -2.38814667e+02  6.97525330e+01 -2.70338968e+02\n",
      " -2.46600372e+02  3.92869797e+01 -2.70920837e+02 -2.54657990e+02\n",
      "  1.94669628e+01 -2.65404297e+02 -2.49877762e+02  7.01666355e+00\n",
      " -2.67190002e+02 -2.61613922e+02 -3.81297135e+00 -2.71898956e+02\n",
      " -2.65631714e+02  2.84689504e+00 -2.62173462e+02 -2.48069580e+02\n",
      "  3.87809105e+01 -2.74119804e+02 -2.48202652e+02  3.56290741e+01\n",
      " -2.89900787e+02 -2.59672089e+02 -2.47821093e+00 -2.84619763e+02\n",
      " -2.67121704e+02 -6.21657372e+00 -2.78253601e+02 -2.49190475e+02\n",
      "  6.38715033e+00 -2.62240967e+02 -2.51999039e+02  2.58186398e+01\n",
      " -2.53279934e+02 -2.45786713e+02  2.99162525e+00 -2.68810958e+02\n",
      " -2.45219397e+02 -3.85860051e+00] [298.31661987 302.06442261 289.2272644  294.58779907 299.20516968\n",
      " 273.92251587 296.7043457  300.33581543 276.7713623  286.75228882\n",
      " 276.92831421 197.24499512 279.25247192 286.02182007 161.99179077\n",
      " 287.20443726 285.51837158 115.90196991 287.80993652 287.11459351\n",
      " 103.86009979 283.45959473 291.69540405  94.8266983  279.890625\n",
      " 289.6975708  209.66343689 286.46072388 293.62387085 216.52488708\n",
      " 276.85693359 291.22290039 214.16473389 294.60296631 288.71655273\n",
      " 203.26022339 286.05630493 292.85369873 199.45515442 295.66986084\n",
      " 293.91345215 216.44369507 291.34062703 293.72299194 101.45050812\n",
      " 285.13980103 292.05755615 111.80641174 278.34997559 281.01467896\n",
      "  80.46098328 283.33198732 293.25344108  83.8758316 ] [-64.38032532 -86.34447002 -60.0039978  -51.86238098 -72.80159855\n",
      " -52.46365356 -47.86347961 -62.0756073  -47.21253967 -34.92376709\n",
      " -32.69172639 -24.30045319 -34.27449036 -34.82246399 -15.79079437\n",
      " -33.03974152 -26.42024231 -20.07674408 -27.30141449 -18.24977875\n",
      " -31.70133611 -31.31758881 -24.52307892 -22.74885178 -66.50229645\n",
      " -61.38845825 -75.14486313 -54.39599714 -53.00546265 -75.14780159\n",
      " -30.5989428  -24.88896751 -41.50225449 -38.90409851 -28.12402916\n",
      " -30.74001312 -75.92906189 -71.41862834 -82.39178276 -57.14573669\n",
      " -52.47238388 -73.59023666 -31.29692078 -37.02787433 -39.34549141\n",
      " -35.17973328 -43.67736053 -43.86209798 -31.16721344 -39.52167177\n",
      " -40.85288347 -34.65242004 -33.26113892 -34.06864033] [70.49809265 78.61508465 39.75712585 50.87988281 64.44848728 41.8418045\n",
      " 55.83909607 57.30555725 32.34725189 36.27923584 32.43089294 17.86502838\n",
      " 30.80682755 37.11967468 15.00884247 29.66900635 23.91291809 12.01976013\n",
      " 21.42233086 20.43293762 29.26244946 23.19877958 21.08380604 27.43554688\n",
      " 60.10352707 63.07736206 75.04359055 63.34625766 58.9600181  74.7124691\n",
      " 23.31410689 40.19751795 34.31997681 38.80229187 30.69207954 24.68588257\n",
      " 90.2888031  70.31645886 83.55052567 56.92411607 59.12576294 73.56928062\n",
      " 54.61302841 36.93191181 44.46531677 42.57038879 45.29151154 41.41048431\n",
      " 27.21665881 31.81237793 38.86565029 33.1883978  25.34011505 33.37276019]\n",
      "(54,)\n"
     ]
    }
   ],
   "source": [
    "state_dim = 54\n",
    "action_dim = 54\n",
    "n_task = 60\n",
    "original_replay_buffer = buffer.ReplayBuffer(state_dim, action_dim, 100000, 'cpu')\n",
    "replay_buffer_path = f'./data/replay_buffer_18body_task.pth'\n",
    "original_replay_buffer.load_state_dict(torch.load(replay_buffer_path))\n",
    "length = original_replay_buffer.size\n",
    "state_min = original_replay_buffer.state[:length].min(0)\n",
    "state_max = original_replay_buffer.state[:length].max(0)\n",
    "action_min = original_replay_buffer.action[:length].min(0)\n",
    "action_max = original_replay_buffer.action[:length].max(0)\n",
    "next_state_min = original_replay_buffer.next_state[:length].min(0)\n",
    "next_state_max = original_replay_buffer.next_state[:length].max(0)\n",
    "print(state_min, state_max, action_min, action_max)\n",
    "normalize_dict = {\n",
    "    'state_min': state_min,\n",
    "    'state_max': state_max,\n",
    "    'action_min': action_min,\n",
    "    'action_max': action_max,\n",
    "    'next_state_min': next_state_min,\n",
    "    'next_state_max': next_state_max\n",
    "}\n",
    "print(state_min.shape)\n",
    "torch.save(normalize_dict, f'./data/normalize_dict_18body_task.pth')"
   ]
  },
  {
   "cell_type": "code",
   "execution_count": 19,
   "metadata": {},
   "outputs": [
    {
     "name": "stdout",
     "output_type": "stream",
     "text": [
      "tensor(6.8188e-06, dtype=torch.float64)\n",
      "tensor(6.8455e-06, dtype=torch.float64)\n",
      "tensor(6.7853e-06, dtype=torch.float64)\n",
      "tensor(6.7943e-06, dtype=torch.float64)\n",
      "tensor(6.8842e-06, dtype=torch.float64)\n",
      "tensor(6.9098e-06, dtype=torch.float64)\n",
      "tensor(6.8192e-06, dtype=torch.float64)\n",
      "tensor(6.7850e-06, dtype=torch.float64)\n",
      "tensor(6.8259e-06, dtype=torch.float64)\n",
      "tensor(6.9066e-06, dtype=torch.float64)\n",
      "tensor(6.8256e-06, dtype=torch.float64)\n",
      "tensor(6.8789e-06, dtype=torch.float64)\n",
      "tensor(6.8480e-06, dtype=torch.float64)\n",
      "tensor(6.7589e-06, dtype=torch.float64)\n",
      "tensor(6.7546e-06, dtype=torch.float64)\n",
      "tensor(6.7618e-06, dtype=torch.float64)\n",
      "tensor(6.8122e-06, dtype=torch.float64)\n",
      "tensor(6.9130e-06, dtype=torch.float64)\n",
      "tensor(6.8966e-06, dtype=torch.float64)\n",
      "tensor(6.7998e-06, dtype=torch.float64)\n",
      "tensor(6.7808e-06, dtype=torch.float64)\n",
      "tensor(6.8684e-06, dtype=torch.float64)\n",
      "tensor(6.8485e-06, dtype=torch.float64)\n",
      "tensor(6.7949e-06, dtype=torch.float64)\n",
      "tensor(6.8010e-06, dtype=torch.float64)\n",
      "tensor(6.8128e-06, dtype=torch.float64)\n",
      "tensor(6.8320e-06, dtype=torch.float64)\n",
      "tensor(6.9479e-06, dtype=torch.float64)\n",
      "tensor(6.8921e-06, dtype=torch.float64)\n",
      "tensor(6.9134e-06, dtype=torch.float64)\n",
      "tensor(6.8161e-06, dtype=torch.float64)\n",
      "tensor(6.8783e-06, dtype=torch.float64)\n",
      "tensor(6.9057e-06, dtype=torch.float64)\n",
      "tensor(6.9216e-06, dtype=torch.float64)\n",
      "tensor(6.8663e-06, dtype=torch.float64)\n",
      "tensor(6.9179e-06, dtype=torch.float64)\n",
      "tensor(6.7962e-06, dtype=torch.float64)\n",
      "tensor(6.8453e-06, dtype=torch.float64)\n",
      "tensor(6.8581e-06, dtype=torch.float64)\n",
      "tensor(6.9404e-06, dtype=torch.float64)\n",
      "tensor(6.7898e-06, dtype=torch.float64)\n",
      "tensor(6.9040e-06, dtype=torch.float64)\n",
      "tensor(6.8096e-06, dtype=torch.float64)\n",
      "tensor(6.8516e-06, dtype=torch.float64)\n",
      "tensor(6.8952e-06, dtype=torch.float64)\n",
      "tensor(6.8743e-06, dtype=torch.float64)\n",
      "tensor(6.8749e-06, dtype=torch.float64)\n",
      "tensor(6.8407e-06, dtype=torch.float64)\n",
      "tensor(6.7881e-06, dtype=torch.float64)\n",
      "tensor(6.9109e-06, dtype=torch.float64)\n",
      "tensor(6.8068e-06, dtype=torch.float64)\n",
      "tensor(6.8508e-06, dtype=torch.float64)\n",
      "tensor(6.8735e-06, dtype=torch.float64)\n",
      "tensor(6.8376e-06, dtype=torch.float64)\n",
      "tensor(6.8772e-06, dtype=torch.float64)\n",
      "tensor(6.9634e-06, dtype=torch.float64)\n",
      "tensor(6.7784e-06, dtype=torch.float64)\n",
      "tensor(6.7851e-06, dtype=torch.float64)\n",
      "tensor(6.7576e-06, dtype=torch.float64)\n",
      "tensor(6.8454e-06, dtype=torch.float64)\n",
      "tensor(6.8574e-06, dtype=torch.float64)\n",
      "tensor(6.9247e-06, dtype=torch.float64)\n",
      "tensor(6.7649e-06, dtype=torch.float64)\n",
      "tensor(6.8855e-06, dtype=torch.float64)\n",
      "tensor(6.9816e-06, dtype=torch.float64)\n",
      "tensor(6.9113e-06, dtype=torch.float64)\n",
      "tensor(6.8961e-06, dtype=torch.float64)\n",
      "tensor(6.8572e-06, dtype=torch.float64)\n",
      "tensor(6.9020e-06, dtype=torch.float64)\n",
      "tensor(6.9161e-06, dtype=torch.float64)\n",
      "tensor(6.8335e-06, dtype=torch.float64)\n",
      "tensor(6.9400e-06, dtype=torch.float64)\n",
      "tensor(6.8377e-06, dtype=torch.float64)\n",
      "tensor(6.8029e-06, dtype=torch.float64)\n",
      "tensor(6.8891e-06, dtype=torch.float64)\n",
      "tensor(6.8446e-06, dtype=torch.float64)\n",
      "tensor(6.8382e-06, dtype=torch.float64)\n",
      "tensor(6.8444e-06, dtype=torch.float64)\n",
      "tensor(6.8685e-06, dtype=torch.float64)\n",
      "tensor(6.8553e-06, dtype=torch.float64)\n",
      "tensor(6.7920e-06, dtype=torch.float64)\n",
      "tensor(6.8717e-06, dtype=torch.float64)\n",
      "tensor(6.8035e-06, dtype=torch.float64)\n",
      "tensor(6.7434e-06, dtype=torch.float64)\n",
      "tensor(6.7815e-06, dtype=torch.float64)\n",
      "tensor(6.8642e-06, dtype=torch.float64)\n",
      "tensor(6.8980e-06, dtype=torch.float64)\n",
      "tensor(6.8841e-06, dtype=torch.float64)\n",
      "tensor(6.8468e-06, dtype=torch.float64)\n",
      "tensor(6.8661e-06, dtype=torch.float64)\n",
      "tensor(6.8084e-06, dtype=torch.float64)\n",
      "tensor(6.8867e-06, dtype=torch.float64)\n",
      "tensor(6.7587e-06, dtype=torch.float64)\n",
      "tensor(6.8391e-06, dtype=torch.float64)\n",
      "tensor(6.8370e-06, dtype=torch.float64)\n",
      "tensor(6.8404e-06, dtype=torch.float64)\n",
      "tensor(6.8175e-06, dtype=torch.float64)\n",
      "tensor(6.8616e-06, dtype=torch.float64)\n",
      "tensor(6.9060e-06, dtype=torch.float64)\n",
      "tensor(6.9053e-06, dtype=torch.float64)\n"
     ]
    },
    {
     "ename": "",
     "evalue": "",
     "output_type": "error",
     "traceback": [
      "\u001b[1;31mThe Kernel crashed while executing code in the current cell or a previous cell. \n",
      "\u001b[1;31mPlease review the code in the cell(s) to identify a possible cause of the failure. \n",
      "\u001b[1;31mClick <a href='https://aka.ms/vscodeJupyterKernelCrash'>here</a> for more info. \n",
      "\u001b[1;31mView Jupyter <a href='command:jupyter.viewOutput'>log</a> for further details."
     ]
    }
   ],
   "source": [
    "normalized_replay_buffer = buffer.ReplayBuffer(state_dim, action_dim, 100000, 'cpu')\n",
    "normalized_replay_buffer_path = f'./data/replay_buffer_18body_normalized_new.pth'\n",
    "normalized_replay_buffer.load_state_dict(torch.load(normalized_replay_buffer_path))\n",
    "normalize_dict = torch.load(f'./data/normalize_dict_18body_task.pth')\n",
    "# print(normalized_replay_buffer.state.min(0)[0], normalized_replay_buffer.state.max(0)[0], normalized_replay_buffer.action.min(0)[0], normalized_replay_buffer.action.max(0)[0])\n",
    "state_min, state_max, action_min, action_max = normalize_dict['state_min'], normalize_dict['state_max'], normalize_dict['action_min'], normalize_dict['action_max']\n",
    "for i in range(100):\n",
    "    state, action, next_state, reward, done, task, next_task = util.unpack_batch(normalized_replay_buffer.sample(1000))\n",
    "\n",
    "    origin_state = (state+1)/2 * (state_max - state_min) + state_min\n",
    "    origin_action = (action+1)/2 * (action_max - action_min) + action_min\n",
    "    origin_next_state = (next_state+1)/2 * (next_state_max - next_state_min) + next_state_min\n",
    "    next_state_predict = origin_state + origin_action\n",
    "    # print(next_state_predict, origin_next_state)\n",
    "    print(torch.abs(next_state_predict - origin_next_state).mean())"
   ]
  },
  {
   "cell_type": "code",
   "execution_count": 2,
   "metadata": {},
   "outputs": [
    {
     "name": "stdout",
     "output_type": "stream",
     "text": [
      "dict_keys(['coordinates', 'bodyparts'])\n",
      "dict_keys(['22_04_26_cage4_0.top.irDLC_resnet50_moseq_exampleAug21shuffle1_500000', '21_12_2_def6b_2.top.irDLC_resnet50_moseq_exampleAug21shuffle1_500000', '21_12_10_def6a_3.top.irDLC_resnet50_moseq_exampleAug21shuffle1_500000', '21_12_10_def6a_1_1.top.irDLC_resnet50_moseq_exampleAug21shuffle1_500000', '22_04_26_cage4_1_1.top.irDLC_resnet50_moseq_exampleAug21shuffle1_500000', '21_12_2_def6a_1.top.irDLC_resnet50_moseq_exampleAug21shuffle1_500000', '21_12_10_def6b_3.top.irDLC_resnet50_moseq_exampleAug21shuffle1_500000', '22_04_26_cage4_0_2.top.irDLC_resnet50_moseq_exampleAug21shuffle1_500000', '21_11_8_one_mouse.top.irDLC_resnet50_moseq_exampleAug21shuffle1_500000', '22_27_04_cage4_mouse2_0.top.irDLC_resnet50_moseq_exampleAug21shuffle1_500000'])\n",
      "(53623, 9, 2)\n"
     ]
    }
   ],
   "source": [
    "dlc_sample = pickle.load(open('./kms/dlc_sample.pkl', 'rb'))\n",
    "print(dlc_sample.keys())\n",
    "print(dlc_sample['coordinates'].keys())\n",
    "print(dlc_sample['coordinates']['22_04_26_cage4_0.top.irDLC_resnet50_moseq_exampleAug21shuffle1_500000'].shape)"
   ]
  },
  {
   "cell_type": "code",
   "execution_count": 3,
   "metadata": {},
   "outputs": [
    {
     "name": "stdout",
     "output_type": "stream",
     "text": [
      "[14 14 14 ...  3  3  3]\n"
     ]
    }
   ],
   "source": [
    "results = h5py.File('./kms/results.h5', 'r')\n",
    "print(np.array(results['22_04_26_cage4_0.top.irDLC_resnet50_moseq_exampleAug21shuffle1_500000']['syllable']))"
   ]
  },
  {
   "cell_type": "code",
   "execution_count": 4,
   "metadata": {},
   "outputs": [
    {
     "name": "stdout",
     "output_type": "stream",
     "text": [
      "{'21_11_8_one_mouse.top.irDLC_resnet50_moseq_exampleAug21shuffle1_500000': <HDF5 dataset \"syllable\": shape (71524,), type \"<i8\">, '21_12_10_def6a_1_1.top.irDLC_resnet50_moseq_exampleAug21shuffle1_500000': <HDF5 dataset \"syllable\": shape (53512,), type \"<i8\">, '21_12_10_def6a_3.top.irDLC_resnet50_moseq_exampleAug21shuffle1_500000': <HDF5 dataset \"syllable\": shape (35818,), type \"<i8\">, '21_12_10_def6b_3.top.irDLC_resnet50_moseq_exampleAug21shuffle1_500000': <HDF5 dataset \"syllable\": shape (53527,), type \"<i8\">, '21_12_2_def6a_1.top.irDLC_resnet50_moseq_exampleAug21shuffle1_500000': <HDF5 dataset \"syllable\": shape (107507,), type \"<i8\">, '21_12_2_def6b_2.top.irDLC_resnet50_moseq_exampleAug21shuffle1_500000': <HDF5 dataset \"syllable\": shape (107520,), type \"<i8\">, '22_04_26_cage4_0.top.irDLC_resnet50_moseq_exampleAug21shuffle1_500000': <HDF5 dataset \"syllable\": shape (53623,), type \"<i8\">, '22_04_26_cage4_0_2.top.irDLC_resnet50_moseq_exampleAug21shuffle1_500000': <HDF5 dataset \"syllable\": shape (53625,), type \"<i8\">, '22_04_26_cage4_1_1.top.irDLC_resnet50_moseq_exampleAug21shuffle1_500000': <HDF5 dataset \"syllable\": shape (53632,), type \"<i8\">, '22_27_04_cage4_mouse2_0.top.irDLC_resnet50_moseq_exampleAug21shuffle1_500000': <HDF5 dataset \"syllable\": shape (53623,), type \"<i8\">}\n"
     ]
    }
   ],
   "source": [
    "syllables = {k:v['syllable'] for k,v in results.items()}\n",
    "print(syllables)"
   ]
  },
  {
   "cell_type": "markdown",
   "metadata": {},
   "source": [
    "This proves that the states are sorted by instance frequency"
   ]
  },
  {
   "cell_type": "code",
   "execution_count": 5,
   "metadata": {},
   "outputs": [
    {
     "name": "stdout",
     "output_type": "stream",
     "text": [
      "[6135 3715 3226 3165 2824 2584 2295 2043 1845  853  681  500  458  420\n",
      "  329  328  294  212  204  181  134  122  117   82   72]\n",
      "True\n"
     ]
    }
   ],
   "source": [
    "# stateseqs = {\n",
    "#         'name1': np.array([1, 1, 2, 2, 2, 3]),\n",
    "#         'name2': np.array([0, 0, 0, 1])}\n",
    "stateseq_flat = np.hstack(list(syllables.values()))\n",
    "state_onsets = np.pad(np.diff(stateseq_flat).nonzero()[0] + 1, (1, 0))\n",
    "stateseq_flat = stateseq_flat[state_onsets]\n",
    "counts = np.bincount(stateseq_flat, minlength=77)\n",
    "print(counts[:25])\n",
    "print(np.all(np.diff(counts)<=0))\n"
   ]
  },
  {
   "cell_type": "code",
   "execution_count": 6,
   "metadata": {},
   "outputs": [
    {
     "name": "stdout",
     "output_type": "stream",
     "text": [
      "22_04_26_cage4_0.top.irDLC_resnet50_moseq_exampleAug21shuffle1_500000\n",
      "21_12_2_def6b_2.top.irDLC_resnet50_moseq_exampleAug21shuffle1_500000\n",
      "21_12_10_def6a_3.top.irDLC_resnet50_moseq_exampleAug21shuffle1_500000\n",
      "21_12_10_def6a_1_1.top.irDLC_resnet50_moseq_exampleAug21shuffle1_500000\n",
      "22_04_26_cage4_1_1.top.irDLC_resnet50_moseq_exampleAug21shuffle1_500000\n",
      "21_12_2_def6a_1.top.irDLC_resnet50_moseq_exampleAug21shuffle1_500000\n",
      "21_12_10_def6b_3.top.irDLC_resnet50_moseq_exampleAug21shuffle1_500000\n",
      "22_04_26_cage4_0_2.top.irDLC_resnet50_moseq_exampleAug21shuffle1_500000\n",
      "21_11_8_one_mouse.top.irDLC_resnet50_moseq_exampleAug21shuffle1_500000\n",
      "22_27_04_cage4_mouse2_0.top.irDLC_resnet50_moseq_exampleAug21shuffle1_500000\n",
      "597573\n"
     ]
    }
   ],
   "source": [
    "state_dim = 18\n",
    "action_dim = 18\n",
    "n_task = 20 # filter out some non-frequent tasks\n",
    "original_replay_buffer = buffer.ReplayBuffer(state_dim, action_dim, 1000000, 'cpu')\n",
    "for name in dlc_sample['coordinates'].keys():\n",
    "    print(name)\n",
    "    for i in range(len(dlc_sample['coordinates'][name])-1):\n",
    "        state = np.array(dlc_sample['coordinates'][name][i].flatten())\n",
    "        next_state = np.array(dlc_sample['coordinates'][name][i+1].flatten())\n",
    "        action = next_state - state\n",
    "        task = np.array(results[name]['syllable'][i])\n",
    "        next_task = np.array(results[name]['syllable'][i+1])\n",
    "        assert not np.all(np.isnan(state))\n",
    "        if task < n_task and next_task < n_task:\n",
    "            original_replay_buffer.add(state, action, next_state, 0, 0, task, next_task)\n",
    "print(original_replay_buffer.size)\n",
    "torch.save(original_replay_buffer.state_dict(), './kms/replay_buffer.pth')\n"
   ]
  },
  {
   "cell_type": "code",
   "execution_count": 6,
   "metadata": {},
   "outputs": [
    {
     "name": "stdout",
     "output_type": "stream",
     "text": [
      "(1000000, 18)\n"
     ]
    }
   ],
   "source": []
  },
  {
   "cell_type": "code",
   "execution_count": 7,
   "metadata": {},
   "outputs": [
    {
     "name": "stdout",
     "output_type": "stream",
     "text": [
      "[[420. 340. 420. ... 380. 378. 364.]\n",
      " [420. 340. 420. ... 380. 378. 364.]\n",
      " [420. 340. 420. ... 380. 378. 364.]\n",
      " ...\n",
      " [208. 216. 232. ... 190. 268. 210.]\n",
      " [264. 240. 312. ... 322. 338. 338.]\n",
      " [264. 242. 314. ... 322. 340. 338.]]\n"
     ]
    }
   ],
   "source": [
    "length = original_replay_buffer.size\n",
    "print(original_replay_buffer.state[:10000])"
   ]
  },
  {
   "cell_type": "markdown",
   "metadata": {},
   "source": [
    "This normalization scales every dimension with the same factor to make sure that the relative position is not discarded"
   ]
  },
  {
   "cell_type": "code",
   "execution_count": 9,
   "metadata": {},
   "outputs": [
    {
     "name": "stdout",
     "output_type": "stream",
     "text": [
      "0.0 0.0 0.0 0.0 0.0 2.0 2.0 2.0 0.0 2.0 2.0 0.0 2.0 4.0 2.0 2.0 2.0 0.0 0.0 2.0 2.0 0.0 2.0 0.0 0.0 0.0 2.0 0.0 0.0 2.0 4.0 0.0 2.0 2.0 0.0 2.0 0.0 4.0 2.0 0.0 2.0 2.0 2.0 2.0 2.0 2.0 2.0 2.0 8.0 2.0 0.0 0.0 0.0 0.0 0.0 0.0 0.0 0.0 0.0 0.0 0.0 0.0 0.0 0.0 2.0 0.0 0.0 0.0 0.0 0.0 0.0 0.0 2.0 0.0 2.0 0.0 2.0 0.0 0.0 0.0 0.0 2.0 2.0 0.0 2.0 0.0 2.0 2.0 2.0 2.0 2.0 2.0 0.0 0.0 2.0 2.0 2.0 2.0 0.0 2.0 2.0 2.0 0.0 2.0 0.0 0.0 2.0 0.0 0.0 0.0 2.0 0.0 0.0 2.0 2.0 2.0 0.0 0.0 2.0 2.0 0.0 0.0 0.0 2.0 2.0 0.0 2.0 0.0 0.0 2.0 0.0 0.0 2.0 2.0 0.0 0.0 0.0 2.0 0.0 2.0 0.0 2.0 0.0 2.0 2.0 0.0 2.0 0.0 0.0 2.0 0.0 0.0 0.0 0.0 2.0 2.0 0.0 0.0 0.0 0.0 2.0 2.0 0.0 0.0 0.0 2.0 0.0 0.0 2.0 2.0 0.0 0.0 2.0 2.0 0.0 0.0 2.0 2.0 2.0 2.0 2.0 4.0 2.0 2.0 2.0 2.0 2.0 0.0 2.0 2.0 2.0 2.0 0.0 2.0 2.0 2.0 2.0 2.0 2.0 2.0 "
     ]
    }
   ],
   "source": [
    "# normalize\n",
    "all_state = original_replay_buffer.state[:length]\n",
    "all_next_state = original_replay_buffer.next_state[:length]\n",
    "state_min = np.concatenate([all_state, all_next_state[-1:]]).min()\n",
    "state_max = np.concatenate([all_state, all_next_state[-1:]]).max()\n",
    "state_range = state_max - state_min\n",
    "normalized_state = (all_state - state_min) / state_range * 2 - 1\n",
    "normalized_next_state = (all_next_state - state_min) / state_range * 2 - 1\n",
    "# print(normalized_next_state.min(0), normalized_next_state.max(0))\n",
    "all_action = original_replay_buffer.action[:length]\n",
    "action_min = all_action.min()\n",
    "action_max = all_action.max()\n",
    "action_range = action_max - action_min\n",
    "normalized_action = (all_action - action_min) / action_range * 2 - 1\n",
    "# for i in range(state_dim):\n",
    "#     print(all_action[:100,i])\n",
    "#     plt.hist(all_action[:, i], bins=100)\n",
    "#     plt.show()\n",
    "for i in range(200):\n",
    "    print(all_action[i].max(), end=' ')"
   ]
  },
  {
   "cell_type": "code",
   "execution_count": 13,
   "metadata": {},
   "outputs": [],
   "source": [
    "shuffle_idx = np.arange(length)\n",
    "np.random.shuffle(shuffle_idx)\n",
    "train_idx = shuffle_idx[:int(length*0.8)]\n",
    "test_idx = shuffle_idx[int(length*0.8):]\n",
    "train_state = torch.FloatTensor(normalized_state[train_idx])\n",
    "train_action = torch.FloatTensor(normalized_action[train_idx])\n",
    "train_next_state = torch.FloatTensor(normalized_next_state[train_idx])\n",
    "train_task = torch.Tensor(original_replay_buffer.task[train_idx])\n",
    "train_next_task = torch.Tensor(original_replay_buffer.next_task[train_idx])\n",
    "train_reward = torch.zeros((train_state.shape[0], 1))\n",
    "train_done = torch.zeros((train_state.shape[0], 1))\n",
    "train_buffer_state_dict = {'state': train_state, \n",
    "                           'action': train_action, \n",
    "                           'next_state': train_next_state, \n",
    "                           'reward': train_reward, \n",
    "                           'done': train_done, \n",
    "                           'task': train_task, \n",
    "                           'next_task': train_next_task,\n",
    "                           'size': len(train_idx),\n",
    "                           'ptr': 0}\n",
    "test_state = torch.FloatTensor(normalized_state[test_idx])\n",
    "test_action = torch.FloatTensor(normalized_action[test_idx])\n",
    "test_next_state = torch.FloatTensor(normalized_next_state[test_idx])\n",
    "test_task = torch.Tensor(original_replay_buffer.task[test_idx])\n",
    "test_next_task = torch.Tensor(original_replay_buffer.next_task[test_idx])\n",
    "test_reward = torch.zeros((test_state.shape[0], 1))\n",
    "test_done = torch.zeros((test_state.shape[0], 1))\n",
    "test_buffer_state_dict = {'state': test_state, \n",
    "                          'action': test_action, \n",
    "                          'next_state': test_next_state, \n",
    "                          'reward': test_reward, \n",
    "                          'done': test_done, \n",
    "                          'task': test_task, \n",
    "                          'next_task': test_next_task,\n",
    "                          'size': len(test_idx),\n",
    "                          'ptr': 0}\n",
    "\n"
   ]
  },
  {
   "cell_type": "code",
   "execution_count": 14,
   "metadata": {},
   "outputs": [
    {
     "name": "stdout",
     "output_type": "stream",
     "text": [
      "torch.Size([478058, 18]) torch.Size([119515, 18])\n"
     ]
    }
   ],
   "source": [
    "torch.save(train_buffer_state_dict, './kms/train_buffer_state_dict.pth')\n",
    "torch.save(test_buffer_state_dict, './kms/test_buffer_state_dict.pth')\n",
    "print(train_state.shape, test_state.shape)"
   ]
  },
  {
   "cell_type": "code",
   "execution_count": 12,
   "metadata": {},
   "outputs": [],
   "source": [
    "normalize_dict = {\n",
    "    'state_min': state_min,\n",
    "    'state_max': state_max,\n",
    "    'action_min': action_min,\n",
    "    'action_max': action_max\n",
    "}\n",
    "torch.save(normalize_dict, './kms/normalize_dict.pth')"
   ]
  },
  {
   "cell_type": "code",
   "execution_count": 26,
   "metadata": {},
   "outputs": [
    {
     "name": "stdout",
     "output_type": "stream",
     "text": [
      "77\n",
      "[67 70 64 74 69 68 75 76 61 52 66 72 65 60 41 73 63 53 58 54 40 62 39 35\n",
      " 55 57 43 56 48 47 51 59 38 45 49 34 33 71 50 29 42 44 20 37 27 46 36 31\n",
      " 30 17 22 28 25 18 26 32 21 23 16 11 19 12 24 14 13 10  9 15  7  8  4  2\n",
      "  3  5  6  1  0]\n"
     ]
    }
   ],
   "source": [
    "task_all = original_replay_buffer.task\n",
    "freq = np.zeros((int(task_all.max()), ))\n",
    "print(len(freq))\n",
    "for i in range(len(freq)):\n",
    "    freq[i] = len(task_all[task_all == i])\n",
    "print(np.argsort(freq))"
   ]
  },
  {
   "cell_type": "code",
   "execution_count": 6,
   "metadata": {},
   "outputs": [
    {
     "name": "stdout",
     "output_type": "stream",
     "text": [
      "53640\n",
      "42912 10728\n",
      "state\n",
      "action\n",
      "next_state\n",
      "reward\n",
      "done\n",
      "task\n",
      "next_task\n",
      "42912 10728\n",
      "Save\n"
     ]
    }
   ],
   "source": [
    "state_dim = 54\n",
    "action_dim = 54\n",
    "n_task = 60\n",
    "original_replay_buffer = buffer.ReplayBuffer(state_dim, action_dim, 100000, 'cuda:0')\n",
    "replay_buffer_path = f'./data/replay_buffer_18body_normalized_new.pth'\n",
    "original_replay_buffer.load_state_dict(torch.load(replay_buffer_path))\n",
    "\n",
    "state_all, action_all, next_state_all, task_all, next_task_all, reward_all, done_all = \\\n",
    "    original_replay_buffer.state, original_replay_buffer.action, original_replay_buffer.next_state, original_replay_buffer.task,\\\n",
    "    original_replay_buffer.next_task, original_replay_buffer.reward, original_replay_buffer.done\n",
    "\n",
    "length = original_replay_buffer.size\n",
    "print(length)\n",
    "all_idx = np.arange(length)\n",
    "np.random.shuffle(all_idx)\n",
    "train_idx = torch.tensor(all_idx[:int(0.8*length)])\n",
    "test_idx = torch.tensor(all_idx[int(0.8*length):])\n",
    "print(len(train_idx), len(test_idx))\n",
    "train_buffer = buffer.ReplayBuffer(state_dim, action_dim, 100000, 'cuda:0')\n",
    "test_buffer = buffer.ReplayBuffer(state_dim, action_dim, 100000, 'cuda:0')\n",
    "for key in original_replay_buffer.state_dict().keys():\n",
    "    if key != 'ptr' and key != 'size':\n",
    "        print(key)\n",
    "        train_buffer.__setattr__(key, original_replay_buffer.__getattribute__(key)[train_idx])\n",
    "        test_buffer.__setattr__(key, original_replay_buffer.__getattribute__(key)[test_idx])\n",
    "train_buffer.size = len(train_idx)\n",
    "test_buffer.size = len(test_idx)\n",
    "print(train_buffer.size, test_buffer.size)\n",
    "train_buffer_path = './data/replay_buffer_18body_normalized_new_train.pth'\n",
    "test_buffer_path = './data/replay_buffer_18body_normalized_new_test.pth'\n",
    "torch.save(train_buffer.state_dict(), train_buffer_path)\n",
    "torch.save(test_buffer.state_dict(), test_buffer_path)\n",
    "print('Save')"
   ]
  },
  {
   "cell_type": "code",
   "execution_count": null,
   "metadata": {},
   "outputs": [],
   "source": []
  },
  {
   "cell_type": "code",
   "execution_count": 7,
   "metadata": {},
   "outputs": [
    {
     "name": "stdout",
     "output_type": "stream",
     "text": [
      "Replay buffer loaded from ../../rat7m/replay_buffer_3sigma_tanh.pth\n",
      "[[123.7345 200.4987  65.4375   1.6622   2.1916   2.9454   2.2586   1.2536]\n",
      " [122.0299 200.5316  65.018    2.2142   1.0883  -0.2754  -1.4034  -0.4355]\n",
      " [121.6406 204.4449  64.7374   2.1142   0.8841   0.8824  -0.7641  -0.3044]\n",
      " [119.6549 208.4292  63.5946   2.2176   0.7737   0.8069  -0.8365  -0.6493]\n",
      " [115.8762 211.75    62.8877   2.2768   0.7703   0.8167  -0.821   -0.8076]] [[-0.34454262  0.00763125 -0.12247826  0.31052968 -0.99996726 -1.\n",
      "  -1.         -0.99917449]\n",
      " [-0.08144281  0.69766468 -0.082172   -0.05811319 -0.76975863  0.99953365\n",
      "   0.96095639  0.29358702]\n",
      " [-0.39572373  0.70560781 -0.32321757  0.06007965 -0.50147558 -0.26604764\n",
      "  -0.21815791 -0.66150799]\n",
      " [-0.66236116  0.62439099 -0.20446598  0.03442451 -0.01689035  0.03546069\n",
      "   0.04748554 -0.34966728]\n",
      " [-0.58580544  0.60933533 -0.29857967  0.02343848  0.25035685  0.03509997\n",
      "   0.12919138 -0.44434385]]\n"
     ]
    }
   ],
   "source": [
    "def load_rat7m():\n",
    "    state_dim = 8\n",
    "    action_dim = 8\n",
    "    replay_buffer = buffer.ReplayBuffer(state_dim, action_dim, 1000000)\n",
    "    replay_buffer_path = f'../../rat7m/replay_buffer_3sigma_tanh.pth'\n",
    "    replay_buffer.load_state_dict(torch.load(replay_buffer_path))\n",
    "    print(f'Replay buffer loaded from {replay_buffer_path}')\n",
    "    return replay_buffer, state_dim, action_dim\n",
    "original_replay_buffer, state_dim, action_dim = load_rat7m()\n",
    "print(original_replay_buffer.state[:5], original_replay_buffer.action[:5])"
   ]
  },
  {
   "cell_type": "code",
   "execution_count": 2,
   "metadata": {},
   "outputs": [
    {
     "name": "stdout",
     "output_type": "stream",
     "text": [
      "0.8587985840314173\n"
     ]
    }
   ],
   "source": [
    "matrix_notxyz = np.load('./figure/rat7m/spedersac/dim64_sa_sp_buffer_20body_normalized_lasso_1e-2/0/ig_matrix_agg.npy')\n",
    "matrix_xyz = np.load('./figure/rat7m/spedersac/dim64_sa_sp_buffer_20body_normalzied_lasso1e-2_xyz_group/0/ig_matrix_agg.npy')\n",
    "corr = np.corrcoef(matrix_notxyz.flatten(), matrix_xyz.flatten())[0, 1]\n",
    "print(corr)"
   ]
  },
  {
   "cell_type": "code",
   "execution_count": 5,
   "metadata": {},
   "outputs": [
    {
     "name": "stdout",
     "output_type": "stream",
     "text": [
      "orig_lasso = 17.054546356201172\n",
      "new_lasso  = 17.054546356201172\n"
     ]
    }
   ],
   "source": [
    "import torch\n",
    "\n",
    "phi_hidden_dim = 10\n",
    "input_dim = 9  # suppose we have 2 groups, each with xyz => 2*3=6\n",
    "W = torch.randn(phi_hidden_dim, input_dim)\n",
    "\n",
    "# Original approach\n",
    "W_orig = W.reshape(phi_hidden_dim, input_dim//3, 3)\n",
    "orig_lasso = torch.sqrt(W_orig.pow(2).sum(dim=0).sum(dim=-1)).sum()\n",
    "\n",
    "# New approach\n",
    "W_t = W.T.reshape(-1, phi_hidden_dim*3)\n",
    "new_lasso = torch.norm(W_t, dim=1).sum()\n",
    "\n",
    "print(\"orig_lasso =\", orig_lasso.item())\n",
    "print(\"new_lasso  =\", new_lasso.item())"
   ]
  },
  {
   "cell_type": "code",
   "execution_count": 10,
   "metadata": {},
   "outputs": [
    {
     "name": "stdout",
     "output_type": "stream",
     "text": [
      "PCA()\n"
     ]
    }
   ],
   "source": [
    "state_name = ['HeadF','HeadB','HeadL','SpineF','SpineM',\n",
    "                'SpineL','HipL','HipR','ElbowL','ArmL',\n",
    "                'ShoulderL','ShoulderR','ElbowR','ArmR','KneeR',\n",
    "                'KneeL','ShinL','ShinR']\n",
    "# When I transfer the skeleton into edges, Please refer to the following skeleton.\n",
    "\n",
    "state_name = ['HeadF','HeadB','HeadL','SpineF','SpineM',\n",
    "              'SpineL','HipL','HipR','ElbowL','ArmL',\n",
    "              'ShoulderL','ShoulderR','ElbowR','ArmR','KneeR',\n",
    "              'KneeL','ShinL','ShinR']\n",
    "\n",
    "skeleton = [('HeadF', 'HeadB'), ('HeadF', 'HeadL'), ('HeadB', 'HeadL'),\n",
    "            ('HeadB', 'SpineF'), ('HeadL', 'SpineF'), ('SpineF', 'SpineM'),\n",
    "            ('SpineM', 'SpineL'), ('SpineF', 'ShoulderL'), ('ShoulderL', 'ElbowL'),\n",
    "            ('ElbowL', 'ArmL'), ('SpineF', 'ShoulderR'), ('ShoulderR', 'ElbowR'),\n",
    "            ('ElbowR', 'ArmR'), ('SpineM', 'HipL'), ('HipL', 'KneeL'),\n",
    "            ('KneeL', 'ShinL'), ('SpineM', 'HipR'), ('HipR', 'KneeR'),\n",
    "            ('KneeR', 'ShinR')]\n",
    "edges = []\n",
    "for i in skeleton:\n",
    "  edges.append((state_name.index(i[0]), state_name.index(i[1])))\n",
    "\n",
    "import joblib\n",
    "import numpy as np\n",
    "import matplotlib.pyplot as plt\n",
    "pca = joblib.load('./pca.p')\n",
    "print(pca)"
   ]
  },
  {
   "cell_type": "code",
   "execution_count": 47,
   "metadata": {},
   "outputs": [
    {
     "name": "stderr",
     "output_type": "stream",
     "text": [
      "/tmp/ipykernel_8790/2271248462.py:43: MatplotlibDeprecationWarning: The get_cmap function was deprecated in Matplotlib 3.7 and will be removed two minor releases later. Use ``matplotlib.colormaps[name]`` or ``matplotlib.colormaps.get_cmap(obj)`` instead.\n",
      "  cmap = plt.cm.get_cmap('viridis')\n"
     ]
    },
    {
     "data": {
      "image/png": "[encoded data removed]",
      "text/plain": [
       "<Figure size 400x400 with 1 Axes>"
      ]
     },
     "metadata": {},
     "output_type": "display_data"
    }
   ],
   "source": [
    "def center_embedding(n):\n",
    "    \"\"\"\n",
    "    Generates a matrix ``Gamma`` that maps from a (n-1)-dimensional\n",
    "    vector space  to the space of k-tuples with zero mean\n",
    "\n",
    "    Parameters\n",
    "    ----------\n",
    "    n : int\n",
    "        Number of keypoints.\n",
    "\n",
    "    Returns\n",
    "    -------\n",
    "    Gamma: jax array of shape (n, n - 1)\n",
    "        Matrix to map to centered embedded space.\n",
    "    \"\"\"\n",
    "    X = np.tril(np.ones((n, n)), k=-1)[1:]\n",
    "    X = np.eye(n)[1:] - X / X.sum(1)[:, None]\n",
    "    X = X / np.sqrt((X**2).sum(1))[:, None]\n",
    "    return X.T\n",
    "Gamma = np.array(center_embedding(len(state_name)))\n",
    "\n",
    "ymean = Gamma @ pca.mean_.reshape(len(state_name)-1, -1)\n",
    "ymean[state_name.index('HeadB'), 2] -= 10\n",
    "ymean[state_name.index('HeadF'), 0] += 10\n",
    "ymean[state_name.index('SpineL'), 2] += 20\n",
    "ymean[state_name.index('ShoulderL'), 0] += 20\n",
    "ymean[state_name.index('ElbowL'), 0] += 20\n",
    "ymean[state_name.index('ElbowL'), 2] += 10\n",
    "ymean[state_name.index('ArmL'), 0] += 30\n",
    "ymean[state_name.index('ArmL'), 2] += 10\n",
    "ymean[state_name.index('ArmR'), 0] += 10\n",
    "ymean[state_name.index('HipL'), 2] += 10\n",
    "ymean[state_name.index('HipL'), 0] += 30\n",
    "ymean[state_name.index('KneeL'), 2] += 10\n",
    "ymean[state_name.index('KneeL'), 0] += 30\n",
    "ymean[state_name.index('ShinL'), 2] += 10\n",
    "ymean[state_name.index('ShinL'), 0] += 30\n",
    "ymean[state_name.index('HipR'), 0] -= 10\n",
    "ymean[state_name.index('HipR'), 2] += 10\n",
    "fig, axes = plt.subplots(1, 1, figsize=(4, 4))\n",
    "dims = [0, 2]\n",
    "dims, name = [0,2], 'xz'\n",
    "cmap = plt.cm.get_cmap('viridis')\n",
    "keypoint_colors = cmap(np.linspace(0, 1, len(state_name)))\n",
    "# print(keypoint_colors)\n",
    "n_bodyparts = len(state_name)\n",
    "ig_matrix_agg_xyz = np.load('./figure/rat7m/spedersac/dim64_sa_sp_buffer_20body_normalzied_lasso1e-2_xyz_group/0/ig_matrix_agg.npy')\n",
    "for e in edges:\n",
    "    axes.plot(\n",
    "        *ymean[:, dims][e,:].T,\n",
    "        color=keypoint_colors[e[0]],\n",
    "        linewidth=5.0,\n",
    "        zorder=0)\n",
    "node_colors = ['blue' if ig_matrix_agg_xyz[0, j] < 0 else 'red' for j in range(2*n_bodyparts)]\n",
    "axes.scatter(\n",
    "        *ymean[:, dims].T,\n",
    "        c=node_colors[:n_bodyparts],\n",
    "        s=np.abs(ig_matrix_agg_xyz[0, :n_bodyparts])*120,\n",
    "        zorder=1)\n",
    "axes.axis('off')\n",
    "plt.show()"
   ]
  },
  {
   "cell_type": "code",
   "execution_count": 48,
   "metadata": {},
   "outputs": [],
   "source": [
    "np.save('ymean.npy', ymean)"
   ]
  },
  {
   "cell_type": "code",
   "execution_count": null,
   "metadata": {},
   "outputs": [],
   "source": []
  }
 ],
 "metadata": {
  "kernelspec": {
   "display_name": "mixer",
   "language": "python",
   "name": "python3"
  },
  "language_info": {
   "codemirror_mode": {
    "name": "ipython",
    "version": 3
   },
   "file_extension": ".py",
   "mimetype": "text/x-python",
   "name": "python",
   "nbconvert_exporter": "python",
   "pygments_lexer": "ipython3",
   "version": "3.8.19"
  }
 },
 "nbformat": 4,
 "nbformat_minor": 2
}
