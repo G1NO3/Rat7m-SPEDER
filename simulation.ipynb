{
 "cells": [
  {
   "cell_type": "code",
   "execution_count": 1,
   "metadata": {},
   "outputs": [
    {
     "name": "stderr",
     "output_type": "stream",
     "text": [
      "/home/geert/anaconda3/envs/mixer/lib/python3.8/site-packages/tqdm/auto.py:21: TqdmWarning: IProgress not found. Please update jupyter and ipywidgets. See https://ipywidgets.readthedocs.io/en/stable/user_install.html\n",
      "  from .autonotebook import tqdm as notebook_tqdm\n",
      "/home/geert/anaconda3/envs/mixer/lib/python3.8/site-packages/gym/envs/registration.py:307: DeprecationWarning: The package name gym_minigrid has been deprecated in favor of minigrid. Please uninstall gym_minigrid and install minigrid with `pip install minigrid`. Future releases will be maintained under the new package name minigrid.\n",
      "  fn()\n"
     ]
    }
   ],
   "source": [
    "import numpy as np\n",
    "import torch\n",
    "import math\n",
    "from torch import nn\n",
    "import torch.nn.functional as F\n",
    "from torch import distributions as pyd\n",
    "\n",
    "from utils import util, buffer\n",
    "import pandas as pd\n",
    "import matplotlib as mpl\n",
    "from matplotlib import pyplot as plt\n",
    "from sklearn.decomposition import NMF\n",
    "from utils import util, buffer\n",
    "import pickle"
   ]
  },
  {
   "cell_type": "code",
   "execution_count": 7,
   "metadata": {},
   "outputs": [
    {
     "name": "stdout",
     "output_type": "stream",
     "text": [
      "Replay buffer loaded from ../../rat7m/replay_buffer_3sigma_tanh.pth\n",
      "[[123.7345 200.4987  65.4375   1.6622   2.1916   2.9454   2.2586   1.2536]\n",
      " [122.0299 200.5316  65.018    2.2142   1.0883  -0.2754  -1.4034  -0.4355]\n",
      " [121.6406 204.4449  64.7374   2.1142   0.8841   0.8824  -0.7641  -0.3044]\n",
      " [119.6549 208.4292  63.5946   2.2176   0.7737   0.8069  -0.8365  -0.6493]\n",
      " [115.8762 211.75    62.8877   2.2768   0.7703   0.8167  -0.821   -0.8076]] [[-0.34454262  0.00763125 -0.12247826  0.31052968 -0.99996726 -1.\n",
      "  -1.         -0.99917449]\n",
      " [-0.08144281  0.69766468 -0.082172   -0.05811319 -0.76975863  0.99953365\n",
      "   0.96095639  0.29358702]\n",
      " [-0.39572373  0.70560781 -0.32321757  0.06007965 -0.50147558 -0.26604764\n",
      "  -0.21815791 -0.66150799]\n",
      " [-0.66236116  0.62439099 -0.20446598  0.03442451 -0.01689035  0.03546069\n",
      "   0.04748554 -0.34966728]\n",
      " [-0.58580544  0.60933533 -0.29857967  0.02343848  0.25035685  0.03509997\n",
      "   0.12919138 -0.44434385]]\n"
     ]
    }
   ],
   "source": [
    "def load_rat7m():\n",
    "    state_dim = 8\n",
    "    action_dim = 8\n",
    "    replay_buffer = buffer.ReplayBuffer(state_dim, action_dim, 1000000)\n",
    "    replay_buffer_path = f'../../rat7m/replay_buffer_3sigma_tanh.pth'\n",
    "    replay_buffer.load_state_dict(torch.load(replay_buffer_path))\n",
    "    print(f'Replay buffer loaded from {replay_buffer_path}')\n",
    "    return replay_buffer, state_dim, action_dim\n",
    "replay_buffer, state_dim, action_dim = load_rat7m()\n",
    "print(replay_buffer.state[:5], replay_buffer.action[:5])"
   ]
  },
  {
   "cell_type": "code",
   "execution_count": 2,
   "metadata": {},
   "outputs": [
    {
     "name": "stdout",
     "output_type": "stream",
     "text": [
      "0.8587985840314173\n"
     ]
    }
   ],
   "source": [
    "matrix_notxyz = np.load('./figure/rat7m/spedersac/dim64_sa_sp_buffer_20body_normalized_lasso_1e-2/0/ig_matrix_agg.npy')\n",
    "matrix_xyz = np.load('./figure/rat7m/spedersac/dim64_sa_sp_buffer_20body_normalzied_lasso1e-2_xyz_group/0/ig_matrix_agg.npy')\n",
    "corr = np.corrcoef(matrix_notxyz.flatten(), matrix_xyz.flatten())[0, 1]\n",
    "print(corr)"
   ]
  },
  {
   "cell_type": "code",
   "execution_count": 5,
   "metadata": {},
   "outputs": [
    {
     "name": "stdout",
     "output_type": "stream",
     "text": [
      "orig_lasso = 17.054546356201172\n",
      "new_lasso  = 17.054546356201172\n"
     ]
    }
   ],
   "source": [
    "import torch\n",
    "\n",
    "phi_hidden_dim = 10\n",
    "input_dim = 9  # suppose we have 2 groups, each with xyz => 2*3=6\n",
    "W = torch.randn(phi_hidden_dim, input_dim)\n",
    "\n",
    "# Original approach\n",
    "W_orig = W.reshape(phi_hidden_dim, input_dim//3, 3)\n",
    "orig_lasso = torch.sqrt(W_orig.pow(2).sum(dim=0).sum(dim=-1)).sum()\n",
    "\n",
    "# New approach\n",
    "W_t = W.T.reshape(-1, phi_hidden_dim*3)\n",
    "new_lasso = torch.norm(W_t, dim=1).sum()\n",
    "\n",
    "print(\"orig_lasso =\", orig_lasso.item())\n",
    "print(\"new_lasso  =\", new_lasso.item())"
   ]
  },
  {
   "cell_type": "code",
   "execution_count": 10,
   "metadata": {},
   "outputs": [
    {
     "name": "stdout",
     "output_type": "stream",
     "text": [
      "PCA()\n"
     ]
    }
   ],
   "source": [
    "state_name = ['HeadF','HeadB','HeadL','SpineF','SpineM',\n",
    "                'SpineL','HipL','HipR','ElbowL','ArmL',\n",
    "                'ShoulderL','ShoulderR','ElbowR','ArmR','KneeR',\n",
    "                'KneeL','ShinL','ShinR']\n",
    "# When I transfer the skeleton into edges, Please refer to the following skeleton.\n",
    "\n",
    "state_name = ['HeadF','HeadB','HeadL','SpineF','SpineM',\n",
    "              'SpineL','HipL','HipR','ElbowL','ArmL',\n",
    "              'ShoulderL','ShoulderR','ElbowR','ArmR','KneeR',\n",
    "              'KneeL','ShinL','ShinR']\n",
    "\n",
    "skeleton = [('HeadF', 'HeadB'), ('HeadF', 'HeadL'), ('HeadB', 'HeadL'),\n",
    "            ('HeadB', 'SpineF'), ('HeadL', 'SpineF'), ('SpineF', 'SpineM'),\n",
    "            ('SpineM', 'SpineL'), ('SpineF', 'ShoulderL'), ('ShoulderL', 'ElbowL'),\n",
    "            ('ElbowL', 'ArmL'), ('SpineF', 'ShoulderR'), ('ShoulderR', 'ElbowR'),\n",
    "            ('ElbowR', 'ArmR'), ('SpineM', 'HipL'), ('HipL', 'KneeL'),\n",
    "            ('KneeL', 'ShinL'), ('SpineM', 'HipR'), ('HipR', 'KneeR'),\n",
    "            ('KneeR', 'ShinR')]\n",
    "edges = []\n",
    "for i in skeleton:\n",
    "  edges.append((state_name.index(i[0]), state_name.index(i[1])))\n",
    "\n",
    "import joblib\n",
    "import numpy as np\n",
    "import matplotlib.pyplot as plt\n",
    "pca = joblib.load('./pca.p')\n",
    "print(pca)"
   ]
  },
  {
   "cell_type": "code",
   "execution_count": 47,
   "metadata": {},
   "outputs": [
    {
     "name": "stderr",
     "output_type": "stream",
     "text": [
      "/tmp/ipykernel_8790/2271248462.py:43: MatplotlibDeprecationWarning: The get_cmap function was deprecated in Matplotlib 3.7 and will be removed two minor releases later. Use ``matplotlib.colormaps[name]`` or ``matplotlib.colormaps.get_cmap(obj)`` instead.\n",
      "  cmap = plt.cm.get_cmap('viridis')\n"
     ]
    },
    {
     "data": {
      "image/png": "[encoded data removed]",
      "text/plain": [
       "<Figure size 400x400 with 1 Axes>"
      ]
     },
     "metadata": {},
     "output_type": "display_data"
    }
   ],
   "source": [
    "def center_embedding(n):\n",
    "    \"\"\"\n",
    "    Generates a matrix ``Gamma`` that maps from a (n-1)-dimensional\n",
    "    vector space  to the space of k-tuples with zero mean\n",
    "\n",
    "    Parameters\n",
    "    ----------\n",
    "    n : int\n",
    "        Number of keypoints.\n",
    "\n",
    "    Returns\n",
    "    -------\n",
    "    Gamma: jax array of shape (n, n - 1)\n",
    "        Matrix to map to centered embedded space.\n",
    "    \"\"\"\n",
    "    X = np.tril(np.ones((n, n)), k=-1)[1:]\n",
    "    X = np.eye(n)[1:] - X / X.sum(1)[:, None]\n",
    "    X = X / np.sqrt((X**2).sum(1))[:, None]\n",
    "    return X.T\n",
    "Gamma = np.array(center_embedding(len(state_name)))\n",
    "\n",
    "ymean = Gamma @ pca.mean_.reshape(len(state_name)-1, -1)\n",
    "ymean[state_name.index('HeadB'), 2] -= 10\n",
    "ymean[state_name.index('HeadF'), 0] += 10\n",
    "ymean[state_name.index('SpineL'), 2] += 20\n",
    "ymean[state_name.index('ShoulderL'), 0] += 20\n",
    "ymean[state_name.index('ElbowL'), 0] += 20\n",
    "ymean[state_name.index('ElbowL'), 2] += 10\n",
    "ymean[state_name.index('ArmL'), 0] += 30\n",
    "ymean[state_name.index('ArmL'), 2] += 10\n",
    "ymean[state_name.index('ArmR'), 0] += 10\n",
    "ymean[state_name.index('HipL'), 2] += 10\n",
    "ymean[state_name.index('HipL'), 0] += 30\n",
    "ymean[state_name.index('KneeL'), 2] += 10\n",
    "ymean[state_name.index('KneeL'), 0] += 30\n",
    "ymean[state_name.index('ShinL'), 2] += 10\n",
    "ymean[state_name.index('ShinL'), 0] += 30\n",
    "ymean[state_name.index('HipR'), 0] -= 10\n",
    "ymean[state_name.index('HipR'), 2] += 10\n",
    "fig, axes = plt.subplots(1, 1, figsize=(4, 4))\n",
    "dims = [0, 2]\n",
    "dims, name = [0,2], 'xz'\n",
    "cmap = plt.cm.get_cmap('viridis')\n",
    "keypoint_colors = cmap(np.linspace(0, 1, len(state_name)))\n",
    "# print(keypoint_colors)\n",
    "n_bodyparts = len(state_name)\n",
    "ig_matrix_agg_xyz = np.load('./figure/rat7m/spedersac/dim64_sa_sp_buffer_20body_normalzied_lasso1e-2_xyz_group/0/ig_matrix_agg.npy')\n",
    "for e in edges:\n",
    "    axes.plot(\n",
    "        *ymean[:, dims][e,:].T,\n",
    "        color=keypoint_colors[e[0]],\n",
    "        linewidth=5.0,\n",
    "        zorder=0)\n",
    "node_colors = ['blue' if ig_matrix_agg_xyz[0, j] < 0 else 'red' for j in range(2*n_bodyparts)]\n",
    "axes.scatter(\n",
    "        *ymean[:, dims].T,\n",
    "        c=node_colors[:n_bodyparts],\n",
    "        s=np.abs(ig_matrix_agg_xyz[0, :n_bodyparts])*120,\n",
    "        zorder=1)\n",
    "axes.axis('off')\n",
    "plt.show()"
   ]
  },
  {
   "cell_type": "code",
   "execution_count": 48,
   "metadata": {},
   "outputs": [],
   "source": [
    "np.save('ymean.npy', ymean)"
   ]
  },
  {
   "cell_type": "code",
   "execution_count": null,
   "metadata": {},
   "outputs": [],
   "source": []
  }
 ],
 "metadata": {
  "kernelspec": {
   "display_name": "keypoint_moseq",
   "language": "python",
   "name": "python3"
  },
  "language_info": {
   "codemirror_mode": {
    "name": "ipython",
    "version": 3
   },
   "file_extension": ".py",
   "mimetype": "text/x-python",
   "name": "python",
   "nbconvert_exporter": "python",
   "pygments_lexer": "ipython3",
   "version": "3.9.21"
  }
 },
 "nbformat": 4,
 "nbformat_minor": 2
}
