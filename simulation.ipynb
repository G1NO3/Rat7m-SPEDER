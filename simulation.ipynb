{
 "cells": [
  {
   "cell_type": "code",
   "execution_count": 1,
   "metadata": {},
   "outputs": [],
   "source": [
    "import numpy as np\n",
    "import torch\n",
    "import math\n",
    "from torch import nn\n",
    "import torch.nn.functional as F\n",
    "from torch import distributions as pyd\n",
    "\n",
    "from utils import util, buffer\n",
    "import pandas as pd\n",
    "import matplotlib as mpl\n",
    "from matplotlib import pyplot as plt\n",
    "from sklearn.decomposition import NMF\n",
    "from utils import util, buffer\n",
    "import pickle\n",
    "import h5py\n",
    "\n",
    "import os\n",
    "from sklearn.decomposition import PCA\n",
    "from visualize import plot_gif"
   ]
  },
  {
   "cell_type": "code",
   "execution_count": 3,
   "metadata": {},
   "outputs": [
    {
     "name": "stdout",
     "output_type": "stream",
     "text": [
      "./figure/kms/rollout_56999.gif\n"
     ]
    },
    {
     "data": {
      "image/png": "[encoded data removed]",
      "text/plain": [
       "<Figure size 500x600 with 1 Axes>"
      ]
     },
     "metadata": {},
     "output_type": "display_data"
    }
   ],
   "source": [
    "from utils.util import unpack_batch\n",
    "state_dim = 16\n",
    "action_dim = 16\n",
    "n_task = 78\n",
    "test_buffer_path = './kms/replay_buffer_all_normalized.pth'\n",
    "replay_buffer = buffer.ReplayBuffer(state_dim, action_dim, 10000)\n",
    "replay_buffer.load_state_dict(torch.load(test_buffer_path))\n",
    "sample_len = 100\n",
    "start_idx = 56999\n",
    "sample_idx = start_idx + np.arange(sample_len)\n",
    "state, action, next_state, reward, done, task, next_task = unpack_batch(replay_buffer.take(sample_idx))\n",
    "plot_gif(state.detach().cpu().numpy(), f'./figure/kms/rollout_{start_idx}.gif')"
   ]
  },
  {
   "cell_type": "code",
   "execution_count": 15,
   "metadata": {},
   "outputs": [],
   "source": [
    "  # state_seqs_all: [syllable, state_dim]\n",
    "  # action_seqs_all: [syllable, action_dim]\n",
    "from visualize import get_edges, unpack_batch\n",
    "def plot_sa(state_seq, action_seq):\n",
    "    edges, state_name, n_dim = get_edges(state_seq.shape[-1])\n",
    "    fig, axis = plt.subplots(3, 4, figsize=(20, 15))\n",
    "    n_bodyparts = len(state_name)\n",
    "    n_sample = state_seq.shape[0]\n",
    "\n",
    "    state_to_plot = state_seq.reshape(n_sample, -1, 2)\n",
    "    state_to_plot -= state_to_plot.mean(axis=1, keepdims=True)\n",
    "    _, eigenval, vhs = np.linalg.svd(state_to_plot)\n",
    "    head_idx = state_name.index('head')\n",
    "    n_bodyparts = len(state_name)\n",
    "    pc1 = vhs[:,0,:] # [batch, 2, 2]\n",
    "    head_vector = state_to_plot[:, head_idx, :]\n",
    "    flip_sign1 = np.where(np.sum(head_vector*pc1, axis=-1, keepdims=True) < 0, -1, 1)\n",
    "    leftear_index = state_name.index('left ear')\n",
    "    pc2 = vhs[:,1,:]\n",
    "    leftear_vector = state_to_plot[:, leftear_index, :]\n",
    "    flip_sign2 = np.where(np.sum(leftear_vector*pc2, axis=-1, keepdims=True) < 0, -1, 1)\n",
    "    pc1 = pc1 * flip_sign1\n",
    "    pc2 = pc2 * flip_sign2\n",
    "    vs_calib = np.stack([pc1, pc2], axis=-1)\n",
    "    assert vs_calib.shape == (n_sample, 2, 2)\n",
    "    scale_factor = eigenval[:,0].reshape(n_sample, 1, 1)\n",
    "    rotating_s = np.matmul(state_to_plot, vs_calib)\n",
    "    rotating_a = np.matmul(action_seq.reshape(n_sample, -1, 2), vs_calib)\n",
    "    # s_all = rotating_s.reshape(n_sample, agent.state_dim)\n",
    "    # a_all = rotating_a.reshape(n_sample, agent.action_dim)\n",
    "\n",
    "    state_seqs_to_plot = rotating_s\n",
    "    action_seqs_to_plot = rotating_a\n",
    "    cmap = plt.cm.get_cmap('viridis')\n",
    "    keypoint_colors = cmap(np.linspace(0, 1, len(state_name)))\n",
    "    axmin = -0.3\n",
    "    axmax = 0.3\n",
    "    aymin = -0.3\n",
    "    aymax = 0.3\n",
    "    for j in range(n_sample):\n",
    "        for p1, p2 in edges:\n",
    "            axis[j//4, j%4].plot(\n",
    "                *state_seqs_to_plot[j, (p1, p2)].T,\n",
    "                color=keypoint_colors[p1],\n",
    "                linewidth=5.0, zorder=0)\n",
    "        axis[j//4, j%4].scatter(\n",
    "            *state_seqs_to_plot[j].T,\n",
    "            c=keypoint_colors,\n",
    "            s=100, zorder=0)\n",
    "        axis[j//4, j%4].set_title(f'{j}', fontsize=30)\n",
    "        axis[j//4, j%4].axis('off')\n",
    "        axis[j//4, j%4].set_xlim(axmin, axmax)\n",
    "        axis[j//4, j%4].set_ylim(aymin, aymax)\n",
    "        for k in range(n_bodyparts):\n",
    "            axis[j//4, j%4].quiver(state_seqs_to_plot[j, k, 0], state_seqs_to_plot[j, k, 1], \n",
    "                                action_seqs_to_plot[j, k, 0], action_seqs_to_plot[j, k, 1], \n",
    "                                angles='xy', scale_units='xy', scale=0.2, color='r', zorder=1)\n",
    "    plt.tight_layout()\n",
    "    plt.show()\n",
    "    return fig, axis\n",
    "def sample_and_plot(dataset, n_sample):\n",
    "    all_idx = np.where(dataset.task==2)[0]\n",
    "    # sample_idx = all_idx[np.random.randint(0, len(all_idx), n_sample)]\n",
    "    sample_idx = np.array([6514, 5467,  4947,  5428,  7586, 13119, 11209, 12561, 2036, 10781])\n",
    "    # sample_idx = 17387  #Left\n",
    "    # sample_idx = 67040  #Right\n",
    "    # sample_idx = np.array([17387, 67040])\n",
    "    print(f'sample_idx: {sample_idx}')\n",
    "    state, action, next_state, reward, done, task, next_task = unpack_batch(dataset.take(sample_idx))\n",
    "    print('action:', action)\n",
    "    plot_sa(state.numpy(), action.numpy())"
   ]
  },
  {
   "cell_type": "code",
   "execution_count": 16,
   "metadata": {},
   "outputs": [
    {
     "name": "stdout",
     "output_type": "stream",
     "text": [
      "sample_idx: [ 6514  5467  4947  5428  7586 13119 11209 12561  2036 10781]\n",
      "action: tensor([[ 0.0000,  0.0000,  0.0000,  0.0000,  0.0000,  0.0000,  0.0000,  0.0000,\n",
      "          0.0000, -0.0100, -0.0100, -0.0100, -0.0100,  0.0000,  0.0000, -0.0100],\n",
      "        [ 0.0000,  0.0000,  0.0000,  0.0000,  0.0000,  0.0000,  0.0000,  0.0000,\n",
      "          0.0000, -0.0100,  0.0100, -0.0100,  0.0000, -0.0100,  0.0100,  0.0000],\n",
      "        [ 0.0000,  0.0100,  0.0100,  0.0000,  0.0000,  0.0000,  0.0000,  0.0000,\n",
      "          0.0100,  0.0000,  0.0100,  0.0000,  0.0100,  0.0000,  0.0000,  0.0000],\n",
      "        [-0.0100,  0.0000, -0.0100,  0.0000, -0.0100, -0.0100, -0.0100,  0.0000,\n",
      "         -0.0100,  0.0000, -0.0200,  0.0000, -0.0100, -0.0100, -0.0200,  0.0000],\n",
      "        [ 0.0000,  0.0100,  0.0000,  0.0000,  0.0000, -0.0100,  0.0000, -0.0100,\n",
      "          0.0100, -0.0100,  0.0000, -0.0100,  0.0000, -0.0100,  0.0000,  0.0000],\n",
      "        [ 0.0000,  0.0100, -0.0100,  0.0000,  0.0000,  0.0000,  0.0000,  0.0000,\n",
      "          0.0000,  0.0000,  0.0100, -0.0200,  0.0000, -0.0100,  0.0100,  0.0000],\n",
      "        [ 0.0000, -0.0100,  0.0000, -0.0100,  0.0000, -0.0100,  0.0000,  0.0000,\n",
      "          0.0000,  0.0200, -0.0100,  0.0300,  0.0100,  0.0100, -0.0100,  0.0200],\n",
      "        [ 0.0000, -0.0200,  0.0000, -0.0100,  0.0000,  0.0000,  0.0000,  0.0100,\n",
      "          0.0100,  0.0200,  0.0000,  0.0300,  0.0100,  0.0200,  0.0000,  0.0200],\n",
      "        [-0.0100,  0.0000, -0.0100,  0.0000,  0.0000,  0.0000, -0.0100,  0.0000,\n",
      "         -0.0100,  0.0000, -0.0100,  0.0000,  0.0000, -0.0100,  0.0000,  0.0100],\n",
      "        [ 0.0000,  0.0000,  0.0000, -0.0100, -0.0100,  0.0000, -0.0100,  0.0100,\n",
      "         -0.0100,  0.0100, -0.0200,  0.0200,  0.0000,  0.0200, -0.0200,  0.0100]])\n"
     ]
    },
    {
     "name": "stderr",
     "output_type": "stream",
     "text": [
      "/tmp/ipykernel_15230/3208959166.py:34: MatplotlibDeprecationWarning: The get_cmap function was deprecated in Matplotlib 3.7 and will be removed two minor releases later. Use ``matplotlib.colormaps[name]`` or ``matplotlib.colormaps.get_cmap(obj)`` instead.\n",
      "  cmap = plt.cm.get_cmap('viridis')\n"
     ]
    },
    {
     "data": {
      "image/png": "[encoded data removed]",
      "text/plain": [
       "<Figure size 2000x1500 with 12 Axes>"
      ]
     },
     "metadata": {},
     "output_type": "display_data"
    }
   ],
   "source": [
    "state_dim = 16\n",
    "action_dim = 16\n",
    "n_task = 10\n",
    "device = torch.device('cpu')\n",
    "replay_buffer = buffer.ReplayBuffer(state_dim, action_dim, 1000000, device)\n",
    "replay_buffer_path = f'./kms/test_data_24.pth'\n",
    "replay_buffer.load_state_dict(torch.load(replay_buffer_path))\n",
    "assert np.isclose(replay_buffer.state[0:5]+replay_buffer.action[0:5], replay_buffer.next_state[0:5]).all()\n",
    "sample_and_plot(replay_buffer, 10)\n",
    "idx2 = np.array([ 7591,  9753,  7507, 12315,  1790,  8621,  4739,  2836,  9721,  3280])"
   ]
  },
  {
   "cell_type": "code",
   "execution_count": null,
   "metadata": {},
   "outputs": [],
   "source": [
    "a = np.load('model/kms/spedersac/S_f128_datasets200a200_CD_norm1_ctrl/0/args_kwargs.npy', allow_pickle=True)\n",
    "print(a)"
   ]
  },
  {
   "cell_type": "markdown",
   "metadata": {},
   "source": [
    "Filter syllable 2 & 4 based on rotating direction"
   ]
  },
  {
   "cell_type": "code",
   "execution_count": null,
   "metadata": {},
   "outputs": [],
   "source": [
    "# from visualize import plot_gif\n",
    "from visualize import is_clockwise\n",
    "state_dim = 16\n",
    "action_dim = 16\n",
    "n_task = 10\n",
    "test_buffer_path = './kms/replay_buffer_mildnormalized_state200_action200.pth'\n",
    "test_buffer = buffer.ReplayBuffer(state_dim, action_dim, 10000)\n",
    "test_buffer.load_state_dict(torch.load(test_buffer_path))\n",
    "replay_buffer_filter = buffer.ReplayBuffer(state_dim, action_dim, 100000)\n",
    "for i in [2]:\n",
    "    all_idxs = np.where(test_buffer.task==i)[0]\n",
    "    transition = np.where(np.diff(all_idxs)>1)[0]\n",
    "    # print(transition)\n",
    "    transition_list = np.concatenate(([0], transition))\n",
    "    print(len(transition_list))\n",
    "    for j in range(len(transition_list)-1):\n",
    "        start = all_idxs[transition_list[j]+1]\n",
    "        end = all_idxs[transition_list[j+1]]\n",
    "        if start >= end-1:\n",
    "            continue\n",
    "        state_seqs = test_buffer.state[start:end]\n",
    "        clockwise, pc_to_plot = is_clockwise(state_seqs)\n",
    "        if (i==2 and clockwise):\n",
    "            for k in range(start, end):\n",
    "                if k == end-1:\n",
    "                    done = 1\n",
    "                else:\n",
    "                    done = 0\n",
    "                replay_buffer_filter.add(test_buffer.state[k], test_buffer.action[k], test_buffer.next_state[k], \n",
    "                                         test_buffer.reward[k], done, test_buffer.task[k], test_buffer.next_task[k])\n",
    "print(replay_buffer_filter.size)\n",
    "torch.save(replay_buffer_filter.state_dict(), './kms/replay_buffer_mildnormalized_state200_action200_filter2.pth')"
   ]
  },
  {
   "cell_type": "code",
   "execution_count": null,
   "metadata": {},
   "outputs": [],
   "source": [
    "from visualize import get_edges\n",
    "def plot_figure_PC(state, save_path):\n",
    "  # state: [state_dim, ]\n",
    "  edges, state_name, n_dim = get_edges(state.shape[-1])\n",
    "  fig, axis = plt.subplots(1, 1, figsize=(5, 6))\n",
    "  state_to_plot = state.reshape(-1, 2)\n",
    "  state_to_plot -= state_to_plot.mean(axis=0)\n",
    "  _, _, vhs = np.linalg.svd(state_to_plot)\n",
    "  pc_to_plot = vhs[0]\n",
    "  cmap = plt.cm.get_cmap('viridis')\n",
    "  keypoint_colors = cmap(np.linspace(0, 1, len(state_name)))\n",
    "  xmin = -0.2\n",
    "  xmax = 0.2\n",
    "  ymin = -0.2\n",
    "  ymax = 0.2\n",
    "  # xmin = min(state_to_plot[:, 0].min(), pc_to_plot[0])\n",
    "  # xmax = max(state_to_plot[:, 0].max(), pc_to_plot[0])\n",
    "  # ymin = min(state_to_plot[:, 1].min(), pc_to_plot[1])\n",
    "  # ymax = max(state_to_plot[:, 1].max(), pc_to_plot[1])\n",
    "  axis.set_xlim(xmin, xmax)\n",
    "  axis.set_ylim(ymin, ymax)\n",
    "  for p1, p2 in edges:\n",
    "    axis.plot(\n",
    "        *state_to_plot[(p1, p2),:].T,\n",
    "        color=keypoint_colors[p1],\n",
    "        linewidth=5.0)\n",
    "  axis.scatter(\n",
    "      *state_to_plot.T,\n",
    "      c=keypoint_colors,\n",
    "      s=100)\n",
    "  axis.quiver(0, 0, pc_to_plot[0], pc_to_plot[1], angles='xy', scale_units='xy', scale=10, color='r')\n",
    "  if not os.path.exists(os.path.dirname(save_path)):\n",
    "    os.makedirs(os.path.dirname(save_path))\n",
    "  plt.savefig(save_path)\n",
    "\n",
    "state_dim = 16\n",
    "action_dim = 16\n",
    "n_task = 10\n",
    "test_buffer_path = './kms/test_data_continuous_a200.pth'\n",
    "test_buffer = buffer.ReplayBuffer(state_dim, action_dim, 10000)\n",
    "test_buffer.load_state_dict(torch.load(test_buffer_path))\n",
    "state = test_buffer.state[90]\n",
    "save_path = './figure/kms/pc.png'\n",
    "plot_figure_PC(state, save_path)"
   ]
  },
  {
   "cell_type": "markdown",
   "metadata": {},
   "source": [
    "Pick out gif from dataset"
   ]
  },
  {
   "cell_type": "code",
   "execution_count": null,
   "metadata": {},
   "outputs": [],
   "source": [
    "from visualize import plot_gif\n",
    "state_dim = 16\n",
    "action_dim = 16\n",
    "n_task = 10\n",
    "test_buffer_path = './kms/replay_buffer_mildnormalized_state200_action200_filter2.pth'\n",
    "test_buffer = buffer.ReplayBuffer(state_dim, action_dim, 10000)\n",
    "test_buffer.load_state_dict(torch.load(test_buffer_path))\n",
    "for j in [2]:\n",
    "\n",
    "    all_idxs = np.where(test_buffer.task==j)[0]\n",
    "    print(all_idxs)\n",
    "    transition = np.where(np.diff(all_idxs)>1)[0]\n",
    "    print(transition)\n",
    "    transition_list = np.concatenate(([0], transition))\n",
    "    print(transition_list)\n",
    "    i=0\n",
    "    while i<10:\n",
    "        k = np.random.randint(0, len(all_idxs)-10)\n",
    "        start = all_idxs[k]\n",
    "        end = all_idxs[k]+10\n",
    "        done_seqs = test_buffer.done[start:end]\n",
    "        if np.sum(done_seqs) > 0:\n",
    "            continue\n",
    "        state_seqs = test_buffer.state[start:end]\n",
    "        plot_gif(state_seqs, f'./figure/kms/task_gif/task_{j}/{i}.gif')\n",
    "        i += 1\n",
    "        "
   ]
  },
  {
   "cell_type": "code",
   "execution_count": null,
   "metadata": {},
   "outputs": [],
   "source": [
    "from visualize import plot_gif\n",
    "state_dim = 16\n",
    "action_dim = 16\n",
    "n_task = 10\n",
    "test_buffer_path = './kms/replay_buffer_mildnormalized_state200_action200.pth'\n",
    "test_buffer = buffer.ReplayBuffer(state_dim, action_dim, 10000)\n",
    "test_buffer.load_state_dict(torch.load(test_buffer_path))\n",
    "\n",
    "for j in range(n_task):\n",
    "    all_idxs = np.where(test_buffer.task==j)[0]\n",
    "    # print(all_idxs)\n",
    "    transition = np.where(np.diff(all_idxs)>1)[0]\n",
    "    # print(transition)\n",
    "    transition_idx = all_idxs[transition]\n",
    "    all_done = test_buffer.done[transition_idx]\n",
    "    done_zero = np.where(all_done==0)[0]\n",
    "    # print(transition_idx[done_zero])\n",
    "    # original_idx = transition_idx[done_zero]\n",
    "    # print(original_idx)\n",
    "    # print(replay_buffer.state[original_idx])\n",
    "    # print()\n",
    "    # print(all_done.reshape(-1))\n",
    "    # print(np.all(np.isclose(all_done, 1)))\n",
    "    # continue\n",
    "    transition_list = np.concatenate(([0], transition))\n",
    "    print(transition_list)\n",
    "    i=0\n",
    "    while i<10:\n",
    "        \n",
    "        k = np.random.randint(0, len(transition_list)-1)\n",
    "        start = all_idxs[transition_list[k]+1]\n",
    "        end = all_idxs[transition_list[k+1]]\n",
    "        print(start, end)\n",
    "        if start == end:\n",
    "            continue\n",
    "        state_seqs = test_buffer.state[start:end]\n",
    "        plot_gif(state_seqs, f'./figure/kms/task_gif/task_{j}/{i}.gif')\n",
    "        i += 1\n",
    "        \n",
    "# state_seqs = replay_buffer.state[1172:1182]\n",
    "# plot_gif(state_seqs, f'./figure/kms/task2_continuous.gif')"
   ]
  },
  {
   "cell_type": "code",
   "execution_count": null,
   "metadata": {},
   "outputs": [],
   "source": [
    "state_dim = 16\n",
    "action_dim = 16\n",
    "n_task = 10\n",
    "test_buffer_path = './kms/replay_buffer_mildnormalized_state200_action200.pth'\n",
    "test_buffer = buffer.ReplayBuffer(state_dim, action_dim, 10000)\n",
    "test_buffer.load_state_dict(torch.load(test_buffer_path))\n",
    "print(test_buffer.task[1150:1165].reshape(-1))\n",
    "print(test_buffer.done[1150:1165].reshape(-1))"
   ]
  },
  {
   "cell_type": "code",
   "execution_count": null,
   "metadata": {},
   "outputs": [],
   "source": [
    "def check_multiple_step_rollout(lr, syllable, replay_buffer):\n",
    "    syllable_idx = np.where(replay_buffer.task == syllable)[0]\n",
    "    transition = np.where(np.diff(syllable_idx) != 1)[0]+1\n",
    "    print(len(transition))\n",
    "    state_seqs = [None] * (len(transition)-1)\n",
    "    for i in range(len(transition)-1):\n",
    "        # print(transition[i], transition[i+1])\n",
    "        # print(syllable_idx[transition[i]:transition[i+1]-1])\n",
    "        state_seqs[i] = replay_buffer.state[syllable_idx[transition[i]:transition[i+1]-1]]\n",
    "        assert state_seqs[i].shape[-1] == 16\n",
    "    all_error = np.zeros(len(transition)-1)\n",
    "    for i in range(len(state_seqs)):\n",
    "        imitation_state_seq = np.zeros_like(state_seqs[i])\n",
    "        # print(state_seqs[i], transition[i], syllable_idx[transition[i]:transition[i+1]-1])\n",
    "        imitation_state_seq[0] = state_seqs[i][0]\n",
    "        for j in range(1, state_seqs[i].shape[0]):\n",
    "            imitation_state_seq[j] = lr.predict(imitation_state_seq[j-1].reshape(1, -1)).reshape(-1)\n",
    "        error = np.mean(np.abs(imitation_state_seq - state_seqs[i]))\n",
    "        # print(i, error)\n",
    "        all_error[i] = error\n",
    "    # print('all:', all_error.mean())\n",
    "    return all_error.mean()"
   ]
  },
  {
   "cell_type": "markdown",
   "metadata": {},
   "source": [
    "Show the fitting result of linear model"
   ]
  },
  {
   "cell_type": "code",
   "execution_count": null,
   "metadata": {},
   "outputs": [],
   "source": [
    "from sklearn.linear_model import LinearRegression\n",
    "from visualize import plot_gif\n",
    "lr = LinearRegression()\n",
    "test_buffer_path = './kms/train_data.pth'\n",
    "replay_buffer_state_dict = torch.load(test_buffer_path)\n",
    "state_dim, action_dim = 16, 80\n",
    "test_buffer = buffer.ReplayBuffer(state_dim, action_dim, max_size=10000)\n",
    "test_buffer.load_state_dict(replay_buffer_state_dict)\n",
    "state = replay_buffer_state_dict['state']\n",
    "action = replay_buffer_state_dict['action']\n",
    "next_state = replay_buffer_state_dict['next_state']\n",
    "print(state.shape, next_state.shape)\n",
    "# sa_input = np.concatenate([state, action], axis=1)\n",
    "# split train and test buffer\n",
    "# train_buffer_size = int(0.8 * len(znormalized_state))\n",
    "# print(train_buffer_size)\n",
    "lr.fit(state, action)\n",
    "test_buffer_path = './kms/test_data.pth'\n",
    "test_buffer_state_dict = torch.load(test_buffer_path)\n",
    "test_state = test_buffer_state_dict['state']\n",
    "test_action = test_buffer_state_dict['action']\n",
    "test_next_state = test_buffer_state_dict['next_state']\n",
    "test_action_pred = lr.predict(test_state)\n",
    "error = np.abs(test_action_pred - test_action)\n",
    "print(error.shape)\n",
    "error_mean = np.mean(error, axis=0)\n",
    "print(error_mean, error_mean.mean())\n",
    "torch.save(lr, './kms/linear_model_discrete.pth')\n"
   ]
  },
  {
   "cell_type": "code",
   "execution_count": null,
   "metadata": {},
   "outputs": [],
   "source": [
    "from sklearn.linear_model import LinearRegression\n",
    "from visualize import plot_gif\n",
    "from visualize import plot_gif_all_syllables\n",
    "from utils.util import unpack_batch\n",
    "train_buffer_path = './kms/train_data_continuous_a200.pth'\n",
    "train_buffer_state_dict = torch.load(train_buffer_path)\n",
    "state_dim, action_dim = 16, 16\n",
    "train_buffer = buffer.ReplayBuffer(state_dim, action_dim, max_size=10000)\n",
    "train_buffer.load_state_dict(train_buffer_state_dict)\n",
    "test_buffer_path = './kms/test_data_continuous_a200.pth'\n",
    "replay_buffer_state_dict = torch.load(test_buffer_path)\n",
    "state_dim, action_dim = 16, 16\n",
    "test_buffer = buffer.ReplayBuffer(state_dim, action_dim, max_size=10000)\n",
    "test_buffer.load_state_dict(replay_buffer_state_dict)\n",
    "timestep = 30\n",
    "state_dim = action_dim = 16\n",
    "n_syllable = 10\n",
    "state_seqs = np.zeros((n_syllable, timestep, state_dim))\n",
    "# all_error = np.zeros((10,))\n",
    "batch_size = 512\n",
    "for syllable in range(n_syllable):\n",
    "    print('syllable:', syllable)\n",
    "    lr = LinearRegression()\n",
    "    state_set = []\n",
    "    action_set = []\n",
    "    for j in range(10):\n",
    "        batch = train_buffer.sample(batch_size)\n",
    "        state, action, next_state, reward, _, task, next_task = unpack_batch(batch)\n",
    "        all_idx = np.where(task.cpu().numpy() == syllable)[0]\n",
    "        state_set.append(state[all_idx].cpu().numpy())\n",
    "        action_set.append(action[all_idx].cpu().numpy())\n",
    "    state_set = np.concatenate(state_set, axis=0)\n",
    "    action_set = np.concatenate(action_set, axis=0)\n",
    "    lr.fit(state_set, action_set)\n",
    "    # new_action_pred = lr.predict(state)\n",
    "    # error = np.abs(new_next_state_pred - next_state)\n",
    "    # print(error.shape)\n",
    "    # error_mean = np.mean(error, axis=0)\n",
    "    # print(error_mean, error_mean.mean())\n",
    "    # all_error[syllable] = check_multiple_step_rollout(lr, syllable, replay_buffer)\n",
    "    # print(syllable, all_error[syllable])\n",
    "    sample_idx = 90\n",
    "    state = test_buffer.state[sample_idx]\n",
    "    state_seqs[syllable, 0] = state\n",
    "    for i in range(1, timestep):\n",
    "        action = lr.predict(state.reshape(1, -1))\n",
    "        # print('action:', action.shape)\n",
    "        next_state = action + state\n",
    "        state_seqs[syllable, i] = next_state\n",
    "        state = next_state\n",
    "plot_gif_all_syllables(state_seqs, f'./figure/kms/linear_state_pred90/task.gif')\n",
    "# plot_gif(state_seqs, f'./figure/kms/linear_state_pred90/{syllable}task.gif')\n",
    "# print(state_seqs[0].shape)\n",
    "    # np.save(f'./kms/s_mean.npy', state_seqs[0].reshape(-1,2))\n",
    "# print('all:', all_error.mean())"
   ]
  },
  {
   "cell_type": "markdown",
   "metadata": {},
   "source": [
    "Load replay buffer and normalize it"
   ]
  },
  {
   "cell_type": "code",
   "execution_count": 2,
   "metadata": {},
   "outputs": [],
   "source": [
    "state_dim = 16\n",
    "action_dim = 16\n",
    "n_task = 78\n",
    "test_buffer_path = './kms/replay_buffer_all.pth'\n",
    "test_buffer = buffer.ReplayBuffer(state_dim, action_dim, 10000)\n",
    "test_buffer.load_state_dict(torch.load(test_buffer_path))"
   ]
  },
  {
   "cell_type": "code",
   "execution_count": null,
   "metadata": {},
   "outputs": [],
   "source": [
    "linear_model = torch.load('./kms/linear_model_discrete.pth')\n",
    "linear_model.predict(test_buffer.state[:5])"
   ]
  },
  {
   "cell_type": "code",
   "execution_count": 3,
   "metadata": {},
   "outputs": [
    {
     "name": "stdout",
     "output_type": "stream",
     "text": [
      "643901\n",
      "302.52627666744837\n"
     ]
    }
   ],
   "source": [
    "scale_factor = 200\n",
    "action_all = test_buffer.action\n",
    "print(action_all.shape[0])\n",
    "# syllable_indicator = (replay_buffer.task == 3).squeeze()\n",
    "# print(len(np.where(all_idx)[0]))\n",
    "filtered_replay_buffer = buffer.ReplayBuffer(state_dim, action_dim, 10000)\n",
    "size = test_buffer.size\n",
    "# filtered_replay_buffer.state = replay_buffer.state\n",
    "# filtered_replay_buffer.next_state = replay_buffer.next_state\n",
    "# assert np.isclose(replay_buffer.state + replay_buffer.action, replay_buffer.next_state).all()\n",
    "new_state = test_buffer.state\n",
    "new_next_state = test_buffer.next_state\n",
    "\n",
    "state_mean = np.mean(np.concatenate([new_state, new_next_state[-2:]], axis=0))\n",
    "print(state_mean)\n",
    "mildnormalized_state = (new_state - state_mean) / scale_factor\n",
    "filtered_replay_buffer.state = mildnormalized_state\n",
    "\n",
    "mildnormalized_next_state = (new_next_state - state_mean) / scale_factor\n",
    "filtered_replay_buffer.next_state = mildnormalized_next_state\n",
    "\n",
    "new_action = test_buffer.action\n",
    "filtered_replay_buffer.action = new_action/scale_factor\n",
    "# mildnormalized_action = new_action / scale_factor\n",
    "# filtered_replay_buffer.action = mildnormalized_action\n",
    "\n",
    "filtered_replay_buffer.reward = test_buffer.reward\n",
    "filtered_replay_buffer.done = test_buffer.done\n",
    "filtered_replay_buffer.task = test_buffer.task\n",
    "filtered_replay_buffer.next_task = test_buffer.next_task\n",
    "filtered_replay_buffer.size = test_buffer.size\n",
    "filtered_replay_buffer.ptr = 0\n",
    "\n",
    "# assert np.isclose(filtered_replay_buffer.state + filtered_replay_buffer.action, filtered_replay_buffer.next_state).all()\n",
    "torch.save(filtered_replay_buffer.state_dict(), './kms/replay_buffer_all_normalized.pth')"
   ]
  },
  {
   "cell_type": "markdown",
   "metadata": {},
   "source": [
    "Load from the whole dataset and split it into trainset and testset"
   ]
  },
  {
   "cell_type": "code",
   "execution_count": 2,
   "metadata": {},
   "outputs": [
    {
     "name": "stdout",
     "output_type": "stream",
     "text": [
      "[-1.37 -1.31 -1.3  -1.23 -1.22 -1.14 -1.13 -1.12 -1.11 -1.1  -1.09 -1.08\n",
      " -1.07 -1.06 -1.05 -1.04 -1.03 -1.02 -1.01 -1.   -0.99 -0.98 -0.97 -0.96\n",
      " -0.95 -0.94 -0.93 -0.92 -0.91 -0.9  -0.89 -0.88 -0.87 -0.86 -0.85 -0.84\n",
      " -0.83 -0.82 -0.81 -0.8  -0.79 -0.78 -0.76 -0.75 -0.74 -0.73 -0.71 -0.7\n",
      " -0.69 -0.68 -0.66 -0.65 -0.64 -0.63 -0.62 -0.61 -0.6  -0.59 -0.58 -0.57\n",
      " -0.56 -0.55 -0.54 -0.53 -0.52 -0.51 -0.5  -0.49 -0.48 -0.47 -0.46 -0.45\n",
      " -0.44 -0.43 -0.42 -0.41 -0.4  -0.39 -0.38 -0.37 -0.36 -0.35 -0.34 -0.33\n",
      " -0.32 -0.31 -0.3  -0.29 -0.28 -0.27 -0.26 -0.25 -0.24 -0.23 -0.22 -0.21\n",
      " -0.2  -0.19 -0.18 -0.17 -0.16 -0.15 -0.14 -0.13 -0.12 -0.11 -0.1  -0.09\n",
      " -0.08 -0.07 -0.06 -0.05 -0.04 -0.03 -0.02 -0.01  0.    0.01  0.02  0.03\n",
      "  0.04  0.05  0.06  0.07  0.08  0.09  0.1   0.11  0.12  0.13  0.14  0.15\n",
      "  0.16  0.17  0.18  0.19  0.2   0.21  0.22  0.23  0.24  0.25  0.26  0.27\n",
      "  0.28  0.29  0.3   0.31  0.32  0.33  0.34  0.35  0.36  0.37  0.38  0.39\n",
      "  0.4   0.41  0.42  0.43  0.44  0.45  0.47  0.48  0.49  0.5   0.51  0.52\n",
      "  0.53  0.54  0.55  0.56  0.57  0.58  0.59  0.6   0.61  0.62  0.63  0.64\n",
      "  0.65  0.66  0.67  0.68  0.69  0.72  0.74  0.75  0.76  0.77  0.78  0.79\n",
      "  0.8   0.81  0.82  0.83  0.84  0.85  0.86  0.88  0.89  0.9   0.91  0.92\n",
      "  0.93  0.94  0.95  0.96  0.98  0.99  1.    1.01  1.02  1.03  1.04  1.05\n",
      "  1.06  1.07  1.08  1.09  1.1   1.11  1.12  1.13  1.17  1.21  1.22  1.23\n",
      "  1.24  1.31  1.32]\n"
     ]
    }
   ],
   "source": [
    "state_dim = 16\n",
    "action_dim = 16\n",
    "n_task = 10\n",
    "test_buffer = buffer.ReplayBuffer(state_dim, action_dim, 10000)\n",
    "test_buffer.load_state_dict(torch.load('./kms/replay_buffer_all_normalized.pth'))\n",
    "print(np.unique(test_buffer.action))\n",
    "# action_onehot = np.eye(5)[replay_buffer.action.astype(int)]\n",
    "assert np.isclose(test_buffer.state + test_buffer.action, test_buffer.next_state).all()\n",
    "# print(action_onehot.shape)\n",
    "# replay_buffer.action = action_onehot.reshape(action_onehot.shape[0], -1)\n",
    "# replay_buffer.action = replay_buffer.action.astype(int)"
   ]
  },
  {
   "cell_type": "code",
   "execution_count": 3,
   "metadata": {},
   "outputs": [
    {
     "name": "stdout",
     "output_type": "stream",
     "text": [
      "515120 128781\n",
      "(array([-1.23, -1.22, -1.14, -1.13, -1.12, -1.11, -1.1 , -1.09, -1.08,\n",
      "       -1.07, -1.06, -1.05, -1.04, -1.03, -1.02, -1.01, -1.  , -0.99,\n",
      "       -0.98, -0.97, -0.96, -0.95, -0.94, -0.93, -0.92, -0.91, -0.9 ,\n",
      "       -0.89, -0.88, -0.87, -0.86, -0.85, -0.84, -0.83, -0.82, -0.81,\n",
      "       -0.8 , -0.79, -0.78, -0.76, -0.75, -0.74, -0.73, -0.71, -0.7 ,\n",
      "       -0.69, -0.68, -0.66, -0.65, -0.64, -0.63, -0.62, -0.61, -0.6 ,\n",
      "       -0.59, -0.58, -0.57, -0.56, -0.55, -0.54, -0.53, -0.52, -0.51,\n",
      "       -0.49, -0.48, -0.47, -0.46, -0.45, -0.44, -0.43, -0.42, -0.41,\n",
      "       -0.4 , -0.39, -0.38, -0.37, -0.36, -0.35, -0.34, -0.33, -0.32,\n",
      "       -0.31, -0.3 , -0.29, -0.28, -0.27, -0.26, -0.25, -0.24, -0.23,\n",
      "       -0.22, -0.21, -0.2 , -0.19, -0.18, -0.17, -0.16, -0.15, -0.14,\n",
      "       -0.13, -0.12, -0.11, -0.1 , -0.09, -0.08, -0.07, -0.06, -0.05,\n",
      "       -0.04, -0.03, -0.02, -0.01,  0.  ,  0.01,  0.02,  0.03,  0.04,\n",
      "        0.05,  0.06,  0.07,  0.08,  0.09,  0.1 ,  0.11,  0.12,  0.13,\n",
      "        0.14,  0.15,  0.16,  0.17,  0.18,  0.19,  0.2 ,  0.21,  0.22,\n",
      "        0.23,  0.24,  0.25,  0.26,  0.27,  0.28,  0.29,  0.3 ,  0.31,\n",
      "        0.32,  0.33,  0.34,  0.35,  0.36,  0.37,  0.38,  0.39,  0.4 ,\n",
      "        0.41,  0.42,  0.43,  0.44,  0.45,  0.47,  0.48,  0.49,  0.5 ,\n",
      "        0.51,  0.52,  0.53,  0.54,  0.55,  0.56,  0.57,  0.58,  0.59,\n",
      "        0.6 ,  0.61,  0.62,  0.63,  0.64,  0.65,  0.66,  0.67,  0.68,\n",
      "        0.69,  0.72,  0.74,  0.75,  0.76,  0.77,  0.78,  0.79,  0.8 ,\n",
      "        0.81,  0.82,  0.83,  0.84,  0.85,  0.86,  0.88,  0.89,  0.9 ,\n",
      "        0.91,  0.92,  0.93,  0.94,  0.95,  0.96,  0.98,  0.99,  1.  ,\n",
      "        1.01,  1.02,  1.03,  1.04,  1.05,  1.06,  1.07,  1.08,  1.09,\n",
      "        1.1 ,  1.11,  1.12,  1.13,  1.17,  1.22]), array([      2,       1,       1,       6,       7,       5,       1,\n",
      "             6,       4,       5,       5,       4,       2,       1,\n",
      "             7,      19,       6,      10,      11,       1,       5,\n",
      "             5,       2,       4,       1,       2,      12,       3,\n",
      "             1,       3,       5,      12,       3,       7,      14,\n",
      "             9,       5,       1,       8,       1,       2,       3,\n",
      "             4,       1,       1,       1,       3,       4,       3,\n",
      "             1,       5,      13,       2,       9,       7,       9,\n",
      "             7,      19,       9,      17,      19,      16,      12,\n",
      "             9,       8,       2,       5,       6,       9,      10,\n",
      "             7,       6,      10,      23,      18,      23,      13,\n",
      "            17,      13,      14,      22,       9,      29,      21,\n",
      "            23,      38,      33,      49,      52,      56,      73,\n",
      "            89,     105,     145,     203,     236,     239,     316,\n",
      "           423,     406,     567,     802,    1032,    1227,    1805,\n",
      "          2264,    3015,    4655,   12932,   54367,  206324, 1149371,\n",
      "       5334792, 1185772,  206582,   45673,    9757,    4173,    2938,\n",
      "          2284,    1766,    1234,    1010,     765,     547,     433,\n",
      "           380,     340,     250,     240,     190,     136,     112,\n",
      "            87,      78,      48,      55,      42,      25,      36,\n",
      "            28,      23,      28,      11,      18,      16,      13,\n",
      "            21,      16,      27,      18,      20,      13,       6,\n",
      "             8,       8,      10,       5,       2,       3,       7,\n",
      "             1,       9,      19,      12,      19,       7,      16,\n",
      "            13,       5,      13,      10,       4,      11,       4,\n",
      "             2,       4,       1,       3,       4,       1,       7,\n",
      "             4,       4,       5,       3,       7,       2,       5,\n",
      "             9,      16,       8,       2,      11,       3,       5,\n",
      "             2,       9,       3,       6,       1,       1,       6,\n",
      "             7,       7,      10,       7,      18,       8,       2,\n",
      "             4,       3,       7,       3,       6,       4,       1,\n",
      "             4,       4,       4,       1,       2]))\n",
      "(array([-1.37, -1.31, -1.3 , -1.22, -1.07, -1.05, -1.02, -0.97, -0.6 ,\n",
      "       -0.58, -0.5 , -0.46, -0.45, -0.44, -0.43, -0.41, -0.37, -0.35,\n",
      "       -0.34, -0.33, -0.32, -0.31, -0.3 , -0.29, -0.28, -0.27, -0.26,\n",
      "       -0.25, -0.24, -0.23, -0.22, -0.21, -0.2 , -0.19, -0.18, -0.17,\n",
      "       -0.16, -0.15, -0.14, -0.13, -0.12, -0.11, -0.1 , -0.09, -0.08,\n",
      "       -0.07, -0.06, -0.05, -0.04, -0.03, -0.02, -0.01,  0.  ,  0.01,\n",
      "        0.02,  0.03,  0.04,  0.05,  0.06,  0.07,  0.08,  0.09,  0.1 ,\n",
      "        0.11,  0.12,  0.13,  0.14,  0.15,  0.16,  0.17,  0.18,  0.19,\n",
      "        0.2 ,  0.21,  0.22,  0.23,  0.24,  0.25,  0.26,  0.27,  0.28,\n",
      "        0.29,  0.3 ,  0.31,  0.32,  0.34,  0.37,  0.39,  0.43,  0.49,\n",
      "        0.56,  0.63,  0.99,  1.  ,  1.03,  1.06,  1.21,  1.23,  1.24,\n",
      "        1.31,  1.32]), array([      3,       2,       1,       1,       1,       1,       1,\n",
      "             1,       1,       2,       1,       1,       1,       1,\n",
      "             1,       1,       1,       1,       1,       1,       1,\n",
      "             3,       4,       7,       5,       5,       4,      14,\n",
      "             8,      15,      23,      24,      36,      49,      51,\n",
      "            38,      76,     118,      95,     115,     142,     198,\n",
      "           237,     385,     407,     511,     662,    1092,    3343,\n",
      "         16794,   66555,  298690, 1271284,  312802,   64690,   14991,\n",
      "          2781,     969,     694,     515,     413,     371,     237,\n",
      "           186,     128,     120,      79,     117,      73,      45,\n",
      "            40,      56,      38,      20,      18,      21,      15,\n",
      "            11,       5,       1,       5,       5,       9,       4,\n",
      "             1,       1,       1,       1,       2,       3,       1,\n",
      "             1,       1,       1,       1,       1,       1,       1,\n",
      "             2,       2,       1]))\n",
      "(array([0., 1.]), array([488507,  26613]))\n",
      "(array([0., 1.]), array([122215,   6566]))\n"
     ]
    }
   ],
   "source": [
    "idx = np.arange(test_buffer.size)\n",
    "# np.random.shuffle(idx)\n",
    "train_idx = idx[:int(test_buffer.size * 0.8)]\n",
    "test_idx = idx[int(test_buffer.size * 0.8):]\n",
    "train_data = {}\n",
    "test_data = {}\n",
    "key = ['state', 'action', 'next_state', 'reward', 'done', 'task', 'next_task']\n",
    "for k in key:\n",
    "    train_data[k] = test_buffer.__getattribute__(k)[train_idx]\n",
    "    test_data[k] = test_buffer.__getattribute__(k)[test_idx]\n",
    "train_data['size'] = len(train_idx)\n",
    "test_data['size'] = len(test_idx)\n",
    "train_data['ptr'] = 0\n",
    "test_data['ptr'] = 0\n",
    "# np.savez('./kms/train_data_sequential_discrete_action04.npz', **train_data)\n",
    "# np.savez('./kms/test_data_sequential_discrete_action04.npz', **test_data)\n",
    "torch.save(train_data, './kms/train_data_all.pth')\n",
    "torch.save(test_data, './kms/test_data_all.pth')\n",
    "print(len(train_idx), len(test_idx))\n",
    "print(np.unique(train_data['action'], return_counts=True))\n",
    "print(np.unique(test_data['action'], return_counts=True))\n",
    "print(np.unique(train_data['done'], return_counts=True))\n",
    "print(np.unique(test_data['done'], return_counts=True))"
   ]
  },
  {
   "cell_type": "code",
   "execution_count": null,
   "metadata": {},
   "outputs": [],
   "source": [
    "3795722/(94596+784483+3795722+823329+101838)"
   ]
  },
  {
   "cell_type": "markdown",
   "metadata": {},
   "source": [
    "Load from raw data and creates dataset"
   ]
  },
  {
   "cell_type": "code",
   "execution_count": 2,
   "metadata": {},
   "outputs": [
    {
     "name": "stdout",
     "output_type": "stream",
     "text": [
      "dict_keys(['coordinates', 'bodyparts'])\n",
      "dict_keys(['22_04_26_cage4_0.top.irDLC_resnet50_moseq_exampleAug21shuffle1_500000', '21_12_2_def6b_2.top.irDLC_resnet50_moseq_exampleAug21shuffle1_500000', '21_12_10_def6a_3.top.irDLC_resnet50_moseq_exampleAug21shuffle1_500000', '21_12_10_def6a_1_1.top.irDLC_resnet50_moseq_exampleAug21shuffle1_500000', '22_04_26_cage4_1_1.top.irDLC_resnet50_moseq_exampleAug21shuffle1_500000', '21_12_2_def6a_1.top.irDLC_resnet50_moseq_exampleAug21shuffle1_500000', '21_12_10_def6b_3.top.irDLC_resnet50_moseq_exampleAug21shuffle1_500000', '22_04_26_cage4_0_2.top.irDLC_resnet50_moseq_exampleAug21shuffle1_500000', '21_11_8_one_mouse.top.irDLC_resnet50_moseq_exampleAug21shuffle1_500000', '22_27_04_cage4_mouse2_0.top.irDLC_resnet50_moseq_exampleAug21shuffle1_500000'])\n",
      "(53623, 9, 2)\n"
     ]
    }
   ],
   "source": [
    "dlc_sample = pickle.load(open('./kms/dlc_sample.pkl', 'rb'))\n",
    "print(dlc_sample.keys())\n",
    "print(dlc_sample['coordinates'].keys())\n",
    "print(dlc_sample['coordinates']['22_04_26_cage4_0.top.irDLC_resnet50_moseq_exampleAug21shuffle1_500000'].shape)"
   ]
  },
  {
   "cell_type": "code",
   "execution_count": 3,
   "metadata": {},
   "outputs": [
    {
     "name": "stdout",
     "output_type": "stream",
     "text": [
      "[14 14 14 ...  3  3  3]\n"
     ]
    }
   ],
   "source": [
    "results = h5py.File('./kms/results.h5', 'r')\n",
    "print(np.array(results['22_04_26_cage4_0.top.irDLC_resnet50_moseq_exampleAug21shuffle1_500000']['syllable']))"
   ]
  },
  {
   "cell_type": "code",
   "execution_count": 4,
   "metadata": {},
   "outputs": [
    {
     "name": "stdout",
     "output_type": "stream",
     "text": [
      "{'21_11_8_one_mouse.top.irDLC_resnet50_moseq_exampleAug21shuffle1_500000': <HDF5 dataset \"syllable\": shape (71524,), type \"<i8\">, '21_12_10_def6a_1_1.top.irDLC_resnet50_moseq_exampleAug21shuffle1_500000': <HDF5 dataset \"syllable\": shape (53512,), type \"<i8\">, '21_12_10_def6a_3.top.irDLC_resnet50_moseq_exampleAug21shuffle1_500000': <HDF5 dataset \"syllable\": shape (35818,), type \"<i8\">, '21_12_10_def6b_3.top.irDLC_resnet50_moseq_exampleAug21shuffle1_500000': <HDF5 dataset \"syllable\": shape (53527,), type \"<i8\">, '21_12_2_def6a_1.top.irDLC_resnet50_moseq_exampleAug21shuffle1_500000': <HDF5 dataset \"syllable\": shape (107507,), type \"<i8\">, '21_12_2_def6b_2.top.irDLC_resnet50_moseq_exampleAug21shuffle1_500000': <HDF5 dataset \"syllable\": shape (107520,), type \"<i8\">, '22_04_26_cage4_0.top.irDLC_resnet50_moseq_exampleAug21shuffle1_500000': <HDF5 dataset \"syllable\": shape (53623,), type \"<i8\">, '22_04_26_cage4_0_2.top.irDLC_resnet50_moseq_exampleAug21shuffle1_500000': <HDF5 dataset \"syllable\": shape (53625,), type \"<i8\">, '22_04_26_cage4_1_1.top.irDLC_resnet50_moseq_exampleAug21shuffle1_500000': <HDF5 dataset \"syllable\": shape (53632,), type \"<i8\">, '22_27_04_cage4_mouse2_0.top.irDLC_resnet50_moseq_exampleAug21shuffle1_500000': <HDF5 dataset \"syllable\": shape (53623,), type \"<i8\">}\n"
     ]
    }
   ],
   "source": [
    "syllables = {k:v['syllable'] for k,v in results.items()}\n",
    "print(syllables)"
   ]
  },
  {
   "cell_type": "markdown",
   "metadata": {},
   "source": [
    "This proves that the states are sorted by instance frequency"
   ]
  },
  {
   "cell_type": "code",
   "execution_count": 5,
   "metadata": {},
   "outputs": [
    {
     "name": "stdout",
     "output_type": "stream",
     "text": [
      "[6135 3715 3226 3165 2824 2584 2295 2043 1845  853  681  500  458  420\n",
      "  329  328  294  212  204  181  134  122  117   82   72]\n",
      "True\n"
     ]
    }
   ],
   "source": [
    "# stateseqs = {\n",
    "#         'name1': np.array([1, 1, 2, 2, 2, 3]),\n",
    "#         'name2': np.array([0, 0, 0, 1])}\n",
    "stateseq_flat = np.hstack(list(syllables.values()))\n",
    "state_onsets = np.pad(np.diff(stateseq_flat).nonzero()[0] + 1, (1, 0))\n",
    "stateseq_flat = stateseq_flat[state_onsets]\n",
    "counts = np.bincount(stateseq_flat, minlength=77)\n",
    "print(counts[:25])\n",
    "print(np.all(np.diff(counts)<=0))\n"
   ]
  },
  {
   "cell_type": "code",
   "execution_count": 6,
   "metadata": {},
   "outputs": [],
   "source": [
    "def rotate(state, action, next_state, reward, done, task, next_task):\n",
    "    theta = np.random.uniform(0, 2*np.pi)\n",
    "    rotation_matrix = np.array([[np.cos(theta), -np.sin(theta)], [np.sin(theta), np.cos(theta)]])\n",
    "    assert state.shape == (16, )\n",
    "    assert action.shape == (16, )\n",
    "    assert next_state.shape == (16, )\n",
    "    assert np.isclose(state + action, next_state).all()\n",
    "    new_state = (state.reshape(-1,2) @ rotation_matrix).reshape(-1)\n",
    "    new_next_state = (next_state.reshape(-1,2) @ rotation_matrix).reshape(-1)\n",
    "    new_action = (action.reshape(-1,2) @ rotation_matrix).reshape(-1)\n",
    "    assert np.isclose(new_state + new_action, new_next_state).all()\n",
    "    return new_state, new_action, new_next_state, reward, done, task, next_task\n",
    "def shift(state, action, next_state, reward, done, task, next_task):\n",
    "    shift = np.random.randn(2)\n",
    "    # print('shift:', shift)\n",
    "    assert state.shape == (16, )\n",
    "    assert action.shape == (16, )\n",
    "    assert next_state.shape == (16, )\n",
    "    assert np.isclose(state + action, next_state).all()\n",
    "    new_state = (state.reshape(-1,2) + shift).reshape(-1)\n",
    "    new_next_state = (next_state.reshape(-1,2) + shift).reshape(-1)\n",
    "    new_action = action\n",
    "    # print('state:', state, new_state)\n",
    "    # print('action:', action, new_action)\n",
    "    # print('next_state:', next_state, new_next_state)\n",
    "    # print('compare:', new_state + new_action, new_next_state)\n",
    "    assert np.isclose(new_state + new_action, new_next_state).all()\n",
    "    return new_state, new_action, new_next_state, reward, done, task, next_task\n",
    "    "
   ]
  },
  {
   "cell_type": "code",
   "execution_count": 7,
   "metadata": {},
   "outputs": [
    {
     "name": "stdout",
     "output_type": "stream",
     "text": [
      "22_04_26_cage4_0.top.irDLC_resnet50_moseq_exampleAug21shuffle1_500000\n",
      "21_12_2_def6b_2.top.irDLC_resnet50_moseq_exampleAug21shuffle1_500000\n",
      "21_12_10_def6a_3.top.irDLC_resnet50_moseq_exampleAug21shuffle1_500000\n",
      "21_12_10_def6a_1_1.top.irDLC_resnet50_moseq_exampleAug21shuffle1_500000\n",
      "22_04_26_cage4_1_1.top.irDLC_resnet50_moseq_exampleAug21shuffle1_500000\n",
      "21_12_2_def6a_1.top.irDLC_resnet50_moseq_exampleAug21shuffle1_500000\n",
      "21_12_10_def6b_3.top.irDLC_resnet50_moseq_exampleAug21shuffle1_500000\n",
      "22_04_26_cage4_0_2.top.irDLC_resnet50_moseq_exampleAug21shuffle1_500000\n",
      "21_11_8_one_mouse.top.irDLC_resnet50_moseq_exampleAug21shuffle1_500000\n",
      "22_27_04_cage4_mouse2_0.top.irDLC_resnet50_moseq_exampleAug21shuffle1_500000\n",
      "643901\n"
     ]
    }
   ],
   "source": [
    "bodyparts=[\n",
    "    'tail', 'spine4', 'spine3', 'spine2', 'spine1',\n",
    "    'head', 'nose', 'right ear', 'left ear']\n",
    "use_bodyparts=[\n",
    "        'spine4', 'spine3', 'spine2', 'spine1',\n",
    "        'head', 'nose', 'right ear', 'left ear']\n",
    "use_bodyparts_idx = [bodyparts.index(bp) for bp in use_bodyparts]\n",
    "state_dim = len(use_bodyparts) * 2\n",
    "action_dim = len(use_bodyparts) * 2\n",
    "n_task = 10 # filter out some non-frsequent tasks\n",
    "extra_augmentation_step = 1\n",
    "original_replay_buffer = buffer.ReplayBuffer(state_dim, action_dim, 1000000, 'cpu')\n",
    "for name in dlc_sample['coordinates'].keys():\n",
    "    print(name)\n",
    "    for i in range(len(dlc_sample['coordinates'][name])-1):\n",
    "        state = np.array(dlc_sample['coordinates'][name][i][use_bodyparts_idx].flatten())\n",
    "        next_state = np.array(dlc_sample['coordinates'][name][i+1][use_bodyparts_idx].flatten())\n",
    "        action = next_state - state\n",
    "        task = np.array(results[name]['syllable'][i])\n",
    "        next_task = np.array(results[name]['syllable'][i+1])\n",
    "        ###这个done是否和transition_point相吻合？\n",
    "        done = np.where(next_task != task, 1, 0)\n",
    "        assert not np.all(np.isnan(state))\n",
    "        # if task < n_task and next_task < n_task:\n",
    "        original_replay_buffer.add(state, action, next_state, 0, done, task, next_task)\n",
    "            # for j in range(extra_augmentation_step):\n",
    "            #     an_item = shift(*rotate(state, action, next_state, 0, 0, task, next_task))\n",
    "            #     assert np.isclose(an_item[0] + an_item[1], an_item[2]).all()\n",
    "            #     original_replay_buffer.add(*an_item)\n",
    "print(original_replay_buffer.size)\n",
    "\n"
   ]
  },
  {
   "cell_type": "code",
   "execution_count": 8,
   "metadata": {},
   "outputs": [
    {
     "name": "stdout",
     "output_type": "stream",
     "text": [
      "(array([ 0.,  1.,  2.,  3.,  4.,  5.,  6.,  7.,  8.,  9., 10., 11., 12.,\n",
      "       13., 14., 15., 16., 17., 18., 19., 20., 21., 22., 23., 24., 25.,\n",
      "       26., 27., 28., 29., 30., 31., 32., 33., 34., 35., 36., 37., 38.,\n",
      "       39., 40., 41., 42., 43., 44., 45., 46., 47., 48., 49., 50., 51.,\n",
      "       52., 53., 54., 55., 56., 57., 58., 59., 60., 61., 62., 63., 64.,\n",
      "       65., 66., 67., 68., 69., 70., 71., 72., 73., 74., 75., 76., 77.]), array([487207,  59812,  42725,  47387,  39871,  48782,  51433,  23759,\n",
      "        24973,  18731,  16190,   9936,  10839,  14886,  13244,  20201,\n",
      "         9627,   2072,   2720,  10088,    344,   4630,   2116,   5316,\n",
      "        12381,   2465,   3131,    709,   2452,    279,   1558,   1389,\n",
      "         3583,    204,    190,     37,   1031,    486,    112,     26,\n",
      "           21,     14,    305,     47,    344,    124,    874,     73,\n",
      "           63,    179,    250,    104,     10,     18,     20,     41,\n",
      "           50,     42,     20,    106,     13,     10,     23,     15,\n",
      "            5,     11,     10,      4,      6,      6,      5,    214,\n",
      "           11,     15,      6,      7,      9,      3]))\n"
     ]
    }
   ],
   "source": [
    "print(np.unique(original_replay_buffer.task, return_counts=True))\n",
    "torch.save(original_replay_buffer.state_dict(), './kms/replay_buffer_all.pth')"
   ]
  },
  {
   "cell_type": "code",
   "execution_count": null,
   "metadata": {},
   "outputs": [],
   "source": [
    "length = original_replay_buffer.size\n",
    "print(original_replay_buffer.state[:10000])"
   ]
  },
  {
   "cell_type": "markdown",
   "metadata": {},
   "source": [
    "This normalization scales every dimension with the same factor to make sure that the relative position is not discarded"
   ]
  },
  {
   "cell_type": "code",
   "execution_count": null,
   "metadata": {},
   "outputs": [],
   "source": [
    "# normalize\n",
    "all_state = original_replay_buffer.state[:length]\n",
    "all_next_state = original_replay_buffer.next_state[:length]\n",
    "state_min = np.concatenate([all_state, all_next_state[-1:]]).min()\n",
    "state_max = np.concatenate([all_state, all_next_state[-1:]]).max()\n",
    "state_range = state_max - state_min\n",
    "normalized_state = (all_state - state_min) / state_range * 2 - 1\n",
    "normalized_next_state = (all_next_state - state_min) / state_range * 2 - 1\n",
    "# print(normalized_next_state.min(0), normalized_next_state.max(0))\n",
    "all_action = original_replay_buffer.action[:length]\n",
    "action_min = all_action.min()\n",
    "action_max = all_action.max()\n",
    "action_range = action_max - action_min\n",
    "normalized_action = (all_action - action_min) / action_range * 2 - 1\n",
    "# for i in range(state_dim):\n",
    "#     print(all_action[:100,i])\n",
    "#     plt.hist(all_action[:, i], bins=100)\n",
    "#     plt.show()\n",
    "for i in range(200):\n",
    "    print(all_action[i].max(), end=' ')\n",
    "####ACTION"
   ]
  },
  {
   "cell_type": "code",
   "execution_count": null,
   "metadata": {},
   "outputs": [],
   "source": [
    "shuffle_idx = np.arange(length)\n",
    "np.random.shuffle(shuffle_idx)\n",
    "train_idx = shuffle_idx[:int(length*0.8)]\n",
    "test_idx = shuffle_idx[int(length*0.8):]\n",
    "train_state = torch.FloatTensor(normalized_state[train_idx])\n",
    "train_action = torch.FloatTensor(normalized_action[train_idx])\n",
    "train_next_state = torch.FloatTensor(normalized_next_state[train_idx])\n",
    "train_task = torch.Tensor(original_replay_buffer.task[train_idx])\n",
    "train_next_task = torch.Tensor(original_replay_buffer.next_task[train_idx])\n",
    "train_reward = torch.zeros((train_state.shape[0], 1))\n",
    "train_done = torch.zeros((train_state.shape[0], 1))\n",
    "train_buffer_state_dict = {'state': train_state, \n",
    "                           'action': train_action, \n",
    "                           'next_state': train_next_state, \n",
    "                           'reward': train_reward, \n",
    "                           'done': train_done, \n",
    "                           'task': train_task, \n",
    "                           'next_task': train_next_task,\n",
    "                           'size': len(train_idx),\n",
    "                           'ptr': 0}\n",
    "test_state = torch.FloatTensor(normalized_state[test_idx])\n",
    "test_action = torch.FloatTensor(normalized_action[test_idx])\n",
    "test_next_state = torch.FloatTensor(normalized_next_state[test_idx])\n",
    "test_task = torch.Tensor(original_replay_buffer.task[test_idx])\n",
    "test_next_task = torch.Tensor(original_replay_buffer.next_task[test_idx])\n",
    "test_reward = torch.zeros((test_state.shape[0], 1))\n",
    "test_done = torch.zeros((test_state.shape[0], 1))\n",
    "test_buffer_state_dict = {'state': test_state, \n",
    "                          'action': test_action, \n",
    "                          'next_state': test_next_state, \n",
    "                          'reward': test_reward, \n",
    "                          'done': test_done, \n",
    "                          'task': test_task, \n",
    "                          'next_task': test_next_task,\n",
    "                          'size': len(test_idx),\n",
    "                          'ptr': 0}\n",
    "\n"
   ]
  },
  {
   "cell_type": "code",
   "execution_count": null,
   "metadata": {},
   "outputs": [],
   "source": [
    "torch.save(train_buffer_state_dict, './kms/train_buffer_state_dict.pth')\n",
    "torch.save(test_buffer_state_dict, './kms/test_buffer_state_dict.pth')\n",
    "print(train_state.shape, test_state.shape)"
   ]
  },
  {
   "cell_type": "code",
   "execution_count": null,
   "metadata": {},
   "outputs": [],
   "source": [
    "normalize_dict = {\n",
    "    'state_min': state_min,\n",
    "    'state_max': state_max,\n",
    "    'action_min': action_min,\n",
    "    'action_max': action_max\n",
    "}\n",
    "torch.save(normalize_dict, './kms/normalize_dict.pth')"
   ]
  },
  {
   "cell_type": "code",
   "execution_count": null,
   "metadata": {},
   "outputs": [],
   "source": [
    "task_all = original_replay_buffer.task\n",
    "freq = np.zeros((int(task_all.max()), ))\n",
    "print(len(freq))\n",
    "for i in range(len(freq)):\n",
    "    freq[i] = len(task_all[task_all == i])\n",
    "print(np.argsort(freq))"
   ]
  },
  {
   "cell_type": "code",
   "execution_count": null,
   "metadata": {},
   "outputs": [],
   "source": [
    "state_dim = 54\n",
    "action_dim = 54\n",
    "n_task = 60\n",
    "original_replay_buffer = buffer.ReplayBuffer(state_dim, action_dim, 100000, 'cuda:0')\n",
    "test_buffer_path = f'./data/replay_buffer_18body_normalized_new.pth'\n",
    "original_replay_buffer.load_state_dict(torch.load(test_buffer_path))\n",
    "\n",
    "state_all, action_all, next_state_all, task_all, next_task_all, reward_all, done_all = \\\n",
    "    original_replay_buffer.state, original_replay_buffer.action, original_replay_buffer.next_state, original_replay_buffer.task,\\\n",
    "    original_replay_buffer.next_task, original_replay_buffer.reward, original_replay_buffer.done\n",
    "\n",
    "length = original_replay_buffer.size\n",
    "print(length)\n",
    "syllable_idx = np.arange(length)\n",
    "np.random.shuffle(syllable_idx)\n",
    "train_idx = torch.tensor(syllable_idx[:int(0.8*length)])\n",
    "test_idx = torch.tensor(syllable_idx[int(0.8*length):])\n",
    "print(len(train_idx), len(test_idx))\n",
    "train_buffer = buffer.ReplayBuffer(state_dim, action_dim, 100000, 'cuda:0')\n",
    "test_buffer = buffer.ReplayBuffer(state_dim, action_dim, 100000, 'cuda:0')\n",
    "for key in original_replay_buffer.state_dict().keys():\n",
    "    if key != 'ptr' and key != 'size':\n",
    "        print(key)\n",
    "        train_buffer.__setattr__(key, original_replay_buffer.__getattribute__(key)[train_idx])\n",
    "        test_buffer.__setattr__(key, original_replay_buffer.__getattribute__(key)[test_idx])\n",
    "train_buffer.size = len(train_idx)\n",
    "test_buffer.size = len(test_idx)\n",
    "print(train_buffer.size, test_buffer.size)\n",
    "train_buffer_path = './data/replay_buffer_18body_normalized_new_train.pth'\n",
    "test_buffer_path = './data/replay_buffer_18body_normalized_new_test.pth'\n",
    "torch.save(train_buffer.state_dict(), train_buffer_path)\n",
    "torch.save(test_buffer.state_dict(), test_buffer_path)\n",
    "print('Save')"
   ]
  },
  {
   "cell_type": "code",
   "execution_count": null,
   "metadata": {},
   "outputs": [],
   "source": []
  },
  {
   "cell_type": "code",
   "execution_count": null,
   "metadata": {},
   "outputs": [],
   "source": [
    "def load_rat7m():\n",
    "    state_dim = 8\n",
    "    action_dim = 8\n",
    "    replay_buffer = buffer.ReplayBuffer(state_dim, action_dim, 1000000)\n",
    "    replay_buffer_path = f'../../rat7m/replay_buffer_3sigma_tanh.pth'\n",
    "    replay_buffer.load_state_dict(torch.load(replay_buffer_path))\n",
    "    print(f'Replay buffer loaded from {replay_buffer_path}')\n",
    "    return replay_buffer, state_dim, action_dim\n",
    "original_replay_buffer, state_dim, action_dim = load_rat7m()\n",
    "print(original_replay_buffer.state[:5], original_replay_buffer.action[:5])"
   ]
  },
  {
   "cell_type": "code",
   "execution_count": null,
   "metadata": {},
   "outputs": [],
   "source": [
    "matrix_notxyz = np.load('./figure/rat7m/spedersac/dim64_sa_sp_buffer_20body_normalized_lasso_1e-2/0/ig_matrix_agg.npy')\n",
    "matrix_xyz = np.load('./figure/rat7m/spedersac/dim64_sa_sp_buffer_20body_normalzied_lasso1e-2_xyz_group/0/ig_matrix_agg.npy')\n",
    "corr = np.corrcoef(matrix_notxyz.flatten(), matrix_xyz.flatten())[0, 1]\n",
    "print(corr)"
   ]
  },
  {
   "cell_type": "code",
   "execution_count": null,
   "metadata": {},
   "outputs": [],
   "source": [
    "import torch\n",
    "\n",
    "phi_hidden_dim = 10\n",
    "input_dim = 9  # suppose we have 2 groups, each with xyz => 2*3=6\n",
    "W = torch.randn(phi_hidden_dim, input_dim)\n",
    "\n",
    "# Original approach\n",
    "W_orig = W.reshape(phi_hidden_dim, input_dim//3, 3)\n",
    "orig_lasso = torch.sqrt(W_orig.pow(2).sum(dim=0).sum(dim=-1)).sum()\n",
    "\n",
    "# New approach\n",
    "W_t = W.T.reshape(-1, phi_hidden_dim*3)\n",
    "new_lasso = torch.norm(W_t, dim=1).sum()\n",
    "\n",
    "print(\"orig_lasso =\", orig_lasso.item())\n",
    "print(\"new_lasso  =\", new_lasso.item())"
   ]
  },
  {
   "cell_type": "code",
   "execution_count": null,
   "metadata": {},
   "outputs": [],
   "source": [
    "state_name = ['HeadF','HeadB','HeadL','SpineF','SpineM',\n",
    "                'SpineL','HipL','HipR','ElbowL','ArmL',\n",
    "                'ShoulderL','ShoulderR','ElbowR','ArmR','KneeR',\n",
    "                'KneeL','ShinL','ShinR']\n",
    "# When I transfer the skeleton into edges, Please refer to the following skeleton.\n",
    "\n",
    "state_name = ['HeadF','HeadB','HeadL','SpineF','SpineM',\n",
    "              'SpineL','HipL','HipR','ElbowL','ArmL',\n",
    "              'ShoulderL','ShoulderR','ElbowR','ArmR','KneeR',\n",
    "              'KneeL','ShinL','ShinR']\n",
    "\n",
    "skeleton = [('HeadF', 'HeadB'), ('HeadF', 'HeadL'), ('HeadB', 'HeadL'),\n",
    "            ('HeadB', 'SpineF'), ('HeadL', 'SpineF'), ('SpineF', 'SpineM'),\n",
    "            ('SpineM', 'SpineL'), ('SpineF', 'ShoulderL'), ('ShoulderL', 'ElbowL'),\n",
    "            ('ElbowL', 'ArmL'), ('SpineF', 'ShoulderR'), ('ShoulderR', 'ElbowR'),\n",
    "            ('ElbowR', 'ArmR'), ('SpineM', 'HipL'), ('HipL', 'KneeL'),\n",
    "            ('KneeL', 'ShinL'), ('SpineM', 'HipR'), ('HipR', 'KneeR'),\n",
    "            ('KneeR', 'ShinR')]\n",
    "edges = []\n",
    "for i in skeleton:\n",
    "  edges.append((state_name.index(i[0]), state_name.index(i[1])))\n",
    "\n",
    "import joblib\n",
    "import numpy as np\n",
    "import matplotlib.pyplot as plt\n",
    "pca = joblib.load('./pca.p')\n",
    "print(pca)"
   ]
  },
  {
   "cell_type": "code",
   "execution_count": null,
   "metadata": {},
   "outputs": [],
   "source": [
    "def center_embedding(n):\n",
    "    \"\"\"\n",
    "    Generates a matrix ``Gamma`` that maps from a (n-1)-dimensional\n",
    "    vector space  to the space of k-tuples with zero mean\n",
    "\n",
    "    Parameters\n",
    "    ----------\n",
    "    n : int\n",
    "        Number of keypoints.\n",
    "\n",
    "    Returns\n",
    "    -------\n",
    "    Gamma: jax array of shape (n, n - 1)\n",
    "        Matrix to map to centered embedded space.\n",
    "    \"\"\"\n",
    "    X = np.tril(np.ones((n, n)), k=-1)[1:]\n",
    "    X = np.eye(n)[1:] - X / X.sum(1)[:, None]\n",
    "    X = X / np.sqrt((X**2).sum(1))[:, None]\n",
    "    return X.T\n",
    "Gamma = np.array(center_embedding(len(state_name)))\n",
    "\n",
    "ymean = Gamma @ pca.mean_.reshape(len(state_name)-1, -1)\n",
    "ymean[state_name.index('HeadB'), 2] -= 10\n",
    "ymean[state_name.index('HeadF'), 0] += 10\n",
    "ymean[state_name.index('SpineL'), 2] += 20\n",
    "ymean[state_name.index('ShoulderL'), 0] += 20\n",
    "ymean[state_name.index('ElbowL'), 0] += 20\n",
    "ymean[state_name.index('ElbowL'), 2] += 10\n",
    "ymean[state_name.index('ArmL'), 0] += 30\n",
    "ymean[state_name.index('ArmL'), 2] += 10\n",
    "ymean[state_name.index('ArmR'), 0] += 10\n",
    "ymean[state_name.index('HipL'), 2] += 10\n",
    "ymean[state_name.index('HipL'), 0] += 30\n",
    "ymean[state_name.index('KneeL'), 2] += 10\n",
    "ymean[state_name.index('KneeL'), 0] += 30\n",
    "ymean[state_name.index('ShinL'), 2] += 10\n",
    "ymean[state_name.index('ShinL'), 0] += 30\n",
    "ymean[state_name.index('HipR'), 0] -= 10\n",
    "ymean[state_name.index('HipR'), 2] += 10\n",
    "fig, axes = plt.subplots(1, 1, figsize=(4, 4))\n",
    "dims = [0, 2]\n",
    "dims, name = [0,2], 'xz'\n",
    "cmap = plt.cm.get_cmap('viridis')\n",
    "keypoint_colors = cmap(np.linspace(0, 1, len(state_name)))\n",
    "# print(keypoint_colors)\n",
    "n_bodyparts = len(state_name)\n",
    "ig_matrix_agg_xyz = np.load('./figure/rat7m/spedersac/dim64_sa_sp_buffer_20body_normalzied_lasso1e-2_xyz_group/0/ig_matrix_agg.npy')\n",
    "for e in edges:\n",
    "    axes.plot(\n",
    "        *ymean[:, dims][e,:].T,\n",
    "        color=keypoint_colors[e[0]],\n",
    "        linewidth=5.0,\n",
    "        zorder=0)\n",
    "node_colors = ['blue' if ig_matrix_agg_xyz[0, j] < 0 else 'red' for j in range(2*n_bodyparts)]\n",
    "axes.scatter(\n",
    "        *ymean[:, dims].T,\n",
    "        c=node_colors[:n_bodyparts],\n",
    "        s=np.abs(ig_matrix_agg_xyz[0, :n_bodyparts])*120,\n",
    "        zorder=1)\n",
    "axes.axis('off')\n",
    "plt.show()"
   ]
  },
  {
   "cell_type": "code",
   "execution_count": null,
   "metadata": {},
   "outputs": [],
   "source": [
    "np.save('ymean.npy', ymean)"
   ]
  },
  {
   "cell_type": "code",
   "execution_count": null,
   "metadata": {},
   "outputs": [],
   "source": []
  }
 ],
 "metadata": {
  "kernelspec": {
   "display_name": "mixer",
   "language": "python",
   "name": "python3"
  },
  "language_info": {
   "codemirror_mode": {
    "name": "ipython",
    "version": 3
   },
   "file_extension": ".py",
   "mimetype": "text/x-python",
   "name": "python",
   "nbconvert_exporter": "python",
   "pygments_lexer": "ipython3",
   "version": "3.8.19"
  }
 },
 "nbformat": 4,
 "nbformat_minor": 2
}
